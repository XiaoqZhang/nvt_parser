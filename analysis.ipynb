{
 "cells": [
  {
   "cell_type": "code",
   "execution_count": null,
   "metadata": {},
   "outputs": [],
   "source": [
    "%load_ext autoreload\n",
    "%autoreload 2"
   ]
  },
  {
   "cell_type": "code",
   "execution_count": null,
   "metadata": {},
   "outputs": [],
   "source": [
    "import json\n",
    "import numpy as np\n",
    "from pymatgen.core.periodic_table import Element\n",
    "import matplotlib.pyplot as plt"
   ]
  },
  {
   "cell_type": "code",
   "execution_count": null,
   "metadata": {},
   "outputs": [],
   "source": [
    "structure = [\n",
    "    \"ABAVIJ_clean\", \"ABAYIO_clean\", \"ABAYOU_clean\", \"ABEFUL_clean\", \"ABESUX_clean\", \"ABETAE_clean\", \"ABEXEM_clean\", \"ABEXIQ_clean\", \n",
    "    \"ABEXOW_clean\", \"ABEXUC_clean\", \"ABEYAJ_clean\", \"ABEYEN_clean\", \"ABEYIR_clean\", \"ABIXOZ_clean\", \"ABIYIV_clean\", \"ABULOB_clean\", \n",
    "    \"ACAJIZ_clean\", \"ACAKUM_clean\", \"ACECIV_ion_b\", \"ACIBIY_clean\", \"ACMPCD_SL\", \"ACOCOM_clean\", \"ACOCUS_clean\", \"ACODAZ_clean\", \n",
    "    \"ACODON_clean\", \"ACODUT_clean\", \"ACOGAB_clean\", \"ACOGEF_clean\", \"ACOLEL_clean\", \"ACOLIP_clean\", \"ACOLOV_clean\", \"ACUBAB_clean\", \n",
    "    \"ACUFEK_clean\", \"ACUJOZ_manual\", \"ACUTOI_clean\", \"ADABIS_clean\", \"ADABUE_clean\", \"ADARAA_clean\", \"ADASEF_clean\", \"ADASIJ_clean\", \n",
    "    \"ADASOP_clean\", \"ADASUV_clean\", \"ADATAC_clean\", \"ADATEG_manual\", \"ADATOQ_clean\", \"ADATUW_clean\", \"ADAVAE_clean\", \"ADAVEI_clean\", \n",
    "    \"ADAVIM_clean\", \"ADAXEK_clean\", \"ADEGIA01_clean\", \"ADEGIA_clean\", \"ADOBIF_clean\", \"ADOCEC_clean\", \"ADODII_clean\", \"ADODOO_clean\", \n",
    "    \"ADODUU_clean\", \"ADOGEH_clean\", \"ADUROI_clean\", \"ADUWIH_clean\", \"ADUWON_clean\", \"AFEDIA_clean\", \"AFEJOK_ion_b\", \"AFENEE_clean\", \n",
    "    \"AFIPAH_clean\", \"AFITEP_clean\", \"AFIXAO_clean\", \"AFIXES_clean\", \"AFOQUI_clean\", \"AFOTOF_clean\", \"AFOTUL_clean\", \"AFOVAT_clean\", \n",
    "    \"AFOVEX_clean\", \"AFOVIB_clean\", \"AFOYAW_clean\", \"AFOYEA_clean\", \"AFOYEB_clean\", \"AFOYIE_clean\", \"AFUKET_clean\", \"AFUKIX_clean\", \n",
    "    \"AFUPEX_clean\", \"AGABIU_clean\", \"AGAXOV_clean\", \"AGAYIQ_clean\", \"AGAYOW_clean\", \"AGESIP_clean\", \"AGIMOU_clean\", \"AGIREP_clean\", \n",
    "    \"AGOFEJ_clean\", \"AGONAM_clean\", \"AGONEQ_clean\", \"AGOVOJ_clean\", \"AGUBUA_clean\", \"AGUTUS_clean\", \"AHAMAY_clean\", \"AHIYOH_clean\", \n",
    "    \"AHIYUN_clean\", \"AHOBEG_clean\", \"AHOJUC_clean\", \"AHOKAJ_clean\", \"AHOKIR01_clean\", \"AHOKIR_clean\", \"AHOKOX_clean\", \"AHOZAA_clean\", \n",
    "    \"AHUFIU_clean\", \"AHUTIH01_clean\", \"AHUTIH_clean\", \"AJAKON_clean\", \"AJAYIT_clean\", \"AJIGIL_clean\", \"AJINOY_clean\", \"AJOTEY_clean\", \n",
    "    \"AJOXAA_clean\", \"AJUNOK_clean\", \"AKEDIF_clean\", \"AKOHEO_clean\", \"AKOXIJ_clean\", \"AKUHOD01_clean\", \"AKUHOD03_clean\", \"AKUHOD_clean\", \n",
    "    \"AKUKUO_clean\", \"ALAHUS_clean\", \"ALALUU01_clean\", \"ALALUU_clean\", \"ALAMUW_clean\", \"ALATAK_clean\", \"ALEJAE_clean\", \"ALEJEI_clean\", \n",
    "    \"ALEQIT_clean\", \"ALIBUT_clean\", \"ALICAA_clean\", \"ALIPEQ_clean\", \"ALIXAU_clean_h\", \"ALIXOJ_clean\", \"ALOLES_ion_b\", \"ALOLIY_clean\", \n",
    "    \"ALONEV_clean\", \"ALUJEX_clean\", \"ALUJIB_clean\", \"ALUJOH_clean\", \"ALUJUN_clean\", \"ALUKAU_clean\", \"ALUKIC_clean\", \"ALUKOI_clean\", \n",
    "    \"ALUKUO_clean\", \"ALULAV_clean\", \"ALULEZ_clean\", \"ALULID_clean\", \"ALURAB_clean\", \"ALUREF_clean\", \"AMAFOK_clean\", \"AMALND_clean\", \n",
    "    \"AMIKOX_clean\", \"AMILOY_clean\", \"AMILUE_clean\", \"AMIMAL_clean\", \"AMIMEP_clean\", \"AMIWID_clean\", \"AMIWOJ_clean\", \"AMIWUP_clean\", \n",
    "    \"AMIXAW_clean\", \"AMIXEA_clean\", \"AMIZIG_clean\", \"AMIZON01_clean\", \"AMODUC_clean\", \"AMOFAK_clean\", \"AMOZAE_clean\", \"AMUFAR_clean\", \n",
    "    \"AMUFEV_clean\", \"AMUFIZ_clean\", \"AMUFOF_clean\", \"AMUPOP_clean\", \"AMUWUB_clean\", \"ANAWIX_clean\", \"ANEHEI_clean\", \"ANENEN_clean\", \n",
    "    \"ANENIR_clean\", \"ANEPIT_clean\", \"ANIDIL_clean\", \"ANOMOG_clean\", \"ANOMUM_clean\", \"ANONAT_manual\", \"ANUGEW_clean\", \"ANUGIA_clean\", \n",
    "    \"ANUGOG_clean\", \"APACAX_clean\", \"APAGIJ_clean\", \"APARAM_clean\", \"APAYIB_clean\", \"APAYOH_clean\", \"APAYUN_clean\", \"APAZAU_clean\", \n",
    "    \"APAZEY_clean\", \"APAZIC_clean\", \"APEBED_clean\", \"APEBEE_clean\", \"APEBII_clean\", \"APEBOO_clean\", \"APETAS_clean\", \"APUPEH_clean\", \n",
    "    \"AQALIO_clean\", \"AQALOU_clean\", \"AQEFOS_clean\", \"AQEFUY_clean\", \"AQEGUY_clean\", \"AQEQES_clean\", \"AQERUL_clean\", \"AQETIA_clean\", \n",
    "    \"AQETUM_clean\", \"AQIQAU_clean\", \"AQIQIC_clean\", \"AQIXUU_clean\", \"AQIXUV_clean\", \"AQMAND01_clean\", \"AQMAND_clean\", \"AQODOA_clean\", \n",
    "    \"AQOLEZ_clean\", \"AQOLID_clean\", \"AQOLOJ_clean\", \"AQOLUP_clean\", \"AQOMAW_clean\", \"AQOMEA01_clean\", \"AQOMEA_clean\", \"AQOSEG_clean\", \n",
    "    \"AQOTIK_clean\", \"AQUCOF_clean\", \"AQUCOG_clean\", \"AQUCUM_clean\", \"AQUDAS_clean\", \"AQUDAT_clean\", \"AQUDEX_clean\", \"AQUDIB_clean\", \n",
    "    \"AQUDOH_clean\", \"AQUKII_clean\", \"ARAFEF_clean\", \"ARAFIJ_clean\", \"ARAFOP_clean\", \"ARAHIM01_clean\", \"ARAHIM02_clean\", \"ARAHIM_clean\", \n",
    "    \"ARIDIQ_clean\", \"ARINOF_clean\", \"ARINUL_clean\", \"AROFAP_clean\", \"AROFET_clean\", \"ARUCOH01_clean\", \"ARUCUN_clean\", \"ARUDAU_clean\", \n",
    "    \"ARUJED_clean\", \"ARUYOB_clean\", \"ARUYUH01_clean\", \"ARUYUH_clean\", \"ASACON_clean\", \"ASADAA_clean\", \"ASAHEJ_clean\", \"ASAJOU_clean\", \n",
    "    \"ASALAH_clean\", \"ASALIP_clean\", \"ASALOV_clean\", \"ASAMUE_clean\", \"ASANAL_clean\", \"ASECUY_clean\", \"ASEJOZ01_clean\", \"ASEJOZ_clean\", \n",
    "    \"ASEKAM_clean\", \"ASINAT_clean\", \"ASINEX_clean\", \"ASIQEA_clean\", \"ASIQIE_clean\", \"ASIRUR_clean\", \"ASIVAB_clean\", \"ASIVEF_clean\", \n",
    "    \"ASOHUL_clean\", \"ASUBIB_clean\", \"ASUKEE01_clean\", \"ASUKEE_clean\", \"ATAYAX_clean\", \"ATAYEB_clean\", \"ATEJOA_clean\", \"ATEYED_clean\", \n",
    "    \"ATEYOP_clean\", \"ATEYUV_clean\", \"ATEZAC_clean\", \"ATEZEG_clean\", \"ATEZIK_clean\", \"ATIBAG_clean\", \"ATIBIO_clean\", \"ATIBOU01_clean\", \n",
    "    \"ATIBOU02_clean\", \"ATIBOU_clean\", \"ATIBUA_clean\", \"ATICAH_clean\", \"ATICEL_clean\", \"ATIJUJ_manual\", \"ATIXAE_clean\", \"ATOGEV_clean\", \n",
    "    \"ATOWIQ_clean\", \"ATOWOW_clean\", \"ATULIM_clean\", \"ATUXIY_clean\", \"ATUXOE_clean\", \"ATUXUK_clean\", \"ATUZEW_clean\", \"AVAGIP_clean\", \n",
    "    \"AVAGOV_clean\", \"AVAGUB_clean\", \"AVAJUE_clean\", \"AVAKAL_clean\", \"AVAKEP_clean\", \"AVALEO_clean\", \"AVAQIX01_clean\", \"AVAQIX_clean\", \n",
    "    \"AVELOD_clean\", \"AVELUJ_clean\", \"AVEMAQ_clean\", \"AVESAW_clean\", \"AVESOL_clean\", \"AVESUR_clean\", \"AVETAY_clean\", \"AVETEC_clean\", \n",
    "    \"AVETOM_clean\", \"AVEVEE_clean\", \"AVIHIY_clean\", \"AVIHOE_clean\", \"AVILEY_clean\", \"AVIMIC_clean\", \"AVIMOI_clean\", \"AVIMUO_clean\", \n",
    "    \"AVIPAX_clean\", \"AVIPOL_clean\", \"AVITUU_clean\", \"BABREE_clean\", \"BACGAQ_clean\", \"BACMOH10_clean\", \"BACMOH_clean\", \"BADHIA_clean\", \n",
    "    \"BADHOG_clean\", \"BADHUM01_clean\", \"BADHUM_clean\", \"BADJAU_clean\", \"BADJIC_clean\", \"BADXAI_clean\", \"BADYAJ_clean\", \"BAEDTA01_clean\", \n",
    "    \"BAFCAP_clean\", \"BAFHAU_clean\", \"BAHGUN01_clean\", \"BAHGUN02_clean\", \"BAHGUN03_clean\", \"BAHGUN04_clean\", \"BAHGUN_clean\", \"BAHMAZ_clean\", \n",
    "    \"BAKFAV_clean\", \"BAKGAX_clean\", \"BAKGIF_manual\", \"BAKJEE_clean\", \"BAKJII_clean\", \"BAKLIK_clean\", \"BAKYIY_clean\", \"BALMUW01_clean\", \n",
    "    \"BALMUW_clean\", \"BALPAH_clean\", \"BALPEL_clean\", \"BALPIP_clean\", \"BAMKIM_clean\", \"BAMKOS_clean\", \"BANMAG_clean\", \"BAQWEY_clean\", \n",
    "    \"BAQWIC_clean\", \"BAQWOI_clean\", \"BARJEM_clean\", \"BARZAW_clean\", \"BARZIE_clean\", \"BARZUR_clean\", \"BASSOF_clean\", \"BASSUL_clean\", \n",
    "    \"BASTAS_clean\", \"BASTEW_clean\", \"BASTIA_clean\", \"BASTUM_clean\", \"BAWRUO_clean\", \"BAXFIR01_clean\", \"BAXFIR02_clean\", \"BAXFUD_clean\", \n",
    "    \"BAXGAK_clean\", \"BAXLOD_clean\", \"BAXSIE_clean\", \"BAYCOU_clean\", \"BAYCUA_clean\", \"BAZFUF01_clean\", \"BAZFUF_clean\", \"BAZGAM_clean\", \n",
    "    \"BAZGEQ_clean\", \"BAZJET_clean\", \"BAZJIX_clean\", \"BEDYEQ_clean\", \"BEFKUU_clean\", \"BEFLAB01_clean\", \"BEFLEF_clean\", \"BEFLIJ_clean\", \n",
    "    \"BEFLUV_clean\", \"BEFMAC_clean\", \"BEFMOQ_clean\", \"BEFMUW_clean\", \"BEFNAD_clean\", \"BEFNEH_clean\", \"BEFNIL_clean\", \"BEFNOR_clean\", \n",
    "    \"BEFNUX_clean\", \"BEFPAF_clean\", \"BEGBOG_clean\", \"BEGDEY_clean\", \"BEJZAS_clean\", \"BEKSAM_clean\", \"BEKYOG01_clean\", \"BEKYOG_clean\", \n",
    "    \"BEKYUM_clean\", \"BEKZEX01_clean\", \"BEKZEX_clean\", \"BELJIL_clean\", \"BELTOD_clean\", \"BELTUJ_clean\", \"BELYIC_clean\", \"BENXUP_clean\", \n",
    "    \"BENZOL_clean\", \"BENZUR_clean\", \"BEPBAB_clean\", \"BEPLUF_clean\", \"BEPMAM_clean\", \"BEPMIU_clean\", \"BEPNER_clean\", \"BEPNIV_clean\", \n",
    "    \"BEPNOB_clean\", \"BEPNUH_clean\", \"BEPPAP_clean\", \"BEPPIX_clean\", \"BEPPOD_clean\", \"BEPREV01_clean\", \"BEPREV02_clean\", \"BEPREV03_clean\", \n",
    "    \"BEPREV_clean\", \"BEPRIZ_clean\", \"BEPROF_clean\", \"BEPVAV_clean\", \"BEPVEZ_clean\", \"BEPVID_clean\", \"BEPVOJ01_clean\", \"BEPVOJ_clean\", \n",
    "    \"BEPWEA_clean\", \"BERFIP_clean\", \"BERGAI_clean\", \"BERQIA_clean\", \"BETDAH_clean\", \"BETDEL_clean\", \"BETDIP_clean\", \"BETDOV_clean\", \n",
    "    \"BETDUB_clean\", \"BETFAJ_clean\", \"BETFEN_clean\", \"BETFIR_clean\", \"BETFOX_clean\", \"BETFUD_clean\", \"BETGEO_clean\", \"BETGIS_clean\", \n",
    "    \"BETGOY_clean\", \"BETGUE_clean\", \"BETHEP_clean\", \"BETZOR_clean\", \"BEVQID_clean\", \"BEVQUP_clean\", \"BEVRAW_clean\", \"BEVWAB_clean\", \n",
    "    \"BEWCUD_clean\", \"BEWVEG_clean\", \"BEWVOQ_clean\", \"BEWWEH_clean\", \"BEXPAX_clean\", \"BEXQIF_clean\", \"BEXQOL_clean\", \"BEXQUR_clean\", \n",
    "    \"BEXRAY_clean\", \"BEXREC_clean\", \"BEXRIG_clean\", \"BEXRUT_clean\", \"BEXSAA_clean\", \"BEXSEE_clean\", \"BEXSII_clean\", \"BEXTUV_clean\", \n",
    "    \"BEXVAD01_clean\", \"BEXVAD_clean\", \"BEXVEH_clean\", \"BEXVIL_clean\", \"BEYKEX_clean\", \"BEYSEF_clean\", \"BEZSIK_clean\", \"BIBBUL_clean\", \n",
    "    \"BIBMAC_clean\", \"BIBMEG_clean\", \"BIBMIK_clean\", \"BIBXIV_clean\", \"BIBXOB_clean\", \"BIBXUH_clean\", \"BIBYAO_clean\", \"BICPOT_clean\", \n",
    "    \"BICPUA_clean\", \"BIDPOV_clean\", \"BIFGOO_clean\", \"BIFKEI_clean\", \"BIGZUO_clean\", \"BIHBAX_clean\", \"BIHBEB_clean\", \"BIHMUC_clean\", \n",
    "    \"BIHRER_clean\", \"BIJDUV_clean\", \"BIJFAD_clean\", \"BIJJOV_clean\", \"BIMDEF_clean\", \"BIMDIL_clean\", \"BINCUY_manual\", \"BINDAF_manual\", \n",
    "    \"BINMIW_clean\", \"BINROH_clean\", \"BINRUN_clean\", \"BIPBAF_clean\", \"BIPKIW_clean\", \"BIPLIX_clean\", \"BIPSUQ_clean\", \"BIQFOW_clean\", \n",
    "    \"BIQHEQ_clean\", \"BIQRIE_clean\", \"BIQVII_clean\", \"BIRGIU_clean\", \"BIRLIZ_clean\", \"BIRMUM_clean\", \"BIRSEC_clean\", \"BIRSIG_clean\", \n",
    "    \"BIWHAQ_clean\", \"BIWSEG_ion_b\", \"BIWSIK_ion_b\", \"BIWSOQ_clean\", \"BIWYAH10_clean\", \"BIXCOC_clean\", \"BIXXIR_clean\", \"BIXYEO_clean\", \n",
    "    \"BIYSUZ_clean\", \"BIYTAG_clean\", \"BIYTOU_clean\", \"BIYVEM_clean\", \"BIYVIQ_clean\", \"BIZLUT_clean\", \"BIZMAA_clean\", \"BIZMEE_clean\", \n",
    "    \"BIZMII_clean\", \"BOCKOT_clean\", \"BOCTEU01_clean\", \"BOCTOE01_clean\", \"BOCTOE02_clean\", \"BOCTOE03_clean\", \"BOCTOE04_clean\", \n",
    "    \"BOCTOE05_clean\", \"BOCTOE_clean\", \"BOFBII_clean\", \"BOFGUZ_clean\", \"BOFLIS_clean\", \"BOHGOU_clean\", \"BOHJOZ_auto\", \"BOHWOM_clean\", \n",
    "    \"BOHXIH_clean\", \"BOJCIN_clean\", \"BOJDAG_clean\", \"BOJYIK01_clean\", \"BOJYIK_clean\", \"BOLPAU_clean\", \"BOLPEY_clean\", \"BOLZIN_clean\", \n",
    "    \"BOMCOX_clean\", \"BONNIC_clean\", \"BONWAD_clean\", \"BONWIL_clean\", \"BOPHEV_clean\", \"BOPWIO_clean\", \"BOQYUD_clean\", \"BORBEQ_clean\", \n",
    "    \"BOSHIC_clean\", \"BOSZOA_clean\", \"BOTLED_clean\", \"BOWDIC_clean\", \"BOWJAA_clean\", \"BOWQAG_SL\", \"BOWRAH_clean\", \"BOWSOW_clean\", \n",
    "    \"BOWSUC_clean\", \"BOWZUK_clean\", \"BOXFOK_clean\", \"BOXYEU_clean\", \"BOYCEY_auto\", \"BOYTEQ_clean\", \"BOYYOF_clean\", \"BOZFON_clean\", \n",
    "    \"BOZZOH_clean\", \"BUBQOE_clean\", \"BUBTUP_clean\", \"BUCPAS_clean\", \"BUCPEW_clean\", \"BUCSAU_clean\", \"BUCSEY_clean\", \"BUCSIC01_clean\", \n",
    "    \"BUCVAY_clean\", \"BUCYAA_clean\", \"BUDDIO_clean\", \"BUGSAY_clean\", \"BUGSEC_clean\", \"BUGSIG_clean\", \"BUGSOM_clean\", \"BUJKEW01_clean\", \n",
    "    \"BUKMEA_clean\", \"BUKRUW01_clean\", \"BUKRUW02_clean\", \"BUKRUW03_clean\", \"BULBER_clean\", \"BUNKUS_clean\", \"BUNLAZ_clean\", \"BUPDOH_clean\", \n",
    "    \"BUPDUM_clean\", \"BUPFAU_clean\", \"BUPVEP_clean\", \"BURHUS_clean\", \"BURJOO_clean\", \"BUSGIG_clean\", \"BUSGOM_clean\", \"BUSQEM_clean\", \n",
    "    \"BUSQUC_clean\", \"BUSSEP_clean\", \"BUSTAM_clean\", \"BUVHEH_clean\", \"BUVKUA_clean\", \"BUVVIZ_clean\", \"BUVVOF_clean\", \"BUVWOF02_clean\", \n",
    "    \"BUVWOF03_clean\", \"BUVXOG_clean\", \"BUVYEX_clean\", \"BUVYIB01_clean\", \"BUVYIB_clean\", \"BUWLUC_clean\"\n",
    "]"
   ]
  },
  {
   "cell_type": "code",
   "execution_count": 3,
   "metadata": {},
   "outputs": [],
   "source": [
    "structure = [\"ABIXOZ_clean\"]"
   ]
  },
  {
   "cell_type": "code",
   "execution_count": null,
   "metadata": {},
   "outputs": [],
   "source": [
    "key_count = {}\n",
    "for stru in structure:\n",
    "    with open(\"weight_json/%s.json\" %stru) as file:\n",
    "        lines = json.load(file)\n",
    "    for key in lines.keys():\n",
    "        key_n = key.rstrip(\"0123456789\")\n",
    "        if key_n not in key_count:\n",
    "            key_count.update({key_n: np.array(float(lines[key]))})\n",
    "        else:\n",
    "            key_count[key_n] = np.append(key_count[key_n], float(lines[key]))"
   ]
  },
  {
   "cell_type": "code",
   "execution_count": null,
   "metadata": {},
   "outputs": [],
   "source": [
    "key_count"
   ]
  },
  {
   "cell_type": "code",
   "execution_count": null,
   "metadata": {},
   "outputs": [],
   "source": [
    "key_count = {}"
   ]
  },
  {
   "cell_type": "code",
   "execution_count": null,
   "metadata": {},
   "outputs": [],
   "source": [
    "for key in lines.keys():\n",
    "    key_n = key.rstrip(\"0123456789\")\n",
    "    if key_n not in key_count:\n",
    "        key_count.update({key_n: np.array(float(lines[key]))})\n",
    "    else:\n",
    "        key_count[key_n] = np.append(key_count[key_n], float(lines[key]))"
   ]
  },
  {
   "cell_type": "code",
   "execution_count": null,
   "metadata": {},
   "outputs": [],
   "source": [
    "ele = [key for key in key_count.keys()]\n",
    "data = [key_count[key] for key in key_count.keys()]\n",
    "pos = np.arange(len(ele))"
   ]
  },
  {
   "cell_type": "code",
   "execution_count": null,
   "metadata": {},
   "outputs": [],
   "source": [
    "fs = 15  # fontsize\n",
    "\n",
    "fig, axs = plt.subplots(nrows=1, ncols=1, figsize=(10, 6))\n",
    "\n",
    "axs.violinplot(data, pos, widths=0.3,\n",
    "                     showmeans=True, showextrema=True, showmedians=True)\n",
    "axs.plot([0,len(ele)-1], [0, 0], linestyle='dashed')\n",
    "axs.set_xticks(np.arange(len(ele)))\n",
    "axs.set_xticklabels(ele)\n",
    "axs.tick_params(labelsize=fs, labelrotation=45)\n",
    "axs.set_ylabel(\"weight\", fontdict={\"fontsize\": 20})"
   ]
  },
  {
   "cell_type": "markdown",
   "metadata": {},
   "source": [
    "# Adjust the weight order"
   ]
  },
  {
   "cell_type": "code",
   "execution_count": null,
   "metadata": {},
   "outputs": [],
   "source": [
    "import pandas as pd\n",
    "import json"
   ]
  },
  {
   "cell_type": "code",
   "execution_count": null,
   "metadata": {},
   "outputs": [],
   "source": [
    "def read_framework(structure):\n",
    "    with open(\"%s/%s.cif\" %(structure,structure)) as f_framework:\n",
    "        f_framework_lines = f_framework.readlines()\n",
    "        f_framework_lines = f_framework_lines[23:]\n",
    "        df_framework = pd.DataFrame([line.split() for line in f_framework_lines], \n",
    "                                    columns=['atom', 'label', 'x', 'y', 'z', 'charge'])\n",
    "        df_framework.drop(columns=['x', 'y', 'z', 'charge'], inplace=True)       \n",
    "        \n",
    "        # label the atoms in the framework here\n",
    "        element = df_framework['atom'].unique().tolist()\n",
    "        element_count = [0] * len(element)\n",
    "        for atom_idx in range(len(df_framework)):\n",
    "            for ele_idx in range(len(element)):\n",
    "                if df_framework['atom'][atom_idx] == element[ele_idx]:\n",
    "                    element_count[ele_idx] += 1\n",
    "                    df_framework.loc[atom_idx, ('label')] = df_framework.loc[atom_idx, ('label')] + str(element_count[ele_idx])\n",
    "\n",
    "    return df_framework"
   ]
  },
  {
   "cell_type": "code",
   "execution_count": null,
   "metadata": {},
   "outputs": [],
   "source": [
    "for struc in structure:\n",
    "    struc = struc\n",
    "cif_df = read_framework(struc)"
   ]
  },
  {
   "cell_type": "code",
   "execution_count": null,
   "metadata": {},
   "outputs": [],
   "source": [
    "with open('weight_json/%s.json' %struc) as json_file:\n",
    "    weight_dict = json.load(json_file)"
   ]
  },
  {
   "cell_type": "code",
   "execution_count": null,
   "metadata": {},
   "outputs": [],
   "source": [
    "cif_weight = [weight_dict[idx] for idx in cif_df[\"label\"]]"
   ]
  },
  {
   "cell_type": "markdown",
   "metadata": {},
   "source": [
    "# Visualize cif"
   ]
  },
  {
   "cell_type": "code",
   "execution_count": 1,
   "metadata": {},
   "outputs": [],
   "source": [
    "from ase_notebook import AseView, ViewConfig\n",
    "import ase.io"
   ]
  },
  {
   "cell_type": "code",
   "execution_count": 5,
   "metadata": {},
   "outputs": [],
   "source": [
    "for struc in structure:\n",
    "    struc = struc\n",
    "atoms = ase.io.read('nvt_results/%s/%s.cif' %(struc, struc))"
   ]
  },
  {
   "cell_type": "code",
   "execution_count": 6,
   "metadata": {},
   "outputs": [
    {
     "data": {
      "text/plain": [
       "Atoms(symbols='Co3Mo12O52P8', pbc=True, cell=[[12.7846, 0.0, 0.0], [5.814619581076327, 11.437977370906262, 0.0], [6.191631538083347, 3.7594688389265376, 14.2593314231682]], spacegroup_kinds=...)"
      ]
     },
     "execution_count": 6,
     "metadata": {},
     "output_type": "execute_result"
    }
   ],
   "source": [
    "atoms"
   ]
  },
  {
   "cell_type": "code",
   "execution_count": null,
   "metadata": {},
   "outputs": [],
   "source": [
    "radii = np.hstack(data) / 62"
   ]
  },
  {
   "cell_type": "code",
   "execution_count": null,
   "metadata": {},
   "outputs": [],
   "source": [
    "config = ViewConfig()\n",
    "config.element_radii = \"custom\"\n",
    "config.atom_font_size=16\n",
    "config.axes_length=30\n",
    "config.canvas_size=(900, 900)\n",
    "config.zoom=1.5\n",
    "config.show_bonds=True"
   ]
  },
  {
   "cell_type": "code",
   "execution_count": null,
   "metadata": {},
   "outputs": [],
   "source": [
    "ase_view = AseView(config, radii=radii)"
   ]
  },
  {
   "cell_type": "code",
   "execution_count": null,
   "metadata": {},
   "outputs": [],
   "source": [
    "'''\n",
    "ase_view = AseView(\n",
    "    element_radii = \"custom\",\n",
    "    atom_font_size=16,\n",
    "    axes_length=30,\n",
    "    canvas_size=(900, 900),\n",
    "    zoom=1.5,\n",
    "    show_bonds=True,   \n",
    ")\n",
    "'''\n",
    "ase_view.config.canvas_color_background = \"green\"\n",
    "ase_view.config.canvas_background_opacity = 0.2"
   ]
  },
  {
   "cell_type": "code",
   "execution_count": null,
   "metadata": {},
   "outputs": [],
   "source": [
    "gui = ase_view.make_render(\n",
    "    atoms, center_in_uc=True)\n",
    "gui"
   ]
  },
  {
   "cell_type": "code",
   "execution_count": null,
   "metadata": {},
   "outputs": [],
   "source": [
    "config2 = ViewConfig()\n",
    "config2.atom_font_size=16\n",
    "config2.axes_length=30\n",
    "config2.canvas_size=(900, 900)\n",
    "config2.zoom=1.5\n",
    "config2.show_bonds=True"
   ]
  },
  {
   "cell_type": "code",
   "execution_count": null,
   "metadata": {},
   "outputs": [],
   "source": [
    "ase_view2 = AseView(config2)"
   ]
  },
  {
   "cell_type": "code",
   "execution_count": null,
   "metadata": {},
   "outputs": [],
   "source": [
    "gui = ase_view2.make_render(\n",
    "    atoms, center_in_uc=True)\n",
    "gui"
   ]
  },
  {
   "cell_type": "code",
   "execution_count": null,
   "metadata": {},
   "outputs": [],
   "source": []
  }
 ],
 "metadata": {
  "kernelspec": {
   "display_name": "Python 3 (ipykernel)",
   "language": "python",
   "name": "python3"
  },
  "language_info": {
   "codemirror_mode": {
    "name": "ipython",
    "version": 3
   },
   "file_extension": ".py",
   "mimetype": "text/x-python",
   "name": "python",
   "nbconvert_exporter": "python",
   "pygments_lexer": "ipython3",
   "version": "3.8.12"
  },
  "vscode": {
   "interpreter": {
    "hash": "8a1315b02a235bf79c68e093ca5453b5ada46ae87871d36c79602fa05a1f3eef"
   }
  }
 },
 "nbformat": 4,
 "nbformat_minor": 2
}
