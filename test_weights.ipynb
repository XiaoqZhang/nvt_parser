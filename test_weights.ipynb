{
 "cells": [
  {
   "cell_type": "code",
   "execution_count": 1,
   "metadata": {},
   "outputs": [],
   "source": [
    "%load_ext autoreload\n",
    "%autoreload 2"
   ]
  },
  {
   "cell_type": "code",
   "execution_count": 2,
   "metadata": {},
   "outputs": [],
   "source": [
    "import os\n",
    "import re\n",
    "import numpy as np \n",
    "import pandas as pd\n",
    "import math\n",
    "\n",
    "from pymatgen.core import Structure, PeriodicSite\n",
    "\n",
    "import matplotlib.pyplot as plt\n",
    "import seaborn as sns"
   ]
  },
  {
   "cell_type": "code",
   "execution_count": 3,
   "metadata": {},
   "outputs": [],
   "source": [
    "ch4_sigma , ch4_epsilon = 3.73, 148"
   ]
  },
  {
   "cell_type": "code",
   "execution_count": 4,
   "metadata": {},
   "outputs": [],
   "source": [
    "structure_list = ['ja403810k_si_003_clean']"
   ]
  },
  {
   "cell_type": "code",
   "execution_count": 5,
   "metadata": {},
   "outputs": [],
   "source": [
    "# Need modification later!!\n",
    "for structure in structure_list:\n",
    "    structure = structure "
   ]
  },
  {
   "cell_type": "markdown",
   "metadata": {},
   "source": [
    "# Data preparation"
   ]
  },
  {
   "cell_type": "markdown",
   "metadata": {},
   "source": [
    "## Get supercell"
   ]
  },
  {
   "cell_type": "code",
   "execution_count": 6,
   "metadata": {},
   "outputs": [],
   "source": [
    "def get_supercell(structure):\n",
    "    with open(\"nvt_results/%s/simulation.input\" %structure, \"r\") as f_input:\n",
    "        for line in f_input:\n",
    "            if re.search(\"UnitCells\", line):\n",
    "                s1, s2, s3 = line.split()[1], line.split()[2], line.split()[3]\n",
    "    supercell = [int(s1), int(s2), int(s3)]\n",
    "    return supercell"
   ]
  },
  {
   "cell_type": "code",
   "execution_count": 7,
   "metadata": {},
   "outputs": [],
   "source": [
    "sc = get_supercell(structure)"
   ]
  },
  {
   "cell_type": "code",
   "execution_count": 8,
   "metadata": {},
   "outputs": [
    {
     "data": {
      "text/plain": [
       "[1, 1, 1]"
      ]
     },
     "execution_count": 8,
     "metadata": {},
     "output_type": "execute_result"
    }
   ],
   "source": [
    "sc"
   ]
  },
  {
   "cell_type": "markdown",
   "metadata": {},
   "source": [
    "## Read force field"
   ]
  },
  {
   "cell_type": "markdown",
   "metadata": {},
   "source": [
    "### Read ff with LB mixing rule"
   ]
  },
  {
   "cell_type": "code",
   "execution_count": 8,
   "metadata": {},
   "outputs": [],
   "source": [
    "uff = pd.read_csv(\"ff_data/uff.csv\")"
   ]
  },
  {
   "cell_type": "code",
   "execution_count": 10,
   "metadata": {},
   "outputs": [
    {
     "data": {
      "text/html": [
       "<div>\n",
       "<style scoped>\n",
       "    .dataframe tbody tr th:only-of-type {\n",
       "        vertical-align: middle;\n",
       "    }\n",
       "\n",
       "    .dataframe tbody tr th {\n",
       "        vertical-align: top;\n",
       "    }\n",
       "\n",
       "    .dataframe thead th {\n",
       "        text-align: right;\n",
       "    }\n",
       "</style>\n",
       "<table border=\"1\" class=\"dataframe\">\n",
       "  <thead>\n",
       "    <tr style=\"text-align: right;\">\n",
       "      <th></th>\n",
       "      <th>Unnamed: 0</th>\n",
       "      <th>element</th>\n",
       "      <th>epsilon</th>\n",
       "      <th>sigma</th>\n",
       "      <th>lb_sigma</th>\n",
       "      <th>lb_epsilon</th>\n",
       "    </tr>\n",
       "  </thead>\n",
       "  <tbody>\n",
       "    <tr>\n",
       "      <th>0</th>\n",
       "      <td>0</td>\n",
       "      <td>Ac</td>\n",
       "      <td>16.6080</td>\n",
       "      <td>3.0985</td>\n",
       "      <td>3.399618</td>\n",
       "      <td>82.30400</td>\n",
       "    </tr>\n",
       "    <tr>\n",
       "      <th>1</th>\n",
       "      <td>1</td>\n",
       "      <td>Ag</td>\n",
       "      <td>18.1178</td>\n",
       "      <td>2.8045</td>\n",
       "      <td>3.234314</td>\n",
       "      <td>83.05890</td>\n",
       "    </tr>\n",
       "    <tr>\n",
       "      <th>2</th>\n",
       "      <td>2</td>\n",
       "      <td>Al</td>\n",
       "      <td>254.1520</td>\n",
       "      <td>4.0082</td>\n",
       "      <td>3.866599</td>\n",
       "      <td>201.07600</td>\n",
       "    </tr>\n",
       "    <tr>\n",
       "      <th>3</th>\n",
       "      <td>3</td>\n",
       "      <td>Am</td>\n",
       "      <td>7.0458</td>\n",
       "      <td>3.0121</td>\n",
       "      <td>3.351885</td>\n",
       "      <td>77.52290</td>\n",
       "    </tr>\n",
       "    <tr>\n",
       "      <th>4</th>\n",
       "      <td>4</td>\n",
       "      <td>Ar</td>\n",
       "      <td>93.1052</td>\n",
       "      <td>3.4460</td>\n",
       "      <td>3.585189</td>\n",
       "      <td>120.55260</td>\n",
       "    </tr>\n",
       "    <tr>\n",
       "      <th>...</th>\n",
       "      <td>...</td>\n",
       "      <td>...</td>\n",
       "      <td>...</td>\n",
       "      <td>...</td>\n",
       "      <td>...</td>\n",
       "      <td>...</td>\n",
       "    </tr>\n",
       "    <tr>\n",
       "      <th>98</th>\n",
       "      <td>98</td>\n",
       "      <td>Xe</td>\n",
       "      <td>167.0861</td>\n",
       "      <td>3.9235</td>\n",
       "      <td>3.825527</td>\n",
       "      <td>157.54305</td>\n",
       "    </tr>\n",
       "    <tr>\n",
       "      <th>99</th>\n",
       "      <td>99</td>\n",
       "      <td>Y</td>\n",
       "      <td>36.2355</td>\n",
       "      <td>2.9801</td>\n",
       "      <td>3.334033</td>\n",
       "      <td>92.11775</td>\n",
       "    </tr>\n",
       "    <tr>\n",
       "      <th>100</th>\n",
       "      <td>100</td>\n",
       "      <td>Yb</td>\n",
       "      <td>114.7458</td>\n",
       "      <td>2.9890</td>\n",
       "      <td>3.339007</td>\n",
       "      <td>131.37290</td>\n",
       "    </tr>\n",
       "    <tr>\n",
       "      <th>101</th>\n",
       "      <td>101</td>\n",
       "      <td>Zn</td>\n",
       "      <td>62.4056</td>\n",
       "      <td>2.4616</td>\n",
       "      <td>3.030143</td>\n",
       "      <td>105.20280</td>\n",
       "    </tr>\n",
       "    <tr>\n",
       "      <th>102</th>\n",
       "      <td>102</td>\n",
       "      <td>Zr</td>\n",
       "      <td>34.7257</td>\n",
       "      <td>2.7832</td>\n",
       "      <td>3.222008</td>\n",
       "      <td>91.36285</td>\n",
       "    </tr>\n",
       "  </tbody>\n",
       "</table>\n",
       "<p>103 rows × 6 columns</p>\n",
       "</div>"
      ],
      "text/plain": [
       "     Unnamed: 0 element   epsilon   sigma  lb_sigma  lb_epsilon\n",
       "0             0      Ac   16.6080  3.0985  3.399618    82.30400\n",
       "1             1      Ag   18.1178  2.8045  3.234314    83.05890\n",
       "2             2      Al  254.1520  4.0082  3.866599   201.07600\n",
       "3             3      Am    7.0458  3.0121  3.351885    77.52290\n",
       "4             4      Ar   93.1052  3.4460  3.585189   120.55260\n",
       "..          ...     ...       ...     ...       ...         ...\n",
       "98           98      Xe  167.0861  3.9235  3.825527   157.54305\n",
       "99           99       Y   36.2355  2.9801  3.334033    92.11775\n",
       "100         100      Yb  114.7458  2.9890  3.339007   131.37290\n",
       "101         101      Zn   62.4056  2.4616  3.030143   105.20280\n",
       "102         102      Zr   34.7257  2.7832  3.222008    91.36285\n",
       "\n",
       "[103 rows x 6 columns]"
      ]
     },
     "execution_count": 10,
     "metadata": {},
     "output_type": "execute_result"
    }
   ],
   "source": [
    "uff"
   ]
  },
  {
   "cell_type": "markdown",
   "metadata": {},
   "source": [
    "## Get gas sites"
   ]
  },
  {
   "cell_type": "code",
   "execution_count": 9,
   "metadata": {},
   "outputs": [],
   "source": [
    "sp_cry = Structure.from_file(\"nvt_results/%s/Movies/System_0/Framework_0_final.vasp\" %structure)\n",
    "un_cry = sp_cry.get_primitive_structure()"
   ]
  },
  {
   "cell_type": "code",
   "execution_count": 10,
   "metadata": {},
   "outputs": [],
   "source": [
    "uc_cry = sp_cry"
   ]
  },
  {
   "cell_type": "code",
   "execution_count": 12,
   "metadata": {},
   "outputs": [],
   "source": [
    "if sc != [1, 1, 1]:\n",
    "    if len(sp_cry.sites) == len(un_cry.sites):\n",
    "        print(\"error!\")"
   ]
  },
  {
   "cell_type": "code",
   "execution_count": 11,
   "metadata": {},
   "outputs": [],
   "source": [
    "site_sigma = [uff.loc[uff[\"element\"] == site.specie.symbol][\"lb_sigma\"].values for site in un_cry.sites]\n",
    "site_epsilon = [uff.loc[uff[\"element\"] == site.specie.symbol][\"lb_epsilon\"].values for site in un_cry.sites]"
   ]
  },
  {
   "cell_type": "code",
   "execution_count": 12,
   "metadata": {},
   "outputs": [],
   "source": [
    "for i in range(len(un_cry.sites)):\n",
    "    un_cry.sites[i].properties = {\"lb_sigma\": site_sigma[i], \"lb_epsilon\": site_epsilon[i], \"weight\": []}"
   ]
  },
  {
   "cell_type": "markdown",
   "metadata": {},
   "source": [
    "### Read molecule movies and get the fractional coordinates in the unit cell"
   ]
  },
  {
   "cell_type": "code",
   "execution_count": 13,
   "metadata": {},
   "outputs": [],
   "source": [
    "with open(\"nvt_results/%s/Movies/System_0/Movie_%s_%d.%d.%d_298.000000_0.000000_allcomponents.pdb\" %(structure, structure, sc[0], sc[1], sc[2])) as file:\n",
    "    data = file.readlines()\n",
    "    atom_pos = np.array([np.array([float(i) for i in line.split()[4:7]]) for line in data if \"ATOM\" in line])"
   ]
  },
  {
   "cell_type": "code",
   "execution_count": 18,
   "metadata": {},
   "outputs": [
    {
     "data": {
      "text/plain": [
       "[]"
      ]
     },
     "execution_count": 18,
     "metadata": {},
     "output_type": "execute_result"
    }
   ],
   "source": [
    "un_cry.get_sites_in_sphere(pt=atom_pos[4], r=threshold)"
   ]
  },
  {
   "cell_type": "code",
   "execution_count": 14,
   "metadata": {},
   "outputs": [],
   "source": [
    "# Get atoms in threshold sphere\n",
    "threshold = 12\n",
    "sphere_sites = np.array([[site for site in un_cry.get_sites_in_sphere(pt=pos, r=threshold)] for pos in atom_pos], dtype=object)"
   ]
  },
  {
   "cell_type": "code",
   "execution_count": 17,
   "metadata": {},
   "outputs": [],
   "source": [
    "# Calculate distance between gas and surrounding framework atoms\n",
    "dist = np.array([np.array([site.distance_from_point(atom_pos[idx]) for site in sphere_sites[idx]]) \n",
    "                    for idx in range(len(atom_pos))], dtype=object)"
   ]
  },
  {
   "cell_type": "code",
   "execution_count": 18,
   "metadata": {},
   "outputs": [],
   "source": [
    "# Calculate LJ potential\n",
    "\n",
    "def lj(sigma_lb, epsilon_lb, distance):\n",
    "    #distance_reduced = distance/sigma_lb\n",
    "    u_lj = 4 * epsilon_lb * ((sigma_lb/distance)**12 - (sigma_lb/distance)**6)\n",
    "    return u_lj\n",
    "\n",
    "potential = np.array([np.array([lj(sphere_sites[i][j].properties[\"lb_sigma\"], sphere_sites[i][j].properties[\"lb_epsilon\"], dist[i][j]) \n",
    "                for j in range(len(sphere_sites[i]))]).flatten() \n",
    "                for i in range(len(atom_pos))], dtype=object)"
   ]
  },
  {
   "cell_type": "code",
   "execution_count": 19,
   "metadata": {},
   "outputs": [],
   "source": [
    "for idx in range(len(atom_pos)):\n",
    "    if len(sphere_sites[idx]) != len(dist[idx]):\n",
    "        print(\"error in distance\")\n",
    "    if len(sphere_sites[idx]) != len(potential[idx]):\n",
    "        print(\"error in potential\")"
   ]
  },
  {
   "cell_type": "code",
   "execution_count": 20,
   "metadata": {},
   "outputs": [],
   "source": [
    "po_ana = np.hstack(potential)"
   ]
  },
  {
   "cell_type": "code",
   "execution_count": 21,
   "metadata": {},
   "outputs": [
    {
     "name": "stdout",
     "output_type": "stream",
     "text": [
      "-104.05861397527575\n",
      "796.007079027746\n"
     ]
    }
   ],
   "source": [
    "print(po_ana.min())\n",
    "print(po_ana.max())"
   ]
  },
  {
   "cell_type": "code",
   "execution_count": 22,
   "metadata": {},
   "outputs": [
    {
     "data": {
      "text/plain": [
       "(array([15., 33., 81., 66., 32., 34., 29., 24., 15., 21.,  9., 13., 10.,\n",
       "         7.,  6.,  8.,  6.,  3.,  4.,  5.,  6.,  6.,  2.,  1.,  1.,  3.,\n",
       "         1.,  2.,  1.,  1.,  1.,  1.,  6.,  1.,  3.,  1.,  3.,  0.,  0.,\n",
       "         1.,  0.,  1.,  2.,  1.,  0.,  1.,  0.,  0.,  1.,  1.,  0.,  1.,\n",
       "         0.,  0.,  0.,  0.,  1.,  0.,  0.,  0.,  0.,  0.,  2.,  0.,  0.,\n",
       "         0.,  1.,  1.,  0.,  1.,  0.,  0.,  0.,  1.,  0.,  0.,  0.,  0.,\n",
       "         0.,  1.,  0.,  0.,  0.,  0.,  0.,  0.,  0.,  1.,  0.,  0.,  0.,\n",
       "         0.,  0.,  0.,  0.,  0.,  0.,  0.,  0.,  1.]),\n",
       " array([-104.05861398,  -95.05795705,  -86.05730012,  -77.05664319,\n",
       "         -68.05598626,  -59.05532933,  -50.0546724 ,  -41.05401547,\n",
       "         -32.05335854,  -23.05270161,  -14.05204467,   -5.05138774,\n",
       "           3.94926919,   12.94992612,   21.95058305,   30.95123998,\n",
       "          39.95189691,   48.95255384,   57.95321077,   66.9538677 ,\n",
       "          75.95452463,   84.95518156,   93.95583849,  102.95649542,\n",
       "         111.95715235,  120.95780928,  129.95846621,  138.95912314,\n",
       "         147.95978007,  156.960437  ,  165.96109393,  174.96175086,\n",
       "         183.96240779,  192.96306472,  201.96372165,  210.96437858,\n",
       "         219.96503551,  228.96569244,  237.96634937,  246.9670063 ,\n",
       "         255.96766323,  264.96832016,  273.96897709,  282.96963402,\n",
       "         291.97029095,  300.97094788,  309.97160481,  318.97226174,\n",
       "         327.97291867,  336.9735756 ,  345.97423253,  354.97488946,\n",
       "         363.97554639,  372.97620332,  381.97686025,  390.97751718,\n",
       "         399.97817411,  408.97883104,  417.97948797,  426.9801449 ,\n",
       "         435.98080183,  444.98145876,  453.98211569,  462.98277262,\n",
       "         471.98342955,  480.98408648,  489.98474341,  498.98540034,\n",
       "         507.98605727,  516.9867142 ,  525.98737113,  534.98802806,\n",
       "         543.98868499,  552.98934192,  561.98999885,  570.99065578,\n",
       "         579.99131271,  588.99196964,  597.99262657,  606.9932835 ,\n",
       "         615.99394043,  624.99459736,  633.99525429,  642.99591122,\n",
       "         651.99656815,  660.99722508,  669.99788201,  678.99853894,\n",
       "         687.99919587,  696.9998528 ,  706.00050973,  715.00116666,\n",
       "         724.00182359,  733.00248052,  742.00313745,  751.00379438,\n",
       "         760.00445131,  769.00510824,  778.00576517,  787.0064221 ,\n",
       "         796.00707903]),\n",
       " <BarContainer object of 100 artists>)"
      ]
     },
     "execution_count": 22,
     "metadata": {},
     "output_type": "execute_result"
    },
    {
     "data": {
      "image/png": "[encoded data removed]",
      "text/plain": [
       "<Figure size 432x288 with 1 Axes>"
      ]
     },
     "metadata": {
      "needs_background": "light"
     },
     "output_type": "display_data"
    }
   ],
   "source": [
    "plt.hist(po_ana, bins=100)"
   ]
  },
  {
   "cell_type": "code",
   "execution_count": 23,
   "metadata": {},
   "outputs": [],
   "source": [
    "po_sigmoid = np.exp(-po_ana/abs(np.min(po_ana))) / np.sum(np.exp(-po_ana/abs(np.min(po_ana))))"
   ]
  },
  {
   "cell_type": "code",
   "execution_count": 24,
   "metadata": {},
   "outputs": [
    {
     "data": {
      "text/plain": [
       "<matplotlib.collections.PathCollection at 0x7fc0487a5f50>"
      ]
     },
     "execution_count": 24,
     "metadata": {},
     "output_type": "execute_result"
    },
    {
     "data": {
      "image/png": "[encoded data removed]",
      "text/plain": [
       "<Figure size 432x288 with 1 Axes>"
      ]
     },
     "metadata": {
      "needs_background": "light"
     },
     "output_type": "display_data"
    }
   ],
   "source": [
    "plt.scatter(po_ana, po_sigmoid)"
   ]
  },
  {
   "cell_type": "code",
   "execution_count": 25,
   "metadata": {},
   "outputs": [
    {
     "data": {
      "text/plain": [
       "<matplotlib.collections.PathCollection at 0x7fc04875ead0>"
      ]
     },
     "execution_count": 25,
     "metadata": {},
     "output_type": "execute_result"
    },
    {
     "data": {
      "image/png": "[encoded data removed]",
      "text/plain": [
       "<Figure size 432x288 with 1 Axes>"
      ]
     },
     "metadata": {
      "needs_background": "light"
     },
     "output_type": "display_data"
    }
   ],
   "source": [
    "plt.scatter(po_ana, po_sigmoid*abs(po_ana.max()))"
   ]
  },
  {
   "cell_type": "markdown",
   "metadata": {},
   "source": [
    "## Assign weight to each site"
   ]
  },
  {
   "cell_type": "code",
   "execution_count": 26,
   "metadata": {},
   "outputs": [],
   "source": [
    "idx = 0\n",
    "for i in range(sphere_sites.shape[0]):\n",
    "    for j in range(len(sphere_sites[i])):\n",
    "        sphere_sites[i][j].properties[\"weight\"].append(po_sigmoid[idx])\n",
    "        idx += 1"
   ]
  },
  {
   "cell_type": "code",
   "execution_count": 27,
   "metadata": {},
   "outputs": [],
   "source": [
    "weights = np.array([np.sum(site.properties[\"weight\"]) for site in un_cry.sites])"
   ]
  },
  {
   "cell_type": "code",
   "execution_count": 28,
   "metadata": {},
   "outputs": [],
   "source": [
    "atom_lst = [site.specie.symbol for site in un_cry.sites]"
   ]
  },
  {
   "cell_type": "code",
   "execution_count": 29,
   "metadata": {},
   "outputs": [],
   "source": [
    "def atom_label(list):\n",
    "    ele = np.unique(np.array(list))\n",
    "    list_label = list.copy()\n",
    "    count = [0] * len(ele)\n",
    "    for idx in range(len(list)):\n",
    "        for idj in range(len(ele)):\n",
    "            if list[idx] == ele[idj]:\n",
    "                count[idj] += 1\n",
    "                list_label[idx] = list[idx] + str(count[idj])\n",
    "    return list_label"
   ]
  },
  {
   "cell_type": "code",
   "execution_count": 30,
   "metadata": {},
   "outputs": [],
   "source": [
    "atom_lst_test = atom_label(atom_lst)"
   ]
  },
  {
   "cell_type": "markdown",
   "metadata": {},
   "source": [
    "# Analysis"
   ]
  },
  {
   "cell_type": "markdown",
   "metadata": {},
   "source": [
    "## Violinplot"
   ]
  },
  {
   "cell_type": "code",
   "execution_count": 31,
   "metadata": {},
   "outputs": [],
   "source": [
    "key_weight = {}\n",
    "for idx in range(len(weights)):\n",
    "    if atom_lst[idx] not in key_weight:\n",
    "        key_weight.update({atom_lst[idx]: weights[idx]})\n",
    "    else:\n",
    "        key_weight[atom_lst[idx]] = np.append(key_weight[atom_lst[idx]], weights[idx])"
   ]
  },
  {
   "cell_type": "code",
   "execution_count": 32,
   "metadata": {},
   "outputs": [
    {
     "data": {
      "text/plain": [
       "Text(0, 0.5, 'weight')"
      ]
     },
     "execution_count": 32,
     "metadata": {},
     "output_type": "execute_result"
    },
    {
     "data": {
      "image/png": "[encoded data removed]",
      "text/plain": [
       "<Figure size 720x432 with 1 Axes>"
      ]
     },
     "metadata": {
      "needs_background": "light"
     },
     "output_type": "display_data"
    }
   ],
   "source": [
    "ele = [key for key in key_weight.keys()]\n",
    "data = [key_weight[key] for key in key_weight.keys()]\n",
    "pos = np.arange(len(ele))\n",
    "\n",
    "fs = 15  # fontsize\n",
    "\n",
    "fig, axs = plt.subplots(nrows=1, ncols=1, figsize=(10, 6))\n",
    "\n",
    "axs.violinplot(data, pos, widths=0.3,\n",
    "                     showmeans=True, showextrema=True, showmedians=True)\n",
    "axs.plot([0,len(ele)-1], [0, 0], linestyle='dashed')\n",
    "axs.set_xticks(np.arange(len(ele)))\n",
    "axs.set_xticklabels(ele)\n",
    "axs.tick_params(labelsize=fs, labelrotation=45)\n",
    "axs.set_ylabel(\"weight\", fontdict={\"fontsize\": 20})"
   ]
  },
  {
   "cell_type": "markdown",
   "metadata": {},
   "source": [
    "## cif visualization"
   ]
  },
  {
   "cell_type": "code",
   "execution_count": 33,
   "metadata": {},
   "outputs": [],
   "source": [
    "from ase_notebook import AseView, ViewConfig\n",
    "import ase.io"
   ]
  },
  {
   "cell_type": "code",
   "execution_count": 34,
   "metadata": {},
   "outputs": [],
   "source": [
    "ase_crys = ase.io.read(\"nvt_results/%s/%s.cif\" %(structure, structure))"
   ]
  },
  {
   "cell_type": "code",
   "execution_count": 35,
   "metadata": {},
   "outputs": [],
   "source": [
    "config = ViewConfig()\n",
    "config.element_radii = \"custom\"\n",
    "config.atom_font_size=12\n",
    "config.axes_length=30\n",
    "config.canvas_size=(900, 900)\n",
    "config.zoom=1.5\n",
    "config.show_bonds=True"
   ]
  },
  {
   "cell_type": "code",
   "execution_count": 36,
   "metadata": {},
   "outputs": [
    {
     "name": "stdout",
     "output_type": "stream",
     "text": [
      "radii defined\n"
     ]
    }
   ],
   "source": [
    "ase_view = AseView(config, radii=weights*10)"
   ]
  },
  {
   "cell_type": "code",
   "execution_count": 37,
   "metadata": {},
   "outputs": [
    {
     "name": "stdout",
     "output_type": "stream",
     "text": [
      "yes\n"
     ]
    },
    {
     "name": "stderr",
     "output_type": "stream",
     "text": [
      "/home/xiaoqi/anaconda3/envs/ml/lib/python3.7/site-packages/jupyter_client/session.py:716: UserWarning: Message serialization failed with:\n",
      "Out of range float values are not JSON compliant\n",
      "Supporting this message is deprecated in jupyter-client 7, please make sure your message is JSON-compliant\n",
      "  content = self.pack(content)\n"
     ]
    },
    {
     "data": {
      "application/vnd.jupyter.widget-view+json": {
       "model_id": "c655bc2ffe3a4cae8038ca2fb5fba4e6",
       "version_major": 2,
       "version_minor": 0
      },
      "text/plain": [
       "GridspecLayout(children=(Renderer(camera=PerspectiveCamera(fov=10.0, position=(0.0, 0.0, 691.4814299883975), p…"
      ]
     },
     "metadata": {},
     "output_type": "display_data"
    }
   ],
   "source": [
    "gui = ase_view.make_render(\n",
    "    ase_crys, center_in_uc=True)\n",
    "gui"
   ]
  },
  {
   "cell_type": "markdown",
   "metadata": {},
   "source": [
    "# Change weight order according to cif"
   ]
  },
  {
   "cell_type": "code",
   "execution_count": null,
   "metadata": {},
   "outputs": [],
   "source": []
  }
 ],
 "metadata": {
  "kernelspec": {
   "display_name": "Python 3.8.12 ('ml')",
   "language": "python",
   "name": "python3"
  },
  "language_info": {
   "codemirror_mode": {
    "name": "ipython",
    "version": 3
   },
   "file_extension": ".py",
   "mimetype": "text/x-python",
   "name": "python",
   "nbconvert_exporter": "python",
   "pygments_lexer": "ipython3",
   "version": "3.8.12"
  },
  "vscode": {
   "interpreter": {
    "hash": "8a1315b02a235bf79c68e093ca5453b5ada46ae87871d36c79602fa05a1f3eef"
   }
  }
 },
 "nbformat": 4,
 "nbformat_minor": 2
}
