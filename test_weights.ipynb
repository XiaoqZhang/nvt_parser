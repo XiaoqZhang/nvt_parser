{
 "cells": [
  {
   "cell_type": "code",
   "execution_count": 1,
   "metadata": {},
   "outputs": [],
   "source": [
    "%load_ext autoreload\n",
    "%autoreload 2"
   ]
  },
  {
   "cell_type": "code",
   "execution_count": 2,
   "metadata": {},
   "outputs": [],
   "source": [
    "from cmath import nan\n",
    "import os\n",
    "import re\n",
    "import numpy as np \n",
    "import pandas as pd\n",
    "import math\n",
    "import click\n",
    "import json\n",
    "\n",
    "from pymatgen.core import Structure\n",
    "\n",
    "import matplotlib.pyplot as plt\n",
    "import seaborn as sns"
   ]
  },
  {
   "cell_type": "code",
   "execution_count": 29,
   "metadata": {},
   "outputs": [],
   "source": [
    "def min_max(numbers):\n",
    "    a = np.min(numbers)\n",
    "    b = np.max(numbers)\n",
    "    return (numbers-a)/(b-a)"
   ]
  },
  {
   "cell_type": "code",
   "execution_count": 3,
   "metadata": {},
   "outputs": [],
   "source": [
    "ch4_sigma , ch4_epsilon = 3.73, 148\n",
    "c_sigma, c_epsilon = 2.8, 27.0\n",
    "o_sigma, o_epsilon = 3.05, 79.0\n",
    "uff = pd.read_csv(\"./ff_data/uff.csv\")"
   ]
  },
  {
   "cell_type": "code",
   "execution_count": 4,
   "metadata": {},
   "outputs": [],
   "source": [
    "threshold = 15"
   ]
  },
  {
   "cell_type": "code",
   "execution_count": 5,
   "metadata": {},
   "outputs": [],
   "source": [
    "nvt_path = \"./nvt_results\"\n",
    "rst_path = \"./parse_results_co2\""
   ]
  },
  {
   "cell_type": "code",
   "execution_count": 6,
   "metadata": {},
   "outputs": [
    {
     "data": {
      "text/plain": [
       "['WOGHOP_clean']"
      ]
     },
     "execution_count": 6,
     "metadata": {},
     "output_type": "execute_result"
    }
   ],
   "source": [
    "structure_lst = os.listdir(nvt_path)\n",
    "structure_lst"
   ]
  },
  {
   "cell_type": "code",
   "execution_count": 7,
   "metadata": {},
   "outputs": [],
   "source": [
    "structure = structure_lst[0]"
   ]
  },
  {
   "cell_type": "markdown",
   "metadata": {},
   "source": [
    "# Data preparation"
   ]
  },
  {
   "cell_type": "markdown",
   "metadata": {},
   "source": [
    "## Get supercell"
   ]
  },
  {
   "cell_type": "code",
   "execution_count": 8,
   "metadata": {},
   "outputs": [],
   "source": [
    "def get_supercell(structure):\n",
    "    with open(\"nvt_results/%s/simulation.input\" %structure, \"r\") as f_input:\n",
    "        for line in f_input:\n",
    "            if re.search(\"UnitCells\", line):\n",
    "                s1, s2, s3 = line.split()[1], line.split()[2], line.split()[3]\n",
    "    supercell = np.array([int(s1), int(s2), int(s3)])\n",
    "    return supercell"
   ]
  },
  {
   "cell_type": "code",
   "execution_count": 9,
   "metadata": {},
   "outputs": [],
   "source": [
    "sc = get_supercell(structure)"
   ]
  },
  {
   "cell_type": "code",
   "execution_count": 13,
   "metadata": {},
   "outputs": [
    {
     "data": {
      "text/plain": [
       "array([3, 2, 2])"
      ]
     },
     "execution_count": 13,
     "metadata": {},
     "output_type": "execute_result"
    }
   ],
   "source": [
    "sc"
   ]
  },
  {
   "cell_type": "markdown",
   "metadata": {},
   "source": [
    "## Get lattice"
   ]
  },
  {
   "cell_type": "code",
   "execution_count": 10,
   "metadata": {},
   "outputs": [],
   "source": [
    "def get_lattice(structure):\n",
    "    with open(\"nvt_results/%s/Movies/System_0/Framework_final.pdb\" %structure) as file:\n",
    "        lines = file.readlines()\n",
    "        lattice = np.array([float(l) for l in lines[1].split()[1:4]])\n",
    "        frame_ele = np.array([l.split()[2] for l in lines[2:]])\n",
    "        frame_pos = np.array([[float(t) for t in l.split()[4:7]] for l in lines[2:]])\n",
    "    return lattice, frame_ele, frame_pos"
   ]
  },
  {
   "cell_type": "code",
   "execution_count": 11,
   "metadata": {},
   "outputs": [],
   "source": [
    "latt, ele, pos = get_lattice(structure)"
   ]
  },
  {
   "cell_type": "code",
   "execution_count": 12,
   "metadata": {},
   "outputs": [
    {
     "data": {
      "text/plain": [
       "array([32.488, 25.493, 24.794])"
      ]
     },
     "execution_count": 12,
     "metadata": {},
     "output_type": "execute_result"
    }
   ],
   "source": [
    "latt"
   ]
  },
  {
   "cell_type": "code",
   "execution_count": 13,
   "metadata": {},
   "outputs": [
    {
     "data": {
      "text/plain": [
       "1920"
      ]
     },
     "execution_count": 13,
     "metadata": {},
     "output_type": "execute_result"
    }
   ],
   "source": [
    "len(ele)"
   ]
  },
  {
   "cell_type": "markdown",
   "metadata": {},
   "source": [
    "# read gas pos"
   ]
  },
  {
   "cell_type": "code",
   "execution_count": 13,
   "metadata": {},
   "outputs": [],
   "source": [
    "with open(os.path.join(nvt_path, \"%s/Movies/System_0/Movie_%s_%d.%d.%d_298.000000_0.000000_allcomponents.pdb\" %(structure, structure, sc[0], sc[1], sc[2]))) as file:\n",
    "        data = file.readlines()\n",
    "        positions = np.array([line.split() for line in data if \"ATOM\" in line])\n",
    "        pos_c = np.array([[float(t) for t in l[4:7]] for l in positions if l[1] == '2'])\n",
    "        pos_o1 = np.array([[float(t) for t in l[4:7]] for l in positions if l[1] == '1'])\n",
    "        pos_o2 = np.array([[float(t) for t in l[4:7]] for l in positions if l[1] == '3'])\n",
    "    "
   ]
  },
  {
   "cell_type": "markdown",
   "metadata": {},
   "source": [
    "# calculate distance"
   ]
  },
  {
   "cell_type": "code",
   "execution_count": 14,
   "metadata": {},
   "outputs": [],
   "source": [
    "dist_c = np.array([np.abs([atom-c for atom in pos]) for c in pos_c])"
   ]
  },
  {
   "cell_type": "code",
   "execution_count": 15,
   "metadata": {},
   "outputs": [],
   "source": [
    "dist_c = np.array([[[l-r if r>l/2 else r for r,l in zip(a, latt)] for a in s] for s in dist_c])"
   ]
  },
  {
   "cell_type": "code",
   "execution_count": 16,
   "metadata": {},
   "outputs": [],
   "source": [
    "dist_c *= dist_c"
   ]
  },
  {
   "cell_type": "code",
   "execution_count": 17,
   "metadata": {},
   "outputs": [],
   "source": [
    "dist_c = np.sum(dist_c, axis=2)"
   ]
  },
  {
   "cell_type": "code",
   "execution_count": 18,
   "metadata": {},
   "outputs": [],
   "source": [
    "dist_c = np.sqrt(dist_c)"
   ]
  },
  {
   "cell_type": "code",
   "execution_count": 213,
   "metadata": {},
   "outputs": [
    {
     "data": {
      "text/plain": [
       "(10000, 1248)"
      ]
     },
     "execution_count": 213,
     "metadata": {},
     "output_type": "execute_result"
    }
   ],
   "source": [
    "dist_c.shape"
   ]
  },
  {
   "cell_type": "code",
   "execution_count": 214,
   "metadata": {},
   "outputs": [
    {
     "data": {
      "text/plain": [
       "(array([ 16.,  55.,  75., 134., 203., 265., 240., 152.,  87.,  21.]),\n",
       " array([ 2.2089373 ,  4.25088399,  6.29283068,  8.33477737, 10.37672406,\n",
       "        12.41867075, 14.46061745, 16.50256414, 18.54451083, 20.58645752,\n",
       "        22.62840421]),\n",
       " <BarContainer object of 10 artists>)"
      ]
     },
     "execution_count": 214,
     "metadata": {},
     "output_type": "execute_result"
    },
    {
     "data": {
      "image/png": "[encoded data removed]",
      "text/plain": [
       "<Figure size 432x288 with 1 Axes>"
      ]
     },
     "metadata": {
      "needs_background": "light"
     },
     "output_type": "display_data"
    }
   ],
   "source": [
    "plt.hist(dist_c[0])"
   ]
  },
  {
   "cell_type": "code",
   "execution_count": 19,
   "metadata": {},
   "outputs": [],
   "source": [
    "dist_o1 = np.array([np.abs([atom-o for atom in pos]) for o in pos_o1])\n",
    "dist_o1 = np.array([[[l-r if r>l/2 else r for r,l in zip(a, latt)] for a in s] for s in dist_o1])\n",
    "dist_o1 *= dist_o1\n",
    "dist_o1 = np.sum(dist_o1, axis=2)\n",
    "dist_o1 = np.sqrt(dist_o1)"
   ]
  },
  {
   "cell_type": "code",
   "execution_count": 20,
   "metadata": {},
   "outputs": [],
   "source": [
    "    dist_o2 = np.array([np.abs([atom-o for atom in pos]) for o in pos_o2])\n",
    "    dist_o2 = np.array([[[l-r if r>l/2 else r for r,l in zip(a, latt)] for a in s] for s in dist_o2])\n",
    "    dist_o2 *= dist_o2\n",
    "    dist_o2 = np.sum(dist_o2, axis=2)\n",
    "    dist_o2 = np.sqrt(dist_o2)"
   ]
  },
  {
   "cell_type": "markdown",
   "metadata": {},
   "source": [
    "## Read force field"
   ]
  },
  {
   "cell_type": "markdown",
   "metadata": {},
   "source": [
    "### Read ff with LB mixing rule"
   ]
  },
  {
   "cell_type": "code",
   "execution_count": 52,
   "metadata": {},
   "outputs": [],
   "source": [
    "uff = pd.read_csv(\"ff_data/uff.csv\")"
   ]
  },
  {
   "cell_type": "code",
   "execution_count": 53,
   "metadata": {},
   "outputs": [
    {
     "data": {
      "text/html": [
       "<div>\n",
       "<style scoped>\n",
       "    .dataframe tbody tr th:only-of-type {\n",
       "        vertical-align: middle;\n",
       "    }\n",
       "\n",
       "    .dataframe tbody tr th {\n",
       "        vertical-align: top;\n",
       "    }\n",
       "\n",
       "    .dataframe thead th {\n",
       "        text-align: right;\n",
       "    }\n",
       "</style>\n",
       "<table border=\"1\" class=\"dataframe\">\n",
       "  <thead>\n",
       "    <tr style=\"text-align: right;\">\n",
       "      <th></th>\n",
       "      <th>Unnamed: 0</th>\n",
       "      <th>element</th>\n",
       "      <th>epsilon</th>\n",
       "      <th>sigma</th>\n",
       "      <th>lb_sigma</th>\n",
       "      <th>lb_epsilon</th>\n",
       "    </tr>\n",
       "  </thead>\n",
       "  <tbody>\n",
       "    <tr>\n",
       "      <th>0</th>\n",
       "      <td>0</td>\n",
       "      <td>Ac</td>\n",
       "      <td>16.6080</td>\n",
       "      <td>3.0985</td>\n",
       "      <td>3.399618</td>\n",
       "      <td>82.30400</td>\n",
       "    </tr>\n",
       "    <tr>\n",
       "      <th>1</th>\n",
       "      <td>1</td>\n",
       "      <td>Ag</td>\n",
       "      <td>18.1178</td>\n",
       "      <td>2.8045</td>\n",
       "      <td>3.234314</td>\n",
       "      <td>83.05890</td>\n",
       "    </tr>\n",
       "    <tr>\n",
       "      <th>2</th>\n",
       "      <td>2</td>\n",
       "      <td>Al</td>\n",
       "      <td>254.1520</td>\n",
       "      <td>4.0082</td>\n",
       "      <td>3.866599</td>\n",
       "      <td>201.07600</td>\n",
       "    </tr>\n",
       "    <tr>\n",
       "      <th>3</th>\n",
       "      <td>3</td>\n",
       "      <td>Am</td>\n",
       "      <td>7.0458</td>\n",
       "      <td>3.0121</td>\n",
       "      <td>3.351885</td>\n",
       "      <td>77.52290</td>\n",
       "    </tr>\n",
       "    <tr>\n",
       "      <th>4</th>\n",
       "      <td>4</td>\n",
       "      <td>Ar</td>\n",
       "      <td>93.1052</td>\n",
       "      <td>3.4460</td>\n",
       "      <td>3.585189</td>\n",
       "      <td>120.55260</td>\n",
       "    </tr>\n",
       "    <tr>\n",
       "      <th>...</th>\n",
       "      <td>...</td>\n",
       "      <td>...</td>\n",
       "      <td>...</td>\n",
       "      <td>...</td>\n",
       "      <td>...</td>\n",
       "      <td>...</td>\n",
       "    </tr>\n",
       "    <tr>\n",
       "      <th>98</th>\n",
       "      <td>98</td>\n",
       "      <td>Xe</td>\n",
       "      <td>167.0861</td>\n",
       "      <td>3.9235</td>\n",
       "      <td>3.825527</td>\n",
       "      <td>157.54305</td>\n",
       "    </tr>\n",
       "    <tr>\n",
       "      <th>99</th>\n",
       "      <td>99</td>\n",
       "      <td>Y</td>\n",
       "      <td>36.2355</td>\n",
       "      <td>2.9801</td>\n",
       "      <td>3.334033</td>\n",
       "      <td>92.11775</td>\n",
       "    </tr>\n",
       "    <tr>\n",
       "      <th>100</th>\n",
       "      <td>100</td>\n",
       "      <td>Yb</td>\n",
       "      <td>114.7458</td>\n",
       "      <td>2.9890</td>\n",
       "      <td>3.339007</td>\n",
       "      <td>131.37290</td>\n",
       "    </tr>\n",
       "    <tr>\n",
       "      <th>101</th>\n",
       "      <td>101</td>\n",
       "      <td>Zn</td>\n",
       "      <td>62.4056</td>\n",
       "      <td>2.4616</td>\n",
       "      <td>3.030143</td>\n",
       "      <td>105.20280</td>\n",
       "    </tr>\n",
       "    <tr>\n",
       "      <th>102</th>\n",
       "      <td>102</td>\n",
       "      <td>Zr</td>\n",
       "      <td>34.7257</td>\n",
       "      <td>2.7832</td>\n",
       "      <td>3.222008</td>\n",
       "      <td>91.36285</td>\n",
       "    </tr>\n",
       "  </tbody>\n",
       "</table>\n",
       "<p>103 rows × 6 columns</p>\n",
       "</div>"
      ],
      "text/plain": [
       "     Unnamed: 0 element   epsilon   sigma  lb_sigma  lb_epsilon\n",
       "0             0      Ac   16.6080  3.0985  3.399618    82.30400\n",
       "1             1      Ag   18.1178  2.8045  3.234314    83.05890\n",
       "2             2      Al  254.1520  4.0082  3.866599   201.07600\n",
       "3             3      Am    7.0458  3.0121  3.351885    77.52290\n",
       "4             4      Ar   93.1052  3.4460  3.585189   120.55260\n",
       "..          ...     ...       ...     ...       ...         ...\n",
       "98           98      Xe  167.0861  3.9235  3.825527   157.54305\n",
       "99           99       Y   36.2355  2.9801  3.334033    92.11775\n",
       "100         100      Yb  114.7458  2.9890  3.339007   131.37290\n",
       "101         101      Zn   62.4056  2.4616  3.030143   105.20280\n",
       "102         102      Zr   34.7257  2.7832  3.222008    91.36285\n",
       "\n",
       "[103 rows x 6 columns]"
      ]
     },
     "execution_count": 53,
     "metadata": {},
     "output_type": "execute_result"
    }
   ],
   "source": [
    "uff"
   ]
  },
  {
   "cell_type": "code",
   "execution_count": 21,
   "metadata": {},
   "outputs": [],
   "source": [
    "ele_sigma = [uff[uff[\"element\"]==e][\"sigma\"].item() for e in ele]\n",
    "ele_epsilon = [uff[uff[\"element\"]==e][\"epsilon\"].item() for e in ele]"
   ]
  },
  {
   "cell_type": "code",
   "execution_count": 22,
   "metadata": {},
   "outputs": [],
   "source": [
    "ele_sigma_c = [(uff[uff[\"element\"]==e][\"sigma\"].item()+c_sigma)/2 for e in ele]\n",
    "ele_epsilon_c = [np.sqrt(uff[uff[\"element\"]==e][\"epsilon\"].item()*c_epsilon) for e in ele]"
   ]
  },
  {
   "cell_type": "code",
   "execution_count": 23,
   "metadata": {},
   "outputs": [],
   "source": [
    "ele_sigma_o = [(uff[uff[\"element\"]==e][\"sigma\"].item()+o_sigma)/2 for e in ele]\n",
    "ele_epsilon_o = [np.sqrt(uff[uff[\"element\"]==e][\"epsilon\"].item()*o_epsilon) for e in ele]"
   ]
  },
  {
   "cell_type": "markdown",
   "metadata": {},
   "source": [
    "# Calculate potentials"
   ]
  },
  {
   "cell_type": "code",
   "execution_count": 47,
   "metadata": {},
   "outputs": [],
   "source": [
    "poten_c = np.array([ele_epsilon_c*((ele_sigma_c/r)**12-(ele_sigma_c/r)**6) for r in dist_c])"
   ]
  },
  {
   "cell_type": "code",
   "execution_count": 251,
   "metadata": {},
   "outputs": [
    {
     "data": {
      "text/plain": [
       "(0.0, 100.0)"
      ]
     },
     "execution_count": 251,
     "metadata": {},
     "output_type": "execute_result"
    },
    {
     "data": {
      "image/png": "[encoded data removed]",
      "text/plain": [
       "<Figure size 432x288 with 1 Axes>"
      ]
     },
     "metadata": {
      "needs_background": "light"
     },
     "output_type": "display_data"
    }
   ],
   "source": [
    "plt.hist(poten_c.flatten(), bins=100)\n",
    "plt.ylim(0,100)"
   ]
  },
  {
   "cell_type": "code",
   "execution_count": 65,
   "metadata": {},
   "outputs": [],
   "source": [
    "avg_poten_c = np.average(poten_c, axis=0)"
   ]
  },
  {
   "cell_type": "markdown",
   "metadata": {},
   "source": [
    "## sum potential for C and O"
   ]
  },
  {
   "cell_type": "code",
   "execution_count": 48,
   "metadata": {},
   "outputs": [],
   "source": [
    "poten_o1 = np.array([ele_epsilon_o*((ele_sigma_o/r)**12-(ele_sigma_o/r)**6) for r in dist_o1])\n",
    "poten_o2 = np.array([ele_epsilon_o*((ele_sigma_o/r)**12-(ele_sigma_o/r)**6) for r in dist_o2])"
   ]
  },
  {
   "cell_type": "code",
   "execution_count": 69,
   "metadata": {},
   "outputs": [],
   "source": [
    "avg_poten_o1 = np.average(poten_o1, axis=0)\n",
    "avg_poten_o2 = np.average(poten_o2, axis=0)"
   ]
  },
  {
   "cell_type": "code",
   "execution_count": 70,
   "metadata": {},
   "outputs": [],
   "source": [
    "avg_poten = np.array([c+o1+o2 for c, o1, o2 in zip(avg_poten_c, avg_poten_o1, avg_poten_o2)])"
   ]
  },
  {
   "cell_type": "code",
   "execution_count": 71,
   "metadata": {},
   "outputs": [
    {
     "data": {
      "text/plain": [
       "(array([1.000e+00, 0.000e+00, 0.000e+00, 0.000e+00, 0.000e+00, 0.000e+00,\n",
       "        0.000e+00, 0.000e+00, 0.000e+00, 0.000e+00, 0.000e+00, 0.000e+00,\n",
       "        0.000e+00, 0.000e+00, 0.000e+00, 0.000e+00, 0.000e+00, 0.000e+00,\n",
       "        0.000e+00, 0.000e+00, 0.000e+00, 0.000e+00, 0.000e+00, 0.000e+00,\n",
       "        0.000e+00, 0.000e+00, 0.000e+00, 0.000e+00, 0.000e+00, 0.000e+00,\n",
       "        0.000e+00, 0.000e+00, 0.000e+00, 0.000e+00, 0.000e+00, 0.000e+00,\n",
       "        0.000e+00, 0.000e+00, 0.000e+00, 0.000e+00, 0.000e+00, 0.000e+00,\n",
       "        0.000e+00, 0.000e+00, 0.000e+00, 0.000e+00, 0.000e+00, 0.000e+00,\n",
       "        0.000e+00, 0.000e+00, 0.000e+00, 0.000e+00, 0.000e+00, 0.000e+00,\n",
       "        0.000e+00, 0.000e+00, 0.000e+00, 0.000e+00, 0.000e+00, 0.000e+00,\n",
       "        1.000e+00, 0.000e+00, 0.000e+00, 0.000e+00, 0.000e+00, 0.000e+00,\n",
       "        0.000e+00, 0.000e+00, 1.000e+00, 0.000e+00, 0.000e+00, 1.000e+00,\n",
       "        0.000e+00, 1.000e+00, 1.000e+00, 1.000e+00, 1.000e+00, 1.000e+00,\n",
       "        1.000e+00, 1.000e+00, 2.000e+00, 1.000e+00, 0.000e+00, 2.000e+00,\n",
       "        0.000e+00, 1.000e+00, 2.000e+00, 0.000e+00, 3.000e+00, 0.000e+00,\n",
       "        0.000e+00, 1.000e+00, 3.000e+00, 4.000e+00, 7.000e+00, 4.000e+00,\n",
       "        2.000e+00, 1.300e+01, 2.600e+01, 1.166e+03]),\n",
       " array([-438.06993865, -433.67408556, -429.27823247, -424.88237938,\n",
       "        -420.4865263 , -416.09067321, -411.69482012, -407.29896703,\n",
       "        -402.90311394, -398.50726086, -394.11140777, -389.71555468,\n",
       "        -385.31970159, -380.9238485 , -376.52799542, -372.13214233,\n",
       "        -367.73628924, -363.34043615, -358.94458306, -354.54872998,\n",
       "        -350.15287689, -345.7570238 , -341.36117071, -336.96531762,\n",
       "        -332.56946454, -328.17361145, -323.77775836, -319.38190527,\n",
       "        -314.98605218, -310.5901991 , -306.19434601, -301.79849292,\n",
       "        -297.40263983, -293.00678674, -288.61093366, -284.21508057,\n",
       "        -279.81922748, -275.42337439, -271.0275213 , -266.63166822,\n",
       "        -262.23581513, -257.83996204, -253.44410895, -249.04825586,\n",
       "        -244.65240278, -240.25654969, -235.8606966 , -231.46484351,\n",
       "        -227.06899042, -222.67313734, -218.27728425, -213.88143116,\n",
       "        -209.48557807, -205.08972498, -200.6938719 , -196.29801881,\n",
       "        -191.90216572, -187.50631263, -183.11045954, -178.71460646,\n",
       "        -174.31875337, -169.92290028, -165.52704719, -161.1311941 ,\n",
       "        -156.73534102, -152.33948793, -147.94363484, -143.54778175,\n",
       "        -139.15192867, -134.75607558, -130.36022249, -125.9643694 ,\n",
       "        -121.56851631, -117.17266323, -112.77681014, -108.38095705,\n",
       "        -103.98510396,  -99.58925087,  -95.19339779,  -90.7975447 ,\n",
       "         -86.40169161,  -82.00583852,  -77.60998543,  -73.21413235,\n",
       "         -68.81827926,  -64.42242617,  -60.02657308,  -55.63071999,\n",
       "         -51.23486691,  -46.83901382,  -42.44316073,  -38.04730764,\n",
       "         -33.65145455,  -29.25560147,  -24.85974838,  -20.46389529,\n",
       "         -16.0680422 ,  -11.67218911,   -7.27633603,   -2.88048294,\n",
       "           1.51537015]),\n",
       " <BarContainer object of 100 artists>)"
      ]
     },
     "execution_count": 71,
     "metadata": {},
     "output_type": "execute_result"
    },
    {
     "data": {
      "image/png": "[encoded data removed]",
      "text/plain": [
       "<Figure size 432x288 with 1 Axes>"
      ]
     },
     "metadata": {
      "needs_background": "light"
     },
     "output_type": "display_data"
    }
   ],
   "source": [
    "plt.hist(avg_poten, bins=100)"
   ]
  },
  {
   "cell_type": "markdown",
   "metadata": {},
   "source": [
    "# potential normalization"
   ]
  },
  {
   "cell_type": "markdown",
   "metadata": {},
   "source": [
    "## map avg_potential to one unit cell"
   ]
  },
  {
   "cell_type": "code",
   "execution_count": 33,
   "metadata": {},
   "outputs": [],
   "source": [
    "num_uc = sc[0] * sc[1] * sc[2]\n",
    "num_at = int(len(pos) / num_uc)"
   ]
  },
  {
   "cell_type": "markdown",
   "metadata": {},
   "source": [
    "# Visulization"
   ]
  },
  {
   "cell_type": "code",
   "execution_count": 62,
   "metadata": {},
   "outputs": [],
   "source": [
    "from ase_notebook import AseView, ViewConfig"
   ]
  },
  {
   "cell_type": "code",
   "execution_count": 63,
   "metadata": {},
   "outputs": [],
   "source": [
    "cif = Structure.from_file(\"nvt_results/%s/%s.cif\" %(structure, structure))"
   ]
  },
  {
   "cell_type": "code",
   "execution_count": 64,
   "metadata": {},
   "outputs": [],
   "source": [
    "cif.add_site_property(\"weight\", weight_uc.reshape(-1,))"
   ]
  },
  {
   "cell_type": "code",
   "execution_count": 65,
   "metadata": {},
   "outputs": [],
   "source": [
    "config = ViewConfig()\n",
    "config.atom_font_size=10\n",
    "config.axes_length=30\n",
    "config.canvas_size=(500, 500)\n",
    "config.zoom=1.2\n",
    "config.show_bonds=True\n",
    "config.atom_color_by = \"value_array\"\n",
    "config.atom_color_array = \"weight\"\n",
    "config.atom_colormap = \"Greens\"\n",
    "config.atom_colormap_range = (0, 1)"
   ]
  },
  {
   "cell_type": "code",
   "execution_count": 66,
   "metadata": {},
   "outputs": [
    {
     "name": "stdout",
     "output_type": "stream",
     "text": [
      "get_element_radii\n"
     ]
    },
    {
     "data": {
      "image/svg+xml": "<svg baseProfile=\"tiny\" height=\"500\" version=\"1.2\" width=\"500\" xmlns=\"http://www.w3.org/2000/svg\" xmlns:ev=\"http://www.w3.org/2001/xml-events\" xmlns:xlink=\"http://www.w3.org/1999/xlink\"><defs /><g id=\"root\"><rect fill=\"#ffffff\" fill-opacity=\"0.0\" height=\"500\" width=\"500\" x=\"0\" y=\"0\" /><line stroke=\"black\" x1=\"415.5666228773199\" x2=\"415.5666228773199\" y1=\"445.65559137303023\" y2=\"54.34440862696965\" /><line stroke=\"#f6fcf4\" stroke-linecap=\"round\" stroke-opacity=\"0.8\" stroke-width=\"4.604925070561259\" x1=\"223.4068036174066\" x2=\"224.50769657095802\" y1=\"395.23175832667994\" y2=\"395.7117888563389\" /><line stroke=\"#daf0d4\" stroke-linecap=\"round\" stroke-opacity=\"0.8\" stroke-width=\"4.604925070561259\" x1=\"224.50769657095802\" x2=\"225.60858952450943\" y1=\"395.7117888563389\" y2=\"396.1918193859978\" /><line stroke=\"#e2f4dd\" stroke-linecap=\"round\" stroke-opacity=\"0.8\" stroke-width=\"4.604925070561259\" x1=\"239.2779289135897\" x2=\"236.41249187756398\" y1=\"204.1844845364653\" y2=\"203.27609312598383\" /><line stroke=\"#dcf2d7\" stroke-linecap=\"round\" stroke-opacity=\"0.8\" stroke-width=\"4.604925070561259\" x1=\"236.41249187756398\" x2=\"233.54705484153828\" y1=\"203.27609312598383\" y2=\"202.36770171550233\" /><circle cx=\"221.7543341371292\" cy=\"394.5112197881201\" fill=\"#f6fcf4\" fill-opacity=\"0.95\" r=\"11.721376274606632\" stroke=\"black\" stroke-width=\"1.0\" /><text dominant-baseline=\"middle\" fill=\"black\" font-size=\"10\" text-anchor=\"middle\" x=\"221\" y=\"394\">O</text><line stroke=\"black\" x1=\"84.43337712268007\" x2=\"415.5666228773199\" y1=\"445.65559137303023\" y2=\"445.65559137303023\" /><line stroke=\"black\" x1=\"415.5666228773199\" x2=\"84.43337712268013\" y1=\"54.34440862696965\" y2=\"54.34440862696965\" /><line stroke=\"black\" x1=\"84.43337712268007\" x2=\"84.43337712268013\" y1=\"445.65559137303023\" y2=\"54.34440862696965\" /><circle cx=\"243.57601503236\" cy=\"205.54704964004748\" fill=\"#e2f4dd\" fill-opacity=\"0.95\" r=\"11.721376274606632\" stroke=\"black\" stroke-width=\"1.0\" /><text dominant-baseline=\"middle\" fill=\"black\" font-size=\"10\" text-anchor=\"middle\" x=\"243\" y=\"205\">O</text><line stroke=\"#dcf2d7\" stroke-linecap=\"round\" stroke-opacity=\"0.8\" stroke-width=\"4.604925070561259\" x1=\"266.4529451584617\" x2=\"263.587508122436\" y1=\"297.6322982844976\" y2=\"296.72390687401617\" /><line stroke=\"#ecf8e8\" stroke-linecap=\"round\" stroke-opacity=\"0.8\" stroke-width=\"4.604925070561259\" x1=\"263.587508122436\" x2=\"260.7220710864103\" y1=\"296.72390687401617\" y2=\"295.81551546353467\" /><line stroke=\"#dcf2d7\" stroke-linecap=\"round\" stroke-opacity=\"0.8\" stroke-width=\"4.604925070561259\" x1=\"274.3914104754906\" x2=\"275.492303429042\" y1=\"103.80818061400208\" y2=\"104.28821114366099\" /><line stroke=\"#d3eecd\" stroke-linecap=\"round\" stroke-opacity=\"0.8\" stroke-width=\"4.604925070561259\" x1=\"275.492303429042\" x2=\"276.5931963825934\" y1=\"104.28821114366099\" y2=\"104.76824167331989\" /><line stroke=\"#e9f7e5\" stroke-linecap=\"round\" stroke-opacity=\"0.8\" stroke-width=\"4.604925070561259\" x1=\"236.977546874935\" x2=\"231.83842366108863\" y1=\"395.89176441472034\" y2=\"395.42571371566567\" /><line stroke=\"#f6fcf4\" stroke-linecap=\"round\" stroke-opacity=\"0.8\" stroke-width=\"4.604925070561259\" x1=\"231.83842366108863\" x2=\"226.69930044724225\" y1=\"395.42571371566567\" y2=\"394.95966301661105\" /><line stroke=\"#dcf2d7\" stroke-linecap=\"round\" stroke-opacity=\"0.8\" stroke-width=\"4.604925070561259\" x1=\"292.2098615808608\" x2=\"301.03952917945924\" y1=\"301.7896665517154\" y2=\"302.7052851807095\" /><line stroke=\"#dbf1d6\" stroke-linecap=\"round\" stroke-opacity=\"0.8\" stroke-width=\"4.604925070561259\" x1=\"301.03952917945924\" x2=\"309.8691967780577\" y1=\"302.7052851807095\" y2=\"303.6209038097036\" /><line stroke=\"#ceecc8\" stroke-linecap=\"round\" stroke-opacity=\"0.8\" stroke-width=\"4.604925070561259\" x1=\"253.3008663864296\" x2=\"250.07768329431627\" y1=\"203.81749631600573\" y2=\"204.39073562095683\" /><line stroke=\"#e2f4dd\" stroke-linecap=\"round\" stroke-opacity=\"0.8\" stroke-width=\"4.604925070561259\" x1=\"250.07768329431627\" x2=\"246.85450020220298\" y1=\"204.39073562095683\" y2=\"204.96397492590796\" /><circle cx=\"321.4585544338513\" cy=\"304.8226967027231\" fill=\"#dbf1d6\" fill-opacity=\"0.95\" r=\"11.721376274606632\" stroke=\"black\" stroke-width=\"1.0\" /><text dominant-baseline=\"middle\" fill=\"black\" font-size=\"10\" text-anchor=\"middle\" x=\"321\" y=\"304\">O</text><circle cx=\"308.80926444602403\" cy=\"398.5808560886792\" fill=\"#05712f\" fill-opacity=\"0.95\" r=\"11.721376274606632\" stroke=\"black\" stroke-width=\"1.0\" /><text dominant-baseline=\"middle\" fill=\"black\" font-size=\"10\" text-anchor=\"middle\" x=\"308\" y=\"398\">O</text><line stroke=\"#e9f7e5\" stroke-linecap=\"round\" stroke-opacity=\"0.8\" stroke-width=\"4.604925070561259\" x1=\"269.01142186382106\" x2=\"283.37435756275755\" y1=\"397.42935712627707\" y2=\"397.8449300438344\" /><line stroke=\"#05712f\" stroke-linecap=\"round\" stroke-opacity=\"0.8\" stroke-width=\"4.604925070561259\" x1=\"283.37435756275755\" x2=\"297.73729326169405\" y1=\"397.8449300438344\" y2=\"398.2605029613917\" /><line stroke=\"#f6fcf4\" stroke-linecap=\"round\" stroke-opacity=\"0.8\" stroke-width=\"4.604925070561259\" x1=\"329.78956116403447\" x2=\"328.10595989064717\" y1=\"307.20751716519374\" y2=\"306.72557219774234\" /><line stroke=\"#dbf1d6\" stroke-linecap=\"round\" stroke-opacity=\"0.8\" stroke-width=\"4.604925070561259\" x1=\"328.10595989064717\" x2=\"326.4223586172599\" y1=\"306.72557219774234\" y2=\"306.24362723029094\" /><circle cx=\"320.76317461776654\" cy=\"197.68169486685164\" fill=\"#e1f3dc\" fill-opacity=\"0.95\" r=\"11.721376274606632\" stroke=\"black\" stroke-width=\"1.0\" /><text dominant-baseline=\"middle\" fill=\"black\" font-size=\"10\" text-anchor=\"middle\" x=\"320\" y=\"197\">O</text><line stroke=\"#ceecc8\" stroke-linecap=\"round\" stroke-opacity=\"0.8\" stroke-width=\"4.604925070561259\" x1=\"282.1223833401106\" x2=\"295.87664232543983\" y1=\"200.83464160532685\" y2=\"199.71234455668917\" /><line stroke=\"#e1f3dc\" stroke-linecap=\"round\" stroke-opacity=\"0.8\" stroke-width=\"4.604925070561259\" x1=\"295.87664232543983\" x2=\"309.63090131076905\" y1=\"199.71234455668917\" y2=\"198.59004750805153\" /><circle cx=\"151.2891794405419\" cy=\"199.7556441354058\" fill=\"#a0d99b\" fill-opacity=\"0.95\" r=\"11.721376274606632\" stroke=\"black\" stroke-width=\"1.0\" /><text dominant-baseline=\"middle\" fill=\"black\" font-size=\"10\" text-anchor=\"middle\" x=\"151\" y=\"199\">O</text><line stroke=\"#cdecc7\" stroke-linecap=\"round\" stroke-opacity=\"0.8\" stroke-width=\"4.604925070561259\" x1=\"325.5354650673338\" x2=\"321.12463257337913\" y1=\"396.9843788853687\" y2=\"397.40538265566\" /><line stroke=\"#05712f\" stroke-linecap=\"round\" stroke-opacity=\"0.8\" stroke-width=\"4.604925070561259\" x1=\"321.12463257337913\" x2=\"316.7138000794245\" y1=\"397.40538265566\" y2=\"397.8263864259512\" /><line stroke=\"#dcf2d7\" stroke-linecap=\"round\" stroke-opacity=\"0.8\" stroke-width=\"4.604925070561259\" x1=\"261.4331480392082\" x2=\"257.14836320091075\" y1=\"87.65825914599583\" y2=\"81.41328702319225\" /><line stroke=\"#dbf1d5\" stroke-linecap=\"round\" stroke-opacity=\"0.8\" stroke-width=\"4.604925070561259\" x1=\"257.14836320091075\" x2=\"252.86357836261328\" y1=\"81.41328702319225\" y2=\"75.16831490038868\" /><line stroke=\"#dcf2d7\" stroke-linecap=\"round\" stroke-opacity=\"0.8\" stroke-width=\"4.604925070561259\" x1=\"266.1579477269929\" x2=\"263.1667433526189\" y1=\"315.06247889057215\" y2=\"321.3310967817274\" /><line stroke=\"#3fa85b\" stroke-linecap=\"round\" stroke-opacity=\"0.8\" stroke-width=\"4.604925070561259\" x1=\"263.1667433526189\" x2=\"260.17553897824484\" y1=\"321.3310967817274\" y2=\"327.59971467288267\" /><line stroke=\"#dcf2d7\" stroke-linecap=\"round\" stroke-opacity=\"0.8\" stroke-width=\"4.604925070561259\" x1=\"263.7042147142888\" x2=\"260.29876672113755\" y1=\"118.29049327221412\" y2=\"124.9457808820097\" /><line stroke=\"#d4eece\" stroke-linecap=\"round\" stroke-opacity=\"0.8\" stroke-width=\"4.604925070561259\" x1=\"260.29876672113755\" x2=\"256.89331872798635\" y1=\"124.9457808820097\" y2=\"131.60106849180528\" /><line stroke=\"#dcf2d7\" stroke-linecap=\"round\" stroke-opacity=\"0.8\" stroke-width=\"4.604925070561259\" x1=\"289.3709615075446\" x2=\"297.7169556261774\" y1=\"101.36930889750602\" y2=\"100.7687234491934\" /><line stroke=\"#f6fcf4\" stroke-linecap=\"round\" stroke-opacity=\"0.8\" stroke-width=\"4.604925070561259\" x1=\"297.7169556261774\" x2=\"306.0629497448102\" y1=\"100.7687234491934\" y2=\"100.16813800088079\" /><line stroke=\"#e9f7e5\" stroke-linecap=\"round\" stroke-opacity=\"0.8\" stroke-width=\"4.604925070561259\" x1=\"246.73393137592294\" x2=\"246.6619031775591\" y1=\"420.2307323337809\" y2=\"432.8740469925276\" /><line stroke=\"#dbf1d5\" stroke-linecap=\"round\" stroke-opacity=\"0.8\" stroke-width=\"4.604925070561259\" x1=\"246.6619031775591\" x2=\"246.58987497919532\" y1=\"432.8740469925276\" y2=\"445.51736165127426\" /><line stroke=\"#dbf1d5\" stroke-linecap=\"round\" stroke-opacity=\"0.8\" stroke-width=\"4.604925070561259\" x1=\"246.58987497919537\" x2=\"246.66190317755917\" y1=\"54.206178905213676\" y2=\"41.562864246467\" /><line stroke=\"#e9f7e5\" stroke-linecap=\"round\" stroke-opacity=\"0.8\" stroke-width=\"4.604925070561259\" x1=\"246.66190317755917\" x2=\"246.733931375923\" y1=\"41.562864246467\" y2=\"28.919549587720326\" /><circle cx=\"273.4210544722257\" cy=\"299.84130534636574\" fill=\"#dcf2d7\" fill-opacity=\"0.95\" r=\"19.002837293680447\" stroke=\"black\" stroke-width=\"1.0\" /><text dominant-baseline=\"middle\" fill=\"black\" font-size=\"10\" text-anchor=\"middle\" x=\"273\" y=\"299\">P</text><line stroke=\"#dff3da\" stroke-linecap=\"round\" stroke-opacity=\"0.8\" stroke-width=\"4.604925070561259\" x1=\"338.0654843993193\" x2=\"333.44714220767423\" y1=\"199.64233882942452\" y2=\"199.1190026477548\" /><line stroke=\"#e1f3dc\" stroke-linecap=\"round\" stroke-opacity=\"0.8\" stroke-width=\"4.604925070561259\" x1=\"333.44714220767423\" x2=\"328.82880001602916\" y1=\"199.1190026477548\" y2=\"198.59566646608508\" /><line stroke=\"#dcf2d7\" stroke-linecap=\"round\" stroke-opacity=\"0.8\" stroke-width=\"4.604925070561259\" x1=\"270.396796821281\" x2=\"269.12798127207463\" y1=\"284.58186959586186\" y2=\"278.1798326046329\" /><line stroke=\"#e5f5e1\" stroke-linecap=\"round\" stroke-opacity=\"0.8\" stroke-width=\"4.604925070561259\" x1=\"269.12798127207463\" x2=\"267.8591657228683\" y1=\"278.1798326046329\" y2=\"271.777795613404\" /><line stroke=\"#e9f7e5\" stroke-linecap=\"round\" stroke-opacity=\"0.8\" stroke-width=\"4.604925070561259\" x1=\"250.2845723880177\" x2=\"252.1357588842846\" y1=\"373.6415657608978\" y2=\"361.1017921203746\" /><line stroke=\"#3fa85b\" stroke-linecap=\"round\" stroke-opacity=\"0.8\" stroke-width=\"4.604925070561259\" x1=\"252.1357588842846\" x2=\"253.98694538055153\" y1=\"361.1017921203746\" y2=\"348.5620184798514\" /><line stroke=\"#ceecc8\" stroke-linecap=\"round\" stroke-opacity=\"0.8\" stroke-width=\"4.604925070561259\" x1=\"256.86518986654016\" x2=\"255.15759972314015\" y1=\"179.40549482421875\" y2=\"166.14152158542117\" /><line stroke=\"#d4eece\" stroke-linecap=\"round\" stroke-opacity=\"0.8\" stroke-width=\"4.604925070561259\" x1=\"255.15759972314015\" x2=\"253.45000957974017\" y1=\"166.14152158542117\" y2=\"152.8775483466236\" /><circle cx=\"332.1210449471506\" cy=\"307.8749239281423\" fill=\"#f6fcf4\" fill-opacity=\"0.95\" r=\"5.50549491686069\" stroke=\"black\" stroke-width=\"1.0\" /><text dominant-baseline=\"middle\" fill=\"black\" font-size=\"10\" text-anchor=\"middle\" x=\"332\" y=\"307\">H</text><line stroke=\"#cdecc7\" stroke-linecap=\"round\" stroke-opacity=\"0.8\" stroke-width=\"4.604925070561259\" x1=\"348.05776274196876\" x2=\"354.7262875217526\" y1=\"395.40467561574724\" y2=\"395.0514155081845\" /><line stroke=\"#a3da9d\" stroke-linecap=\"round\" stroke-opacity=\"0.8\" stroke-width=\"4.604925070561259\" x1=\"354.7262875217526\" x2=\"361.3948123015365\" y1=\"395.0514155081845\" y2=\"394.6981554006218\" /><circle cx=\"271.71240692413176\" cy=\"102.64003480148841\" fill=\"#dcf2d7\" fill-opacity=\"0.95\" r=\"19.002837293680447\" stroke=\"black\" stroke-width=\"1.0\" /><text dominant-baseline=\"middle\" fill=\"black\" font-size=\"10\" text-anchor=\"middle\" x=\"271\" y=\"102\">P</text><line stroke=\"#ceecc8\" stroke-linecap=\"round\" stroke-opacity=\"0.8\" stroke-width=\"4.604925070561259\" x1=\"262.24217274882125\" x2=\"263.5218702537088\" y1=\"225.85551736982055\" y2=\"238.30943275177455\" /><line stroke=\"#e5f5e1\" stroke-linecap=\"round\" stroke-opacity=\"0.8\" stroke-width=\"4.604925070561259\" x1=\"263.5218702537088\" x2=\"264.8015677585963\" y1=\"238.30943275177455\" y2=\"250.76334813372856\" /><line stroke=\"#ddf2d8\" stroke-linecap=\"round\" stroke-opacity=\"0.8\" stroke-width=\"4.604925070561259\" x1=\"160.23911135882753\" x2=\"157.71492180507167\" y1=\"192.47617884156935\" y2=\"194.52923917983725\" /><line stroke=\"#a0d99b\" stroke-linecap=\"round\" stroke-opacity=\"0.8\" stroke-width=\"4.604925070561259\" x1=\"157.71492180507167\" x2=\"155.1907322513158\" y1=\"194.52923917983725\" y2=\"196.58229951810517\" /><line stroke=\"#dff3da\" stroke-linecap=\"round\" stroke-opacity=\"0.8\" stroke-width=\"4.604925070561259\" x1=\"360.6997128767914\" x2=\"367.02304770007987\" y1=\"201.8203733335803\" y2=\"202.35365273514316\" /><line stroke=\"#d0edca\" stroke-linecap=\"round\" stroke-opacity=\"0.8\" stroke-width=\"4.604925070561259\" x1=\"367.02304770007987\" x2=\"373.34638252336833\" y1=\"202.35365273514316\" y2=\"202.88693213670598\" /><circle cx=\"246.5231009195763\" cy=\"65.92721963625303\" fill=\"#dbf1d5\" fill-opacity=\"0.95\" r=\"11.721376274606632\" stroke=\"black\" stroke-width=\"1.0\" /><text dominant-baseline=\"middle\" fill=\"black\" font-size=\"10\" text-anchor=\"middle\" x=\"246\" y=\"65\">O</text><circle cx=\"373.04911412242416\" cy=\"394.08077748709945\" fill=\"#a3da9d\" fill-opacity=\"0.95\" r=\"11.721376274606632\" stroke=\"black\" stroke-width=\"1.0\" /><text dominant-baseline=\"middle\" fill=\"black\" font-size=\"10\" text-anchor=\"middle\" x=\"373\" y=\"394\">O</text><circle cx=\"255.6954918269798\" cy=\"336.98847592444923\" fill=\"#3fa85b\" fill-opacity=\"0.95\" r=\"11.721376274606632\" stroke=\"black\" stroke-width=\"1.0\" /><text dominant-baseline=\"middle\" fill=\"black\" font-size=\"10\" text-anchor=\"middle\" x=\"255\" y=\"336\">O</text><circle cx=\"189.60129597435372\" cy=\"131.589236101042\" fill=\"#ecf8e8\" fill-opacity=\"0.95\" r=\"5.50549491686069\" stroke=\"black\" stroke-width=\"1.0\" /><text dominant-baseline=\"middle\" fill=\"black\" font-size=\"10\" text-anchor=\"middle\" x=\"189\" y=\"131\">H</text><circle cx=\"316.95514229158823\" cy=\"99.38432576104123\" fill=\"#f6fcf4\" fill-opacity=\"0.95\" r=\"11.721376274606632\" stroke=\"black\" stroke-width=\"1.0\" /><text dominant-baseline=\"middle\" fill=\"black\" font-size=\"10\" text-anchor=\"middle\" x=\"316\" y=\"99\">O</text><circle cx=\"251.9536861499524\" cy=\"141.25462231486966\" fill=\"#d4eece\" fill-opacity=\"0.95\" r=\"11.721376274606632\" stroke=\"black\" stroke-width=\"1.0\" /><text dominant-baseline=\"middle\" fill=\"black\" font-size=\"10\" text-anchor=\"middle\" x=\"251\" y=\"141\">O</text><circle cx=\"384.93679764501576\" cy=\"203.8644115542394\" fill=\"#d0edca\" fill-opacity=\"0.95\" r=\"11.721376274606632\" stroke=\"black\" stroke-width=\"1.0\" /><text dominant-baseline=\"middle\" fill=\"black\" font-size=\"10\" text-anchor=\"middle\" x=\"384\" y=\"203\">O</text><line stroke=\"#ecf8e8\" stroke-linecap=\"round\" stroke-opacity=\"0.8\" stroke-width=\"4.604925070561259\" x1=\"185.9275090371569\" x2=\"183.28098017514924\" y1=\"133.10488547950246\" y2=\"134.19673154824596\" /><line stroke=\"#afdfa8\" stroke-linecap=\"round\" stroke-opacity=\"0.8\" stroke-width=\"4.604925070561259\" x1=\"183.28098017514924\" x2=\"180.6344513131416\" y1=\"134.19673154824596\" y2=\"135.28857761698947\" /><circle cx=\"334.63765761488594\" cy=\"396.115595637379\" fill=\"#cdecc7\" fill-opacity=\"0.95\" r=\"13.497342376819757\" stroke=\"black\" stroke-width=\"1.0\" /><text dominant-baseline=\"middle\" fill=\"black\" font-size=\"10\" text-anchor=\"middle\" x=\"334\" y=\"396\">C</text><circle cx=\"265.9937357699491\" cy=\"262.36543337477553\" fill=\"#e5f5e1\" fill-opacity=\"0.95\" r=\"11.721376274606632\" stroke=\"black\" stroke-width=\"1.0\" /><text dominant-baseline=\"middle\" fill=\"black\" font-size=\"10\" text-anchor=\"middle\" x=\"265\" y=\"262\">O</text><line stroke=\"#ceecc8\" stroke-linecap=\"round\" stroke-opacity=\"0.8\" stroke-width=\"4.604925070561259\" x1=\"237.36474553549024\" x2=\"211.0810688217897\" y1=\"198.95772977897298\" y2=\"194.64165613805267\" /><line stroke=\"#ddf2d8\" stroke-linecap=\"round\" stroke-opacity=\"0.8\" stroke-width=\"4.604925070561259\" x1=\"211.0810688217897\" x2=\"184.79739210808918\" y1=\"194.64165613805267\" y2=\"190.32558249713233\" /><circle cx=\"246.86747949516106\" cy=\"396.7886508717022\" fill=\"#e9f7e5\" fill-opacity=\"0.95\" r=\"23.442752549213264\" stroke=\"black\" stroke-width=\"1.0\" /><text dominant-baseline=\"middle\" fill=\"black\" font-size=\"10\" text-anchor=\"middle\" x=\"246\" y=\"396\">Fe</text><line stroke=\"#ecf8e8\" stroke-linecap=\"round\" stroke-opacity=\"0.8\" stroke-width=\"4.604925070561259\" x1=\"316.25674567497464\" x2=\"316.3976574075237\" y1=\"98.06992957183814\" y2=\"98.33512822811824\" /><line stroke=\"#f6fcf4\" stroke-linecap=\"round\" stroke-opacity=\"0.8\" stroke-width=\"4.604925070561259\" x1=\"316.3976574075237\" x2=\"316.53856914007275\" y1=\"98.33512822811824\" y2=\"98.60032688439833\" /><line stroke=\"#e9f7e5\" stroke-linecap=\"round\" stroke-opacity=\"0.8\" stroke-width=\"4.604925070561259\" x1=\"226.87904110452635\" x2=\"216.43271395863098\" y1=\"395.3865189433802\" y2=\"394.65373889629967\" /><line stroke=\"#f4fbf2\" stroke-linecap=\"round\" stroke-opacity=\"0.8\" stroke-width=\"4.604925070561259\" x1=\"216.43271395863098\" x2=\"205.9863868127356\" y1=\"394.65373889629967\" y2=\"393.9209588492191\" /><circle cx=\"347.3531742518642\" cy=\"200.69479097399633\" fill=\"#dff3da\" fill-opacity=\"0.95\" r=\"13.497342376819757\" stroke=\"black\" stroke-width=\"1.0\" /><text dominant-baseline=\"middle\" fill=\"black\" font-size=\"10\" text-anchor=\"middle\" x=\"347\" y=\"200\">C</text><circle cx=\"259.85783672611564\" cy=\"202.65134688772665\" fill=\"#ceecc8\" fill-opacity=\"0.95\" r=\"23.442752549213264\" stroke=\"black\" stroke-width=\"1.0\" /><text dominant-baseline=\"middle\" fill=\"black\" font-size=\"10\" text-anchor=\"middle\" x=\"259\" y=\"202\">Fe</text><line stroke=\"#ddf2d8\" stroke-linecap=\"round\" stroke-opacity=\"0.8\" stroke-width=\"4.604925070561259\" x1=\"168.97563686020672\" x2=\"170.1505725984365\" y1=\"168.4934654379053\" y2=\"159.3143202068261\" /><line stroke=\"#afdfa8\" stroke-linecap=\"round\" stroke-opacity=\"0.8\" stroke-width=\"4.604925070561259\" x1=\"170.1505725984365\" x2=\"171.32550833666625\" y1=\"159.3143202068261\" y2=\"150.1351749757469\" /><line stroke=\"#ceecc8\" stroke-linecap=\"round\" stroke-opacity=\"0.8\" stroke-width=\"4.604925070561259\" x1=\"239.9848431772859\" x2=\"229.39729541448725\" y1=\"204.02408965551487\" y2=\"204.75543290203098\" /><line stroke=\"#ccebc6\" stroke-linecap=\"round\" stroke-opacity=\"0.8\" stroke-width=\"4.604925070561259\" x1=\"229.39729541448725\" x2=\"218.8097476516886\" y1=\"204.75543290203098\" y2=\"205.48677614854705\" /><line stroke=\"#ddf2d8\" stroke-linecap=\"round\" stroke-opacity=\"0.8\" stroke-width=\"4.604925070561259\" x1=\"183.60509708775217\" x2=\"190.9836183406615\" y1=\"194.92035320212372\" y2=\"198.20626727453595\" /><line stroke=\"#ccebc6\" stroke-linecap=\"round\" stroke-opacity=\"0.8\" stroke-width=\"4.604925070561259\" x1=\"190.9836183406615\" x2=\"198.36213959357082\" y1=\"198.20626727453595\" y2=\"201.49218134694814\" /><circle cx=\"316.0610825280507\" cy=\"97.70168767523319\" fill=\"#ecf8e8\" fill-opacity=\"0.95\" r=\"5.50549491686069\" stroke=\"black\" stroke-width=\"1.0\" /><text dominant-baseline=\"middle\" fill=\"black\" font-size=\"10\" text-anchor=\"middle\" x=\"316\" y=\"97\">H</text><line stroke=\"#c7e9c0\" stroke-linecap=\"round\" stroke-opacity=\"0.8\" stroke-width=\"4.604925070561259\" x1=\"322.9245316138854\" x2=\"326.4255531201709\" y1=\"396.28303665784046\" y2=\"396.23298899220276\" /><line stroke=\"#cdecc7\" stroke-linecap=\"round\" stroke-opacity=\"0.8\" stroke-width=\"4.604925070561259\" x1=\"326.4255531201709\" x2=\"329.92657462645633\" y1=\"396.23298899220276\" y2=\"396.1829413265651\" /><circle cx=\"349.50554034926927\" cy=\"293.3572790482635\" fill=\"#d7efd1\" fill-opacity=\"0.95\" r=\"5.50549491686069\" stroke=\"black\" stroke-width=\"1.0\" /><text dominant-baseline=\"middle\" fill=\"black\" font-size=\"10\" text-anchor=\"middle\" x=\"349\" y=\"293\">H</text><line stroke=\"#03702e\" stroke-linecap=\"round\" stroke-opacity=\"0.8\" stroke-width=\"4.604925070561259\" x1=\"393.9411971511083\" x2=\"386.4370528867902\" y1=\"396.78421252766003\" y2=\"395.81317644065393\" /><line stroke=\"#a3da9d\" stroke-linecap=\"round\" stroke-opacity=\"0.8\" stroke-width=\"4.604925070561259\" x1=\"386.4370528867902\" x2=\"378.93290862247204\" y1=\"395.81317644065393\" y2=\"394.8421403536479\" /><circle cx=\"172.8128404145935\" cy=\"138.51544403564725\" fill=\"#afdfa8\" fill-opacity=\"0.95\" r=\"11.721376274606632\" stroke=\"black\" stroke-width=\"1.0\" /><text dominant-baseline=\"middle\" fill=\"black\" font-size=\"10\" text-anchor=\"middle\" x=\"172\" y=\"138\">O</text><line stroke=\"#d0edca\" stroke-linecap=\"round\" stroke-opacity=\"0.8\" stroke-width=\"4.604925070561259\" x1=\"391.02199782547746\" x2=\"398.7753704233564\" y1=\"203.37212277339327\" y2=\"202.74487991687874\" /><line stroke=\"#daf0d4\" stroke-linecap=\"round\" stroke-opacity=\"0.8\" stroke-width=\"4.604925070561259\" x1=\"398.7753704233564\" x2=\"406.5287430212353\" y1=\"202.74487991687874\" y2=\"202.1176370603642\" /><circle cx=\"195.99216761741823\" cy=\"393.21989288505813\" fill=\"#f4fbf2\" fill-opacity=\"0.95\" r=\"11.721376274606632\" stroke=\"black\" stroke-width=\"1.0\" /><text dominant-baseline=\"middle\" fill=\"black\" font-size=\"10\" text-anchor=\"middle\" x=\"195\" y=\"393\">O</text><line stroke=\"#dff3da\" stroke-linecap=\"round\" stroke-opacity=\"0.8\" stroke-width=\"4.604925070561259\" x1=\"342.6420912634346\" x2=\"339.1410697571491\" y1=\"200.62744528481016\" y2=\"200.5773976191725\" /><line stroke=\"#e1f3dc\" stroke-linecap=\"round\" stroke-opacity=\"0.8\" stroke-width=\"4.604925070561259\" x1=\"339.1410697571491\" x2=\"335.64004825086363\" y1=\"200.5773976191725\" y2=\"200.52734995353484\" /><circle cx=\"166.56435606720342\" cy=\"187.33151408321834\" fill=\"#ddf2d8\" fill-opacity=\"0.95\" r=\"19.002837293680447\" stroke=\"black\" stroke-width=\"1.0\" /><text dominant-baseline=\"middle\" fill=\"black\" font-size=\"10\" text-anchor=\"middle\" x=\"166\" y=\"187\">P</text><line stroke=\"#e9f7e5\" stroke-linecap=\"round\" stroke-opacity=\"0.8\" stroke-width=\"4.604925070561259\" x1=\"259.0378798560846\" x2=\"266.7912524539635\" y1=\"397.7732284333945\" y2=\"398.40047128990904\" /><line stroke=\"#ecf8e8\" stroke-linecap=\"round\" stroke-opacity=\"0.8\" stroke-width=\"4.604925070561259\" x1=\"266.7912524539635\" x2=\"274.54462505184244\" y1=\"398.40047128990904\" y2=\"399.0277141464236\" /><line stroke=\"#d7efd1\" stroke-linecap=\"round\" stroke-opacity=\"0.8\" stroke-width=\"4.604925070561259\" x1=\"349.3098772023453\" x2=\"349.16896546979626\" y1=\"293.72552094486844\" y2=\"293.99071960114856\" /><line stroke=\"#d5efcf\" stroke-linecap=\"round\" stroke-opacity=\"0.8\" stroke-width=\"4.604925070561259\" x1=\"349.16896546979626\" x2=\"349.0280537372472\" y1=\"293.99071960114856\" y2=\"294.2559182574287\" /><circle cx=\"208.87325087727376\" cy=\"206.17314753244116\" fill=\"#ccebc6\" fill-opacity=\"0.95\" r=\"11.721376274606632\" stroke=\"black\" stroke-width=\"1.0\" /><text dominant-baseline=\"middle\" fill=\"black\" font-size=\"10\" text-anchor=\"middle\" x=\"208\" y=\"206\">O</text><line stroke=\"#03702e\" stroke-linecap=\"round\" stroke-opacity=\"0.8\" stroke-width=\"4.604925070561259\" x1=\"425.58177970003396\" x2=\"436.1693274628326\" y1=\"399.6796810285452\" y2=\"400.41102427506127\" /><line stroke=\"#d0edca\" stroke-linecap=\"round\" stroke-opacity=\"0.8\" stroke-width=\"4.604925070561259\" x1=\"436.1693274628326\" x2=\"446.75687522563123\" y1=\"400.41102427506127\" y2=\"401.14236752157734\" /><line stroke=\"#ceecc8\" stroke-linecap=\"round\" stroke-opacity=\"0.8\" stroke-width=\"4.604925070561259\" x1=\"271.6254257262115\" x2=\"279.12956999052966\" y1=\"201.12862115462974\" y2=\"200.1575850676237\" /><line stroke=\"#dcf2d7\" stroke-linecap=\"round\" stroke-opacity=\"0.8\" stroke-width=\"4.604925070561259\" x1=\"279.12956999052966\" x2=\"286.6337142548478\" y1=\"200.1575850676237\" y2=\"199.18654898061763\" /><line stroke=\"#d3eecd\" stroke-linecap=\"round\" stroke-opacity=\"0.8\" stroke-width=\"4.604925070561259\" x1=\"179.43484390387857\" x2=\"184.14647628403847\" y1=\"387.19540435289935\" y2=\"388.9097620433762\" /><line stroke=\"#f4fbf2\" stroke-linecap=\"round\" stroke-opacity=\"0.8\" stroke-width=\"4.604925070561259\" x1=\"184.14647628403847\" x2=\"188.85810866419837\" y1=\"388.9097620433762\" y2=\"390.62411973385304\" /><line stroke=\"#ddf2d8\" stroke-linecap=\"round\" stroke-opacity=\"0.8\" stroke-width=\"4.604925070561259\" x1=\"154.99853321880153\" x2=\"150.28690083864163\" y1=\"191.53981297986905\" y2=\"193.2541706703459\" /><line stroke=\"#d5efcf\" stroke-linecap=\"round\" stroke-opacity=\"0.8\" stroke-width=\"4.604925070561259\" x1=\"150.28690083864163\" x2=\"145.57526845848173\" y1=\"193.2541706703459\" y2=\"194.96852836082275\" /><line stroke=\"#03702e\" stroke-linecap=\"round\" stroke-opacity=\"0.8\" stroke-width=\"4.604925070561259\" x1=\"428.2018773418297\" x2=\"454.4855540555302\" y1=\"394.61332115200327\" y2=\"390.29724751108296\" /><line stroke=\"#d3eecd\" stroke-linecap=\"round\" stroke-opacity=\"0.8\" stroke-width=\"4.604925070561259\" x1=\"454.4855540555302\" x2=\"480.7692307692307\" y1=\"390.29724751108296\" y2=\"385.98117387016265\" /><line stroke=\"#c7e9c0\" stroke-linecap=\"round\" stroke-opacity=\"0.8\" stroke-width=\"4.604925070561259\" x1=\"304.8669100005285\" x2=\"298.54357517724003\" y1=\"397.47596470661057\" y2=\"398.00924410817345\" /><line stroke=\"#ecf8e8\" stroke-linecap=\"round\" stroke-opacity=\"0.8\" stroke-width=\"4.604925070561259\" x1=\"298.54357517724003\" x2=\"292.22024035395157\" y1=\"398.00924410817345\" y2=\"398.54252350973627\" /><line stroke=\"#03702e\" stroke-linecap=\"round\" stroke-opacity=\"0.8\" stroke-width=\"4.604925070561259\" x1=\"403.3244501284987\" x2=\"402.04475262361115\" y1=\"421.5111087428508\" y2=\"433.9650241248048\" /><line stroke=\"#ddf2d8\" stroke-linecap=\"round\" stroke-opacity=\"0.8\" stroke-width=\"4.604925070561259\" x1=\"402.04475262361115\" x2=\"400.7650551187236\" y1=\"433.9650241248048\" y2=\"446.4189395067588\" /><line stroke=\"#ddf2d8\" stroke-linecap=\"round\" stroke-opacity=\"0.8\" stroke-width=\"4.604925070561259\" x1=\"400.7650551187237\" x2=\"402.0447526236112\" y1=\"55.10775676069818\" y2=\"42.653841378744204\" /><line stroke=\"#03702e\" stroke-linecap=\"round\" stroke-opacity=\"0.8\" stroke-width=\"4.604925070561259\" x1=\"402.0447526236112\" x2=\"403.3244501284987\" y1=\"42.653841378744204\" y2=\"30.199925996790228\" /><line stroke=\"#e1f3dc\" stroke-linecap=\"round\" stroke-opacity=\"0.8\" stroke-width=\"4.604925070561259\" x1=\"317.50886013535126\" x2=\"310.84033535556733\" y1=\"199.74908424271692\" y2=\"199.39582413515421\" /><line stroke=\"#dcf2d7\" stroke-linecap=\"round\" stroke-opacity=\"0.8\" stroke-width=\"4.604925070561259\" x1=\"310.84033535556733\" x2=\"304.1718105757834\" y1=\"199.39582413515421\" y2=\"199.04256402759154\" /><line stroke=\"#03702e\" stroke-linecap=\"round\" stroke-opacity=\"0.8\" stroke-width=\"4.604925070561259\" x1=\"408.70143301077974\" x2=\"410.40902315417975\" y1=\"375.06108619724904\" y2=\"361.7971129584515\" /><line stroke=\"#daf0d4\" stroke-linecap=\"round\" stroke-opacity=\"0.8\" stroke-width=\"4.604925070561259\" x1=\"410.40902315417975\" x2=\"412.11661329757976\" y1=\"361.7971129584515\" y2=\"348.53313971965395\" /><line stroke=\"#e9f7e5\" stroke-linecap=\"round\" stroke-opacity=\"0.8\" stroke-width=\"4.604925070561259\" x1=\"411.57967749676845\" x2=\"413.43086399303536\" y1=\"152.90642710682113\" y2=\"165.4462007473443\" /><line stroke=\"#daf0d4\" stroke-linecap=\"round\" stroke-opacity=\"0.8\" stroke-width=\"4.604925070561259\" x1=\"413.43086399303536\" x2=\"415.28205048930226\" y1=\"165.4462007473443\" y2=\"177.9859743878675\" /><line stroke=\"#d3eecd\" stroke-linecap=\"round\" stroke-opacity=\"0.8\" stroke-width=\"4.604925070561259\" x1=\"150.82828003492796\" x2=\"143.44975878201865\" y1=\"390.57594457515404\" y2=\"393.86185864756624\" /><line stroke=\"#d0edca\" stroke-linecap=\"round\" stroke-opacity=\"0.8\" stroke-width=\"4.604925070561259\" x1=\"143.44975878201865\" x2=\"136.0712375291093\" y1=\"393.86185864756624\" y2=\"397.14777271997843\" /><circle cx=\"318.2134486254557\" cy=\"396.3503823470266\" fill=\"#c7e9c0\" fill-opacity=\"0.95\" r=\"13.497342376819757\" stroke=\"black\" stroke-width=\"1.0\" /><text dominant-baseline=\"middle\" fill=\"black\" font-size=\"10\" text-anchor=\"middle\" x=\"318\" y=\"396\">C</text><circle cx=\"399.5728871073709\" cy=\"66.70984200174513\" fill=\"#ddf2d8\" fill-opacity=\"0.95\" r=\"11.721376274606632\" stroke=\"black\" stroke-width=\"1.0\" /><text dominant-baseline=\"middle\" fill=\"black\" font-size=\"10\" text-anchor=\"middle\" x=\"399\" y=\"66\">O</text><line stroke=\"#d3eecd\" stroke-linecap=\"round\" stroke-opacity=\"0.8\" stroke-width=\"4.604925070561259\" x1=\"165.4577402624734\" x2=\"164.28280452424366\" y1=\"364.1490568109356\" y2=\"354.96991157985644\" /><line stroke=\"#e2f4dd\" stroke-linecap=\"round\" stroke-opacity=\"0.8\" stroke-width=\"4.604925070561259\" x1=\"164.28280452424366\" x2=\"163.1078687860139\" y1=\"354.96991157985644\" y2=\"345.79076634877725\" /><circle cx=\"280.6298252323042\" cy=\"399.52000292726973\" fill=\"#ecf8e8\" fill-opacity=\"0.95\" r=\"11.721376274606632\" stroke=\"black\" stroke-width=\"1.0\" /><text dominant-baseline=\"middle\" fill=\"black\" font-size=\"10\" text-anchor=\"middle\" x=\"280\" y=\"399\">O</text><circle cx=\"333.4455779301693\" cy=\"112.21933255511203\" fill=\"#0c7735\" fill-opacity=\"0.95\" r=\"5.50549491686069\" stroke=\"black\" stroke-width=\"1.0\" /><text dominant-baseline=\"middle\" fill=\"black\" font-size=\"10\" text-anchor=\"middle\" x=\"333\" y=\"112\">H</text><line stroke=\"#cdecc7\" stroke-linecap=\"round\" stroke-opacity=\"0.8\" stroke-width=\"4.604925070561259\" x1=\"401.8624081630311\" x2=\"405.26785615618235\" y1=\"313.94608464524447\" y2=\"320.60137225504\" /><line stroke=\"#daf0d4\" stroke-linecap=\"round\" stroke-opacity=\"0.8\" stroke-width=\"4.604925070561259\" x1=\"405.26785615618235\" x2=\"408.6733041493336\" y1=\"320.60137225504\" y2=\"327.25665986483557\" /><line stroke=\"#cdecc7\" stroke-linecap=\"round\" stroke-opacity=\"0.8\" stroke-width=\"4.604925070561259\" x1=\"376.1956613697753\" x2=\"367.8496672511425\" y1=\"297.02490027053636\" y2=\"296.4243148222238\" /><line stroke=\"#d5efcf\" stroke-linecap=\"round\" stroke-opacity=\"0.8\" stroke-width=\"4.604925070561259\" x1=\"367.8496672511425\" x2=\"359.5036731325097\" y1=\"296.4243148222238\" y2=\"295.8237293739112\" /><circle cx=\"125.56012624540634\" cy=\"401.8287389054715\" fill=\"#d0edca\" fill-opacity=\"0.95\" r=\"11.721376274606632\" stroke=\"black\" stroke-width=\"1.0\" /><text dominant-baseline=\"middle\" fill=\"black\" font-size=\"10\" text-anchor=\"middle\" x=\"125\" y=\"401\">O</text><line stroke=\"#e7f6e2\" stroke-linecap=\"round\" stroke-opacity=\"0.8\" stroke-width=\"4.604925070561259\" x1=\"395.1698260560389\" x2=\"396.4386416052453\" y1=\"88.92627822283157\" y2=\"82.52424123160264\" /><line stroke=\"#ddf2d8\" stroke-linecap=\"round\" stroke-opacity=\"0.8\" stroke-width=\"4.604925070561259\" x1=\"396.4386416052453\" x2=\"397.70745715445173\" y1=\"82.52424123160264\" y2=\"76.12220424037372\" /><circle cx=\"330.928965262434\" cy=\"200.46000426434867\" fill=\"#e1f3dc\" fill-opacity=\"0.95\" r=\"13.497342376819757\" stroke=\"black\" stroke-width=\"1.0\" /><text dominant-baseline=\"middle\" fill=\"black\" font-size=\"10\" text-anchor=\"middle\" x=\"330\" y=\"200\">C</text><circle cx=\"413.61293672736747\" cy=\"336.9102136879\" fill=\"#daf0d4\" fill-opacity=\"0.95\" r=\"11.721376274606632\" stroke=\"black\" stroke-width=\"1.0\" /><text dominant-baseline=\"middle\" fill=\"black\" font-size=\"10\" text-anchor=\"middle\" x=\"413\" y=\"336\">O</text><circle cx=\"348.61148058573167\" cy=\"295.0399171340715\" fill=\"#d5efcf\" fill-opacity=\"0.95\" r=\"11.721376274606632\" stroke=\"black\" stroke-width=\"1.0\" /><text dominant-baseline=\"middle\" fill=\"black\" font-size=\"10\" text-anchor=\"middle\" x=\"348\" y=\"295\">O</text><line stroke=\"#cdecc7\" stroke-linecap=\"round\" stroke-opacity=\"0.8\" stroke-width=\"4.604925070561259\" x1=\"404.13347483811174\" x2=\"408.4182596764092\" y1=\"283.3138505190262\" y2=\"277.06887839622254\" /><line stroke=\"#ddf2d8\" stroke-linecap=\"round\" stroke-opacity=\"0.8\" stroke-width=\"4.604925070561259\" x1=\"408.4182596764092\" x2=\"412.7030445147067\" y1=\"277.06887839622254\" y2=\"270.82390627341897\" /><line stroke=\"#c7e9c0\" stroke-linecap=\"round\" stroke-opacity=\"0.8\" stroke-width=\"4.604925070561259\" x1=\"327.5011384780006\" x2=\"332.11948066964567\" y1=\"395.2979302024548\" y2=\"394.7745940207851\" /><line stroke=\"#abdda5\" stroke-linecap=\"round\" stroke-opacity=\"0.8\" stroke-width=\"4.604925070561259\" x1=\"332.11948066964567\" x2=\"336.73782286129074\" y1=\"394.7745940207851\" y2=\"394.2512578391154\" /><circle cx=\"409.8711310503402\" cy=\"141.33288455141894\" fill=\"#e9f7e5\" fill-opacity=\"0.95\" r=\"11.721376274606632\" stroke=\"black\" stroke-width=\"1.0\" /><text dominant-baseline=\"middle\" fill=\"black\" font-size=\"10\" text-anchor=\"middle\" x=\"409\" y=\"141\">O</text><circle cx=\"292.51750875489574\" cy=\"198.42518611406916\" fill=\"#dcf2d7\" fill-opacity=\"0.95\" r=\"11.721376274606632\" stroke=\"black\" stroke-width=\"1.0\" /><text dominant-baseline=\"middle\" fill=\"black\" font-size=\"10\" text-anchor=\"middle\" x=\"292\" y=\"198\">O</text><line stroke=\"#e7f6e2\" stroke-linecap=\"round\" stroke-opacity=\"0.8\" stroke-width=\"4.604925070561259\" x1=\"399.4086751503271\" x2=\"402.39987952470113\" y1=\"119.4068875175418\" y2=\"125.67550540869709\" /><line stroke=\"#e9f7e5\" stroke-linecap=\"round\" stroke-opacity=\"0.8\" stroke-width=\"4.604925070561259\" x1=\"402.39987952470113\" x2=\"405.39108389907517\" y1=\"125.67550540869709\" y2=\"131.94412329985238\" /><line stroke=\"#daf0d4\" stroke-linecap=\"round\" stroke-opacity=\"0.8\" stroke-width=\"4.604925070561259\" x1=\"75.39549726659548\" x2=\"67.64212466871658\" y1=\"202.1176370603642\" y2=\"202.74487991687874\" /><line stroke=\"#d0edca\" stroke-linecap=\"round\" stroke-opacity=\"0.8\" stroke-width=\"4.604925070561259\" x1=\"67.64212466871658\" x2=\"59.88875207083768\" y1=\"202.74487991687874\" y2=\"203.37212277339327\" /><circle cx=\"138.44120950526187\" cy=\"197.56430151202784\" fill=\"#d5efcf\" fill-opacity=\"0.95\" r=\"11.721376274606632\" stroke=\"black\" stroke-width=\"1.0\" /><text dominant-baseline=\"middle\" fill=\"black\" font-size=\"10\" text-anchor=\"middle\" x=\"138\" y=\"197\">O</text><line stroke=\"#0c7735\" stroke-linecap=\"round\" stroke-opacity=\"0.8\" stroke-width=\"4.604925070561259\" x1=\"335.77706171328543\" x2=\"337.46066298667273\" y1=\"111.55192579216344\" y2=\"111.06998082471202\" /><line stroke=\"#d9f0d3\" stroke-linecap=\"round\" stroke-opacity=\"0.8\" stroke-width=\"4.604925070561259\" x1=\"337.46066298667273\" x2=\"339.14426426006\" y1=\"111.06998082471202\" y2=\"110.58803585726059\" /><line stroke=\"#03702e\" stroke-linecap=\"round\" stroke-opacity=\"0.8\" stroke-width=\"4.604925070561259\" x1=\"383.4442395372092\" x2=\"369.68998055188\" y1=\"396.49023297835714\" y2=\"395.36793592971947\" /><line stroke=\"#abdda5\" stroke-linecap=\"round\" stroke-opacity=\"0.8\" stroke-width=\"4.604925070561259\" x1=\"369.68998055188\" x2=\"355.9357215665508\" y1=\"395.36793592971947\" y2=\"394.24563888108185\" /><line stroke=\"#e1f3dc\" stroke-linecap=\"round\" stroke-opacity=\"0.8\" stroke-width=\"4.604925070561259\" x1=\"340.03115780998615\" x2=\"344.44199030394077\" y1=\"201.32878751233844\" y2=\"201.7497912826297\" /><line stroke=\"#ebf7e7\" stroke-linecap=\"round\" stroke-opacity=\"0.8\" stroke-width=\"4.604925070561259\" x1=\"344.44199030394077\" x2=\"348.85282279789544\" y1=\"201.7497912826297\" y2=\"202.170795052921\" /><circle cx=\"161.62053670808663\" cy=\"334.1710354086776\" fill=\"#e2f4dd\" fill-opacity=\"0.95\" r=\"11.721376274606632\" stroke=\"black\" stroke-width=\"1.0\" /><text dominant-baseline=\"middle\" fill=\"black\" font-size=\"10\" text-anchor=\"middle\" x=\"161\" y=\"334\">O</text><line stroke=\"#d0edca\" stroke-linecap=\"round\" stroke-opacity=\"0.8\" stroke-width=\"4.604925070561259\" x1=\"115.62362947099149\" x2=\"105.03608170819284\" y1=\"401.14236752157734\" y2=\"400.41102427506127\" /><line stroke=\"#03702e\" stroke-linecap=\"round\" stroke-opacity=\"0.8\" stroke-width=\"4.604925070561259\" x1=\"105.03608170819284\" x2=\"94.44853394539419\" y1=\"400.41102427506127\" y2=\"399.6796810285452\" /><line stroke=\"#43ac5e\" stroke-linecap=\"round\" stroke-opacity=\"0.8\" stroke-width=\"4.604925070561259\" x1=\"148.50586808552322\" x2=\"151.15239694753086\" y1=\"328.7604768525328\" y2=\"329.8523229212763\" /><line stroke=\"#e2f4dd\" stroke-linecap=\"round\" stroke-opacity=\"0.8\" stroke-width=\"4.604925070561259\" x1=\"151.15239694753086\" x2=\"153.79892580953853\" y1=\"329.8523229212763\" y2=\"330.9441689900198\" /><line stroke=\"#daf0d4\" stroke-linecap=\"round\" stroke-opacity=\"0.8\" stroke-width=\"4.604925070561259\" x1=\"107.55433601815372\" x2=\"118.00066316404912\" y1=\"199.73092757034996\" y2=\"198.99814752326938\" /><line stroke=\"#d5efcf\" stroke-linecap=\"round\" stroke-opacity=\"0.8\" stroke-width=\"4.604925070561259\" x1=\"118.00066316404912\" x2=\"128.4469903099445\" y1=\"198.99814752326938\" y2=\"198.26536747618883\" /><line stroke=\"#ebf7e7\" stroke-linecap=\"round\" stroke-opacity=\"0.8\" stroke-width=\"4.604925070561259\" x1=\"367.82932961562597\" x2=\"382.1922653145624\" y1=\"202.60491158836143\" y2=\"202.1893386708041\" /><line stroke=\"#daf0d4\" stroke-linecap=\"round\" stroke-opacity=\"0.8\" stroke-width=\"4.604925070561259\" x1=\"382.1922653145624\" x2=\"396.55520101349884\" y1=\"202.1893386708041\" y2=\"201.77376575324678\" /><circle cx=\"405.7087861512043\" cy=\"398.3069382607569\" fill=\"#03702e\" fill-opacity=\"0.95\" r=\"23.442752549213264\" stroke=\"black\" stroke-width=\"1.0\" /><text dominant-baseline=\"middle\" fill=\"black\" font-size=\"10\" text-anchor=\"middle\" x=\"405\" y=\"398\">Fe</text><line stroke=\"#d3eecd\" stroke-linecap=\"round\" stroke-opacity=\"0.8\" stroke-width=\"4.604925070561259\" x1=\"149.63598501459097\" x2=\"123.3523083008904\" y1=\"385.9811738701626\" y2=\"390.2972475110829\" /><line stroke=\"#03702e\" stroke-linecap=\"round\" stroke-opacity=\"0.8\" stroke-width=\"4.604925070561259\" x1=\"123.3523083008904\" x2=\"97.06863158718983\" y1=\"390.2972475110829\" y2=\"394.6133211520032\" /><line stroke=\"#e7f6e2\" stroke-linecap=\"round\" stroke-opacity=\"0.8\" stroke-width=\"4.604925070561259\" x1=\"373.3567612964591\" x2=\"364.5270936978607\" y1=\"106.13407517868512\" y2=\"107.0496938076792\" /><line stroke=\"#d9f0d3\" stroke-linecap=\"round\" stroke-opacity=\"0.8\" stroke-width=\"4.604925070561259\" x1=\"364.5270936978607\" x2=\"355.6974260992623\" y1=\"107.0496938076792\" y2=\"107.96531243667329\" /><circle cx=\"167.8690210554767\" cy=\"382.9871054562486\" fill=\"#d3eecd\" fill-opacity=\"0.95\" r=\"19.002837293680447\" stroke=\"black\" stroke-width=\"1.0\" /><text dominant-baseline=\"middle\" fill=\"black\" font-size=\"10\" text-anchor=\"middle\" x=\"167\" y=\"382\">P</text><circle cx=\"144.83208114832638\" cy=\"327.24482747407234\" fill=\"#43ac5e\" fill-opacity=\"0.95\" r=\"5.50549491686069\" stroke=\"black\" stroke-width=\"1.0\" /><text dominant-baseline=\"middle\" fill=\"black\" font-size=\"10\" text-anchor=\"middle\" x=\"144\" y=\"327\">H</text><circle cx=\"344.8034482595533\" cy=\"393.33728623988196\" fill=\"#abdda5\" fill-opacity=\"0.95\" r=\"11.721376274606632\" stroke=\"black\" stroke-width=\"1.0\" /><text dominant-baseline=\"middle\" fill=\"black\" font-size=\"10\" text-anchor=\"middle\" x=\"344\" y=\"393\">O</text><line stroke=\"#daf0d4\" stroke-linecap=\"round\" stroke-opacity=\"0.8\" stroke-width=\"4.604925070561259\" x1=\"84.14880473466243\" x2=\"82.29761823839553\" y1=\"177.9859743878675\" y2=\"165.4462007473443\" /><line stroke=\"#e9f7e5\" stroke-linecap=\"round\" stroke-opacity=\"0.8\" stroke-width=\"4.604925070561259\" x1=\"82.29761823839553\" x2=\"80.44643174212862\" y1=\"165.4462007473443\" y2=\"152.90642710682113\" /><line stroke=\"#daf0d4\" stroke-linecap=\"round\" stroke-opacity=\"0.8\" stroke-width=\"4.604925070561259\" x1=\"87.69944574675712\" x2=\"87.77147394512093\" y1=\"224.5751409607506\" y2=\"237.21845561949732\" /><line stroke=\"#ddf2d8\" stroke-linecap=\"round\" stroke-opacity=\"0.8\" stroke-width=\"4.604925070561259\" x1=\"87.77147394512093\" x2=\"87.84350214348476\" y1=\"237.21845561949732\" y2=\"249.86177027824405\" /><circle cx=\"393.85421595318815\" cy=\"298.29562617451876\" fill=\"#cdecc7\" fill-opacity=\"0.95\" r=\"19.002837293680447\" stroke=\"black\" stroke-width=\"1.0\" /><text dominant-baseline=\"middle\" fill=\"black\" font-size=\"10\" text-anchor=\"middle\" x=\"393\" y=\"298\">P</text><circle cx=\"356.75735843129587\" cy=\"202.9252647156489\" fill=\"#ebf7e7\" fill-opacity=\"0.95\" r=\"11.721376274606632\" stroke=\"black\" stroke-width=\"1.0\" /><text dominant-baseline=\"middle\" fill=\"black\" font-size=\"10\" text-anchor=\"middle\" x=\"356\" y=\"202\">O</text><line stroke=\"#d3eecd\" stroke-linecap=\"round\" stroke-opacity=\"0.8\" stroke-width=\"4.604925070561259\" x1=\"174.19426576385257\" x2=\"176.71845531760843\" y1=\"388.13177021459967\" y2=\"390.18483055286754\" /><line stroke=\"#e1f3dc\" stroke-linecap=\"round\" stroke-opacity=\"0.8\" stroke-width=\"4.604925070561259\" x1=\"176.71845531760843\" x2=\"179.2426448713643\" y1=\"390.18483055286754\" y2=\"392.23789089113546\" /><circle cx=\"344.1080684434687\" cy=\"109.16710532969273\" fill=\"#d9f0d3\" fill-opacity=\"0.95\" r=\"11.721376274606632\" stroke=\"black\" stroke-width=\"1.0\" /><text dominant-baseline=\"middle\" fill=\"black\" font-size=\"10\" text-anchor=\"middle\" x=\"344\" y=\"109\">O</text><circle cx=\"392.1455684050943\" cy=\"104.1857139733354\" fill=\"#e7f6e2\" fill-opacity=\"0.95\" r=\"19.002837293680447\" stroke=\"black\" stroke-width=\"1.0\" /><text dominant-baseline=\"middle\" fill=\"black\" font-size=\"10\" text-anchor=\"middle\" x=\"392\" y=\"104\">P</text><line stroke=\"#ddf2d8\" stroke-linecap=\"round\" stroke-opacity=\"0.8\" stroke-width=\"4.604925070561259\" x1=\"81.56979876006685\" x2=\"77.28501392176938\" y1=\"270.82390627341897\" y2=\"277.06887839622254\" /><line stroke=\"#cdecc7\" stroke-linecap=\"round\" stroke-opacity=\"0.8\" stroke-width=\"4.604925070561259\" x1=\"77.28501392176938\" x2=\"73.00022908347192\" y1=\"277.06887839622254\" y2=\"283.3138505190262\" /><circle cx=\"87.91027620310382\" cy=\"261.5828110092834\" fill=\"#ddf2d8\" fill-opacity=\"0.95\" r=\"11.721376274606632\" stroke=\"black\" stroke-width=\"1.0\" /><text dominant-baseline=\"middle\" fill=\"black\" font-size=\"10\" text-anchor=\"middle\" x=\"87\" y=\"261\">O</text><line stroke=\"#03702e\" stroke-linecap=\"round\" stroke-opacity=\"0.8\" stroke-width=\"4.604925070561259\" x1=\"412.2657564908902\" x2=\"415.48893958300357\" y1=\"399.473087689036\" y2=\"400.0463269939871\" /><line stroke=\"#026f2e\" stroke-linecap=\"round\" stroke-opacity=\"0.8\" stroke-width=\"4.604925070561259\" x1=\"415.48893958300357\" x2=\"418.7121226751169\" y1=\"400.0463269939871\" y2=\"400.61956629893825\" /><line stroke=\"#daf0d4\" stroke-linecap=\"round\" stroke-opacity=\"0.8\" stroke-width=\"4.604925070561259\" x1=\"65.42195525885907\" x2=\"51.059019559922575\" y1=\"201.77376575324678\" y2=\"202.1893386708041\" /><line stroke=\"#ebf7e7\" stroke-linecap=\"round\" stroke-opacity=\"0.8\" stroke-width=\"4.604925070561259\" x1=\"51.059019559922575\" x2=\"36.69608386098607\" y1=\"202.1893386708041\" y2=\"202.60491158836143\" /><line stroke=\"#cdecc7\" stroke-linecap=\"round\" stroke-opacity=\"0.8\" stroke-width=\"4.604925070561259\" x1=\"391.1752124018293\" x2=\"390.0743194482779\" y1=\"299.46377198703243\" y2=\"299.94380251669133\" /><line stroke=\"#ccebc6\" stroke-linecap=\"round\" stroke-opacity=\"0.8\" stroke-width=\"4.604925070561259\" x1=\"390.0743194482779\" x2=\"388.9734264947265\" y1=\"299.94380251669133\" y2=\"300.42383304635024\" /><line stroke=\"#e7f6e2\" stroke-linecap=\"round\" stroke-opacity=\"0.8\" stroke-width=\"4.604925070561259\" x1=\"399.1136777188583\" x2=\"401.979114754884\" y1=\"101.97670691146726\" y2=\"101.06831550098576\" /><line stroke=\"#c6e8bf\" stroke-linecap=\"round\" stroke-opacity=\"0.8\" stroke-width=\"4.604925070561259\" x1=\"401.979114754884\" x2=\"404.8445517909097\" y1=\"101.06831550098576\" y2=\"100.15992409050426\" /><circle cx=\"87.565897627519\" cy=\"201.1330594986719\" fill=\"#daf0d4\" fill-opacity=\"0.95\" r=\"23.442752549213264\" stroke=\"black\" stroke-width=\"1.0\" /><text dominant-baseline=\"middle\" fill=\"black\" font-size=\"10\" text-anchor=\"middle\" x=\"87\" y=\"201\">Fe</text><circle cx=\"183.1441976821382\" cy=\"395.4112355084361\" fill=\"#e1f3dc\" fill-opacity=\"0.95\" r=\"11.721376274606632\" stroke=\"black\" stroke-width=\"1.0\" /><text dominant-baseline=\"middle\" fill=\"black\" font-size=\"10\" text-anchor=\"middle\" x=\"183\" y=\"395\">O</text><circle cx=\"387.32095701444916\" cy=\"301.14437158491006\" fill=\"#ccebc6\" fill-opacity=\"0.95\" r=\"11.721376274606632\" stroke=\"black\" stroke-width=\"1.0\" /><text dominant-baseline=\"middle\" fill=\"black\" font-size=\"10\" text-anchor=\"middle\" x=\"387\" y=\"301\">O</text><line stroke=\"#026f2e\" stroke-linecap=\"round\" stroke-opacity=\"0.8\" stroke-width=\"4.604925070561259\" x1=\"87.57887692047709\" x2=\"84.35569382836377\" y1=\"400.61956629893825\" y2=\"400.0463269939871\" /><line stroke=\"#03702e\" stroke-linecap=\"round\" stroke-opacity=\"0.8\" stroke-width=\"4.604925070561259\" x1=\"84.35569382836377\" x2=\"81.13251073625047\" y1=\"400.0463269939871\" y2=\"399.473087689036\" /><circle cx=\"409.14263790967993\" cy=\"98.79735898692212\" fill=\"#c6e8bf\" fill-opacity=\"0.95\" r=\"11.721376274606632\" stroke=\"black\" stroke-width=\"1.0\" /><text dominant-baseline=\"middle\" fill=\"black\" font-size=\"10\" text-anchor=\"middle\" x=\"409\" y=\"98\">O</text><line stroke=\"#daf0d4\" stroke-linecap=\"round\" stroke-opacity=\"0.8\" stroke-width=\"4.604925070561259\" x1=\"97.45583024774507\" x2=\"102.59495346159147\" y1=\"200.23617304169005\" y2=\"199.7701223426354\" /><line stroke=\"#d2edcc\" stroke-linecap=\"round\" stroke-opacity=\"0.8\" stroke-width=\"4.604925070561259\" x1=\"102.59495346159147\" x2=\"107.73407667543786\" y1=\"199.7701223426354\" y2=\"199.30407164358076\" /><line stroke=\"#58b668\" stroke-linecap=\"round\" stroke-opacity=\"0.8\" stroke-width=\"4.604925070561259\" x1=\"402.5441697522549\" x2=\"397.4050465384085\" y1=\"299.76382695830983\" y2=\"300.22987765736445\" /><line stroke=\"#ccebc6\" stroke-linecap=\"round\" stroke-opacity=\"0.8\" stroke-width=\"4.604925070561259\" x1=\"397.4050465384085\" x2=\"392.2659233245621\" y1=\"300.22987765736445\" y2=\"300.69592835641913\" /><line stroke=\"#c6e8bf\" stroke-linecap=\"round\" stroke-opacity=\"0.8\" stroke-width=\"4.604925070561259\" x1=\"412.421123079523\" x2=\"415.6443061716363\" y1=\"99.38043370106163\" y2=\"99.95367300601274\" /><line stroke=\"#f6fcf4\" stroke-linecap=\"round\" stroke-opacity=\"0.8\" stroke-width=\"4.604925070561259\" x1=\"415.6443061716363\" x2=\"418.8674892637496\" y1=\"99.95367300601274\" y2=\"100.52691231096384\" /><circle cx=\"90.8573620903201\" cy=\"401.20264101307777\" fill=\"#026f2e\" fill-opacity=\"0.95\" r=\"11.721376274606632\" stroke=\"black\" stroke-width=\"1.0\" /><text dominant-baseline=\"middle\" fill=\"black\" font-size=\"10\" text-anchor=\"middle\" x=\"90\" y=\"401\">O</text><circle cx=\"112.6790429855509\" cy=\"198.8556284150898\" fill=\"#d2edcc\" fill-opacity=\"0.95\" r=\"11.721376274606632\" stroke=\"black\" stroke-width=\"1.0\" /><text dominant-baseline=\"middle\" fill=\"black\" font-size=\"10\" text-anchor=\"middle\" x=\"112\" y=\"198\">O</text><line stroke=\"#58b668\" stroke-linecap=\"round\" stroke-opacity=\"0.8\" stroke-width=\"4.604925070561259\" x1=\"434.57804474114096\" x2=\"448.94098044007745\" y1=\"298.22623424675317\" y2=\"297.8106613291958\" /><line stroke=\"#daf0d4\" stroke-linecap=\"round\" stroke-opacity=\"0.8\" stroke-width=\"4.604925070561259\" x1=\"448.94098044007745\" x2=\"463.30391613901395\" y1=\"297.8106613291958\" y2=\"297.3950884116385\" /><line stroke=\"#dbf1d6\" stroke-linecap=\"round\" stroke-opacity=\"0.8\" stroke-width=\"4.604925070561259\" x1=\"100.88632228114179\" x2=\"98.02088524511609\" y1=\"398.0232930885326\" y2=\"398.93168449901407\" /><line stroke=\"#026f2e\" stroke-linecap=\"round\" stroke-opacity=\"0.8\" stroke-width=\"4.604925070561259\" x1=\"98.02088524511609\" x2=\"95.15544820909038\" y1=\"398.93168449901407\" y2=\"399.84007590949557\" /><circle cx=\"316.85580231786184\" cy=\"104.58876449156384\" fill=\"#5eb96b\" fill-opacity=\"0.95\" r=\"11.721376274606632\" stroke=\"black\" stroke-width=\"1.0\" /><text dominant-baseline=\"middle\" fill=\"black\" font-size=\"10\" text-anchor=\"middle\" x=\"316\" y=\"104\">O</text><line stroke=\"#e0f3db\" stroke-linecap=\"round\" stroke-opacity=\"0.8\" stroke-width=\"4.604925070561259\" x1=\"418.43020123993324\" x2=\"422.7149860782307\" y1=\"229.17609372658094\" y2=\"222.93112160377737\" /><line stroke=\"#d4eece\" stroke-linecap=\"round\" stroke-opacity=\"0.8\" stroke-width=\"4.604925070561259\" x1=\"422.7149860782307\" x2=\"426.9997709165282\" y1=\"222.93112160377737\" y2=\"216.6861494809738\" /><line stroke=\"#d4eece\" stroke-linecap=\"round\" stroke-opacity=\"0.8\" stroke-width=\"4.604925070561259\" x1=\"108.82478759817067\" x2=\"109.92568055172208\" y1=\"200.53622801296748\" y2=\"200.05619748330855\" /><line stroke=\"#d2edcc\" stroke-linecap=\"round\" stroke-opacity=\"0.8\" stroke-width=\"4.604925070561259\" x1=\"109.92568055172208\" x2=\"111.02657350527349\" y1=\"200.05619748330855\" y2=\"199.57616695364965\" /><line stroke=\"#58b668\" stroke-linecap=\"round\" stroke-opacity=\"0.8\" stroke-width=\"4.604925070561259\" x1=\"412.3005542532429\" x2=\"412.2285260548791\" y1=\"275.4248590392493\" y2=\"262.7815443805026\" /><line stroke=\"#e0f3db\" stroke-linecap=\"round\" stroke-opacity=\"0.8\" stroke-width=\"4.604925070561259\" x1=\"412.2285260548791\" x2=\"412.15649785651533\" y1=\"262.7815443805026\" y2=\"250.13822972175595\" /><line stroke=\"#58b668\" stroke-linecap=\"round\" stroke-opacity=\"0.8\" stroke-width=\"4.604925070561259\" x1=\"415.85119526533754\" x2=\"417.7023817616045\" y1=\"322.01402561213246\" y2=\"334.5537992526556\" /><line stroke=\"#dcf2d7\" stroke-linecap=\"round\" stroke-opacity=\"0.8\" stroke-width=\"4.604925070561259\" x1=\"417.7023817616045\" x2=\"419.55356825787146\" y1=\"334.5537992526556\" y2=\"347.09357289317876\" /><line stroke=\"#c9eac2\" stroke-linecap=\"round\" stroke-opacity=\"0.8\" stroke-width=\"4.604925070561259\" x1=\"325.8057342361475\" x2=\"323.2815446823916\" y1=\"111.86822978540027\" y2=\"109.81516944713235\" /><line stroke=\"#5eb96b\" stroke-linecap=\"round\" stroke-opacity=\"0.8\" stroke-width=\"4.604925070561259\" x1=\"323.2815446823916\" x2=\"320.7573551286357\" y1=\"109.81516944713235\" y2=\"107.76210910886442\" /><line stroke=\"#dbf1d6\" stroke-linecap=\"round\" stroke-opacity=\"0.8\" stroke-width=\"4.604925070561259\" x1=\"126.64323870354087\" x2=\"135.4729063021393\" y1=\"393.86592482131476\" y2=\"392.9503061923207\" /><line stroke=\"#d6efd0\" stroke-linecap=\"round\" stroke-opacity=\"0.8\" stroke-width=\"4.604925070561259\" x1=\"135.4729063021393\" x2=\"144.30257390073774\" y1=\"392.9503061923207\" y2=\"392.03468756332666\" /><line stroke=\"#f6fcf4\" stroke-linecap=\"round\" stroke-opacity=\"0.8\" stroke-width=\"4.604925070561259\" x1=\"87.73424350910975\" x2=\"84.51106041699644\" y1=\"100.5269123109639\" y2=\"99.95367300601279\" /><line stroke=\"#c6e8bf\" stroke-linecap=\"round\" stroke-opacity=\"0.8\" stroke-width=\"4.604925070561259\" x1=\"84.51106041699644\" x2=\"81.28787732488314\" y1=\"99.95367300601279\" y2=\"99.38043370106169\" /><circle cx=\"412.08972379689624\" cy=\"238.4171889907166\" fill=\"#e0f3db\" fill-opacity=\"0.95\" r=\"11.721376274606632\" stroke=\"black\" stroke-width=\"1.0\" /><text dominant-baseline=\"middle\" fill=\"black\" font-size=\"10\" text-anchor=\"middle\" x=\"412\" y=\"238\">O</text><circle cx=\"355.1679188516737\" cy=\"172.75517252592755\" fill=\"#e5f5e0\" fill-opacity=\"0.95\" r=\"5.50549491686069\" stroke=\"black\" stroke-width=\"1.0\" /><text dominant-baseline=\"middle\" fill=\"black\" font-size=\"10\" text-anchor=\"middle\" x=\"355\" y=\"172\">H</text><circle cx=\"155.89193155653135\" cy=\"390.83289467030716\" fill=\"#d6efd0\" fill-opacity=\"0.95\" r=\"11.721376274606632\" stroke=\"black\" stroke-width=\"1.0\" /><text dominant-baseline=\"middle\" fill=\"black\" font-size=\"10\" text-anchor=\"middle\" x=\"155\" y=\"390\">O</text><line stroke=\"#e5f5e0\" stroke-linecap=\"round\" stroke-opacity=\"0.8\" stroke-width=\"4.604925070561259\" x1=\"351.49413191447684\" x2=\"348.84760305246914\" y1=\"171.23952314746708\" y2=\"170.14767707872358\" /><line stroke=\"#50b264\" stroke-linecap=\"round\" stroke-opacity=\"0.8\" stroke-width=\"4.604925070561259\" x1=\"348.84760305246914\" x2=\"346.20107419046144\" y1=\"170.14767707872358\" y2=\"169.05583100998007\" /><circle cx=\"143.24264156870413\" cy=\"297.07473528435105\" fill=\"#daf0d4\" fill-opacity=\"0.95\" r=\"11.721376274606632\" stroke=\"black\" stroke-width=\"1.0\" /><text dominant-baseline=\"middle\" fill=\"black\" font-size=\"10\" text-anchor=\"middle\" x=\"143\" y=\"297\">O</text><line stroke=\"#c9eac2\" stroke-linecap=\"round\" stroke-opacity=\"0.8\" stroke-width=\"4.604925070561259\" x1=\"350.3640149854091\" x2=\"376.6476916991096\" y1=\"114.0188261298373\" y2=\"109.70275248891696\" /><line stroke=\"#f6fcf4\" stroke-linecap=\"round\" stroke-opacity=\"0.8\" stroke-width=\"4.604925070561259\" x1=\"376.6476916991096\" x2=\"402.9313684128101\" y1=\"109.70275248891696\" y2=\"105.38667884799662\" /><line stroke=\"#daf0d4\" stroke-linecap=\"round\" stroke-opacity=\"0.8\" stroke-width=\"4.604925070561259\" x1=\"132.17067038437418\" x2=\"117.80773468543764\" y1=\"297.3950884116385\" y2=\"297.8106613291958\" /><line stroke=\"#58b668\" stroke-linecap=\"round\" stroke-opacity=\"0.8\" stroke-width=\"4.604925070561259\" x1=\"117.80773468543764\" x2=\"103.4447989865011\" y1=\"297.8106613291958\" y2=\"298.22623424675317\" /><circle cx=\"412.434102372481\" cy=\"298.86694050132803\" fill=\"#58b668\" fill-opacity=\"0.95\" r=\"23.442752549213264\" stroke=\"black\" stroke-width=\"1.0\" /><text dominant-baseline=\"middle\" fill=\"black\" font-size=\"10\" text-anchor=\"middle\" x=\"412\" y=\"298\">Fe</text><line stroke=\"#a8dca2\" stroke-linecap=\"round\" stroke-opacity=\"0.8\" stroke-width=\"4.604925070561259\" x1=\"164.2229382867146\" x2=\"162.53933701332727\" y1=\"388.44807420783644\" y2=\"388.93001917528784\" /><line stroke=\"#d6efd0\" stroke-linecap=\"round\" stroke-opacity=\"0.8\" stroke-width=\"4.604925070561259\" x1=\"162.53933701332727\" x2=\"160.85573573993997\" y1=\"388.93001917528784\" y2=\"389.4119641427393\" /><line stroke=\"#58b668\" stroke-linecap=\"round\" stroke-opacity=\"0.8\" stroke-width=\"4.604925070561259\" x1=\"392.4456639818462\" x2=\"381.9993368359508\" y1=\"300.26907242965\" y2=\"301.00185247673056\" /><line stroke=\"#c8e9c1\" stroke-linecap=\"round\" stroke-opacity=\"0.8\" stroke-width=\"4.604925070561259\" x1=\"381.9993368359508\" x2=\"371.55300969005543\" y1=\"301.00185247673056\" y2=\"301.7346325238111\" /><circle cx=\"155.19655174044664\" cy=\"106.66271376011798\" fill=\"#e9f7e5\" fill-opacity=\"0.95\" r=\"11.721376274606632\" stroke=\"black\" stroke-width=\"1.0\" /><text dominant-baseline=\"middle\" fill=\"black\" font-size=\"10\" text-anchor=\"middle\" x=\"155\" y=\"106\">O</text><line stroke=\"#f6fcf4\" stroke-linecap=\"round\" stroke-opacity=\"0.8\" stroke-width=\"4.604925070561259\" x1=\"116.55576046279074\" x2=\"130.31001944811993\" y1=\"103.5097670216428\" y2=\"104.63206407028045\" /><line stroke=\"#e9f7e5\" stroke-linecap=\"round\" stroke-opacity=\"0.8\" stroke-width=\"4.604925070561259\" x1=\"130.31001944811993\" x2=\"144.06427843344915\" y1=\"104.63206407028045\" y2=\"105.7543611189181\" /><line stroke=\"#e2f4dd\" stroke-linecap=\"round\" stroke-opacity=\"0.8\" stroke-width=\"4.604925070561259\" x1=\"159.9688421900139\" x2=\"155.5580096960593\" y1=\"298.6712124876615\" y2=\"298.25020871737024\" /><line stroke=\"#daf0d4\" stroke-linecap=\"round\" stroke-opacity=\"0.8\" stroke-width=\"4.604925070561259\" x1=\"155.5580096960593\" x2=\"151.14717720210464\" y1=\"298.25020871737024\" y2=\"297.829204947079\" /><line stroke=\"#d4eece\" stroke-linecap=\"round\" stroke-opacity=\"0.8\" stroke-width=\"4.604925070561259\" x1=\"95.86652516188829\" x2=\"91.58174032359085\" y1=\"216.6861494809738\" y2=\"222.93112160377737\" /><line stroke=\"#e0f3db\" stroke-linecap=\"round\" stroke-opacity=\"0.8\" stroke-width=\"4.604925070561259\" x1=\"91.58174032359085\" x2=\"87.2969554852934\" y1=\"222.93112160377737\" y2=\"229.17609372658094\" /><line stroke=\"#c9eac2\" stroke-linecap=\"round\" stroke-opacity=\"0.8\" stroke-width=\"4.604925070561259\" x1=\"334.54225973752665\" x2=\"335.7171954757564\" y1=\"135.8509431890643\" y2=\"145.03008842014347\" /><line stroke=\"#50b264\" stroke-linecap=\"round\" stroke-opacity=\"0.8\" stroke-width=\"4.604925070561259\" x1=\"335.7171954757564\" x2=\"336.8921312139862\" y1=\"145.03008842014347\" y2=\"154.20923365122263\" /><line stroke=\"#dbf1d6\" stroke-linecap=\"round\" stroke-opacity=\"0.8\" stroke-width=\"4.604925070561259\" x1=\"100.591324849673\" x2=\"97.60012047529898\" y1=\"380.5931124824581\" y2=\"374.3244945913028\" /><line stroke=\"#dcf2d7\" stroke-linecap=\"round\" stroke-opacity=\"0.8\" stroke-width=\"4.604925070561259\" x1=\"97.60012047529898\" x2=\"94.60891610092494\" y1=\"374.3244945913028\" y2=\"368.05587670014756\" /><line stroke=\"#ddf2d8\" stroke-linecap=\"round\" stroke-opacity=\"0.8\" stroke-width=\"4.604925070561259\" x1=\"384.37637052900857\" x2=\"394.9639182918072\" y1=\"98.85763247842254\" y2=\"99.58897572493865\" /><line stroke=\"#f6fcf4\" stroke-linecap=\"round\" stroke-opacity=\"0.8\" stroke-width=\"4.604925070561259\" x1=\"394.9639182918072\" x2=\"405.55146605460584\" y1=\"99.58897572493865\" y2=\"100.32031897145475\" /><line stroke=\"#d4eece\" stroke-linecap=\"round\" stroke-opacity=\"0.8\" stroke-width=\"4.604925070561259\" x1=\"98.13759183696891\" x2=\"94.73214384381768\" y1=\"186.05391535475553\" y2=\"179.39862774495992\" /><line stroke=\"#dff3da\" stroke-linecap=\"round\" stroke-opacity=\"0.8\" stroke-width=\"4.604925070561259\" x1=\"94.73214384381768\" x2=\"91.32669585066645\" y1=\"179.39862774495992\" y2=\"172.74334013516432\" /><line stroke=\"#d4eece\" stroke-linecap=\"round\" stroke-opacity=\"0.8\" stroke-width=\"4.604925070561259\" x1=\"123.80433863022469\" x2=\"132.15033274885747\" y1=\"202.97509972946358\" y2=\"203.57568517777617\" /><line stroke=\"#e5f5e0\" stroke-linecap=\"round\" stroke-opacity=\"0.8\" stroke-width=\"4.604925070561259\" x1=\"132.15033274885747\" x2=\"140.49632686749024\" y1=\"203.57568517777617\" y2=\"204.17627062608878\" /><circle cx=\"107.85443159490575\" cy=\"395.8142860266645\" fill=\"#dbf1d6\" fill-opacity=\"0.95\" r=\"19.002837293680447\" stroke=\"black\" stroke-width=\"1.0\" /><text dominant-baseline=\"middle\" fill=\"black\" font-size=\"10\" text-anchor=\"middle\" x=\"107\" y=\"395\">P</text><line stroke=\"#cfecc9\" stroke-linecap=\"round\" stroke-opacity=\"0.8\" stroke-width=\"4.604925070561259\" x1=\"172.4988615219994\" x2=\"167.88051933035433\" y1=\"104.70206979754511\" y2=\"105.22540597921483\" /><line stroke=\"#e9f7e5\" stroke-linecap=\"round\" stroke-opacity=\"0.8\" stroke-width=\"4.604925070561259\" x1=\"167.88051933035433\" x2=\"163.26217713870926\" y1=\"105.22540597921483\" y2=\"105.74874216088455\" /><line stroke=\"#dbf1d6\" stroke-linecap=\"round\" stroke-opacity=\"0.8\" stroke-width=\"4.604925070561259\" x1=\"104.83017394396107\" x2=\"103.5613583947547\" y1=\"411.0737217771684\" y2=\"417.4757587683973\" /><line stroke=\"#cfecc9\" stroke-linecap=\"round\" stroke-opacity=\"0.8\" stroke-width=\"4.604925070561259\" x1=\"103.5613583947547\" x2=\"102.29254284554833\" y1=\"417.4757587683973\" y2=\"423.8777957596262\" /><line stroke=\"#c9eac2\" stroke-linecap=\"round\" stroke-opacity=\"0.8\" stroke-width=\"4.604925070561259\" x1=\"349.17171996507216\" x2=\"356.55024121798147\" y1=\"109.42405542484585\" y2=\"106.13814135243365\" /><line stroke=\"#ddf2d8\" stroke-linecap=\"round\" stroke-opacity=\"0.8\" stroke-width=\"4.604925070561259\" x1=\"356.55024121798147\" x2=\"363.9287624708908\" y1=\"106.13814135243365\" y2=\"102.85222728002145\" /><line stroke=\"#dcf2d7\" stroke-linecap=\"round\" stroke-opacity=\"0.8\" stroke-width=\"4.604925070561259\" x1=\"88.42032250323159\" x2=\"86.56913600696467\" y1=\"347.09357289317876\" y2=\"334.5537992526556\" /><line stroke=\"#58b668\" stroke-linecap=\"round\" stroke-opacity=\"0.8\" stroke-width=\"4.604925070561259\" x1=\"86.56913600696467\" x2=\"84.71794951069776\" y1=\"334.5537992526556\" y2=\"322.01402561213246\" /><line stroke=\"#f6fcf4\" stroke-linecap=\"round\" stroke-opacity=\"0.8\" stroke-width=\"4.604925070561259\" x1=\"91.29856698922026\" x2=\"89.59097684582025\" y1=\"124.93891380275085\" y2=\"138.2028870415484\" /><line stroke=\"#dff3da\" stroke-linecap=\"round\" stroke-opacity=\"0.8\" stroke-width=\"4.604925070561259\" x1=\"89.59097684582025\" x2=\"87.88338670242024\" y1=\"138.2028870415484\" y2=\"151.46686028034594\" /><circle cx=\"166.55442206983076\" cy=\"387.7806674448879\" fill=\"#a8dca2\" fill-opacity=\"0.95\" r=\"5.50549491686069\" stroke=\"black\" stroke-width=\"1.0\" /><text dominant-baseline=\"middle\" fill=\"black\" font-size=\"10\" text-anchor=\"middle\" x=\"166\" y=\"387\">H</text><line stroke=\"#e2f4dd\" stroke-linecap=\"round\" stroke-opacity=\"0.8\" stroke-width=\"4.604925070561259\" x1=\"182.4911398646488\" x2=\"189.1596646444327\" y1=\"300.250915757283\" y2=\"300.60417586484573\" /><line stroke=\"#def2d9\" stroke-linecap=\"round\" stroke-opacity=\"0.8\" stroke-width=\"4.604925070561259\" x1=\"189.1596646444327\" x2=\"195.8281894242166\" y1=\"300.60417586484573\" y2=\"300.9574359724084\" /><circle cx=\"106.14578404681184\" cy=\"201.70437382548118\" fill=\"#d4eece\" fill-opacity=\"0.95\" r=\"19.002837293680447\" stroke=\"black\" stroke-width=\"1.0\" /><text dominant-baseline=\"middle\" fill=\"black\" font-size=\"10\" text-anchor=\"middle\" x=\"106\" y=\"201\">P</text><line stroke=\"#cfecc9\" stroke-linecap=\"round\" stroke-opacity=\"0.8\" stroke-width=\"4.604925070561259\" x1=\"99.23494488127636\" x2=\"97.95524737638883\" y1=\"444.8922432393017\" y2=\"457.34615862125565\" /><line stroke=\"#f6fcf4\" stroke-linecap=\"round\" stroke-opacity=\"0.8\" stroke-width=\"4.604925070561259\" x1=\"97.95524737638883\" x2=\"96.6755498715013\" y1=\"457.34615862125565\" y2=\"469.80007400320966\" /><line stroke=\"#f6fcf4\" stroke-linecap=\"round\" stroke-opacity=\"0.8\" stroke-width=\"4.604925070561259\" x1=\"96.67554987150137\" x2=\"97.95524737638891\" y1=\"78.48889125714908\" y2=\"66.03497587519507\" /><line stroke=\"#cfecc9\" stroke-linecap=\"round\" stroke-opacity=\"0.8\" stroke-width=\"4.604925070561259\" x1=\"97.95524737638891\" x2=\"99.23494488127643\" y1=\"66.03497587519507\" y2=\"53.58106049324107\" /><circle cx=\"338.3794632919134\" cy=\"165.8289645913223\" fill=\"#50b264\" fill-opacity=\"0.95\" r=\"11.721376274606632\" stroke=\"black\" stroke-width=\"1.0\" /><text dominant-baseline=\"middle\" fill=\"black\" font-size=\"10\" text-anchor=\"middle\" x=\"338\" y=\"165\">O</text><line stroke=\"#cfecc9\" stroke-linecap=\"round\" stroke-opacity=\"0.8\" stroke-width=\"4.604925070561259\" x1=\"195.1330899994715\" x2=\"201.45642482275997\" y1=\"102.52403529338926\" y2=\"101.99075589182644\" /><line stroke=\"#a2d99c\" stroke-linecap=\"round\" stroke-opacity=\"0.8\" stroke-width=\"4.604925070561259\" x1=\"201.45642482275997\" x2=\"207.77975964604843\" y1=\"101.99075589182644\" y2=\"101.45747649026362\" /><circle cx=\"361.5587904947381\" cy=\"302.4356984879721\" fill=\"#c8e9c1\" fill-opacity=\"0.95\" r=\"11.721376274606632\" stroke=\"black\" stroke-width=\"1.0\" /><text dominant-baseline=\"middle\" fill=\"black\" font-size=\"10\" text-anchor=\"middle\" x=\"361\" y=\"302\">O</text><circle cx=\"207.48249124510426\" cy=\"301.5748138859307\" fill=\"#def2d9\" fill-opacity=\"0.95\" r=\"11.721376274606632\" stroke=\"black\" stroke-width=\"1.0\" /><text dominant-baseline=\"middle\" fill=\"black\" font-size=\"10\" text-anchor=\"middle\" x=\"207\" y=\"301\">O</text><circle cx=\"332.13097894452335\" cy=\"117.01289454375126\" fill=\"#c9eac2\" fill-opacity=\"0.95\" r=\"19.002837293680447\" stroke=\"black\" stroke-width=\"1.0\" /><text dominant-baseline=\"middle\" fill=\"black\" font-size=\"10\" text-anchor=\"middle\" x=\"332\" y=\"117\">P</text><circle cx=\"90.12886894965989\" cy=\"358.667115448581\" fill=\"#dcf2d7\" fill-opacity=\"0.95\" r=\"11.721376274606632\" stroke=\"black\" stroke-width=\"1.0\" /><text dominant-baseline=\"middle\" fill=\"black\" font-size=\"10\" text-anchor=\"middle\" x=\"90\" y=\"358\">O</text><line stroke=\"#58b668\" stroke-linecap=\"round\" stroke-opacity=\"0.8\" stroke-width=\"4.604925070561259\" x1=\"424.6045027334045\" x2=\"432.3578753312834\" y1=\"297.88236293963575\" y2=\"297.2551200831212\" /><line stroke=\"#ddf2d8\" stroke-linecap=\"round\" stroke-opacity=\"0.8\" stroke-width=\"4.604925070561259\" x1=\"432.3578753312834\" x2=\"440.11124792916235\" y1=\"297.2551200831212\" y2=\"296.62787722660664\" /><circle cx=\"151.38851941426827\" cy=\"204.9600828659284\" fill=\"#e5f5e0\" fill-opacity=\"0.95\" r=\"11.721376274606632\" stroke=\"black\" stroke-width=\"1.0\" /><text dominant-baseline=\"middle\" fill=\"black\" font-size=\"10\" text-anchor=\"middle\" x=\"151\" y=\"204\">O</text><circle cx=\"86.38706327263249\" cy=\"163.08978631209987\" fill=\"#dff3da\" fill-opacity=\"0.95\" r=\"11.721376274606632\" stroke=\"black\" stroke-width=\"1.0\" /><text dominant-baseline=\"middle\" fill=\"black\" font-size=\"10\" text-anchor=\"middle\" x=\"86\" y=\"163\">O</text><circle cx=\"374.4398737545937\" cy=\"98.1712610945284\" fill=\"#ddf2d8\" fill-opacity=\"0.95\" r=\"11.721376274606632\" stroke=\"black\" stroke-width=\"1.0\" /><text dominant-baseline=\"middle\" fill=\"black\" font-size=\"10\" text-anchor=\"middle\" x=\"374\" y=\"98\">O</text><circle cx=\"219.37017476769583\" cy=\"100.47999707273016\" fill=\"#a2d99c\" fill-opacity=\"0.95\" r=\"11.721376274606632\" stroke=\"black\" stroke-width=\"1.0\" /><text dominant-baseline=\"middle\" fill=\"black\" font-size=\"10\" text-anchor=\"middle\" x=\"219\" y=\"100\">O</text><circle cx=\"169.07103473756604\" cy=\"299.53999573565125\" fill=\"#e2f4dd\" fill-opacity=\"0.95\" r=\"13.497342376819757\" stroke=\"black\" stroke-width=\"1.0\" /><text dominant-baseline=\"middle\" fill=\"black\" font-size=\"10\" text-anchor=\"middle\" x=\"169\" y=\"299\">C</text><circle cx=\"100.42711289262918\" cy=\"433.29015799825476\" fill=\"#cfecc9\" fill-opacity=\"0.95\" r=\"11.721376274606632\" stroke=\"black\" stroke-width=\"1.0\" /><text dominant-baseline=\"middle\" fill=\"black\" font-size=\"10\" text-anchor=\"middle\" x=\"100\" y=\"433\">O</text><line stroke=\"#f6fcf4\" stroke-linecap=\"round\" stroke-opacity=\"0.8\" stroke-width=\"4.604925070561259\" x1=\"71.79812265817036\" x2=\"45.5144459444698\" y1=\"105.38667884799662\" y2=\"109.70275248891696\" /><line stroke=\"#c9eac2\" stroke-linecap=\"round\" stroke-opacity=\"0.8\" stroke-width=\"4.604925070561259\" x1=\"45.5144459444698\" x2=\"19.23076923076924\" y1=\"109.70275248891696\" y2=\"114.0188261298373\" /><line stroke=\"#dbf1d6\" stroke-linecap=\"round\" stroke-opacity=\"0.8\" stroke-width=\"4.604925070561259\" x1=\"345.0014667811985\" x2=\"349.71309916135834\" y1=\"308.4601870201309\" y2=\"306.74582932965404\" /><line stroke=\"#c8e9c1\" stroke-linecap=\"round\" stroke-opacity=\"0.8\" stroke-width=\"4.604925070561259\" x1=\"349.71309916135834\" x2=\"354.4247315415182\" y1=\"306.74582932965404\" y2=\"305.0314716391772\" /><line stroke=\"#c9eac2\" stroke-linecap=\"round\" stroke-opacity=\"0.8\" stroke-width=\"4.604925070561259\" x1=\"320.5651560961214\" x2=\"315.8535237159615\" y1=\"112.80459564710054\" y2=\"111.0902379566237\" /><line stroke=\"#ecf8e8\" stroke-linecap=\"round\" stroke-opacity=\"0.8\" stroke-width=\"4.604925070561259\" x1=\"315.8535237159615\" x2=\"311.14189133580163\" y1=\"111.0902379566237\" y2=\"109.37588026614685\" /><line stroke=\"#6ec173\" stroke-linecap=\"round\" stroke-opacity=\"0.8\" stroke-width=\"4.604925070561259\" x1=\"150.69012279765468\" x2=\"150.83103453020374\" y1=\"206.27447905513148\" y2=\"206.0092803988514\" /><line stroke=\"#e5f5e0\" stroke-linecap=\"round\" stroke-opacity=\"0.8\" stroke-width=\"4.604925070561259\" x1=\"150.83103453020374\" x2=\"150.9719462627528\" y1=\"206.0092803988514\" y2=\"205.7440817425713\" /><circle cx=\"181.78655137454422\" cy=\"103.64961765297329\" fill=\"#cfecc9\" fill-opacity=\"0.95\" r=\"13.497342376819757\" stroke=\"black\" stroke-width=\"1.0\" /><text dominant-baseline=\"middle\" fill=\"black\" font-size=\"10\" text-anchor=\"middle\" x=\"181\" y=\"103\">C</text><circle cx=\"94.29121384879575\" cy=\"101.69306173924298\" fill=\"#f6fcf4\" fill-opacity=\"0.95\" r=\"23.442752549213264\" stroke=\"black\" stroke-width=\"1.0\" /><text dominant-baseline=\"middle\" fill=\"black\" font-size=\"10\" text-anchor=\"middle\" x=\"94\" y=\"101\">Fe</text><line stroke=\"#f6fcf4\" stroke-linecap=\"round\" stroke-opacity=\"0.8\" stroke-width=\"4.604925070561259\" x1=\"74.41822029996602\" x2=\"63.830672537167366\" y1=\"100.32031897145475\" y2=\"99.58897572493865\" /><line stroke=\"#ddf2d8\" stroke-linecap=\"round\" stroke-opacity=\"0.8\" stroke-width=\"4.604925070561259\" x1=\"63.830672537167366\" x2=\"53.24312477436871\" y1=\"99.58897572493865\" y2=\"98.85763247842254\" /><line stroke=\"#dbf1d6\" stroke-linecap=\"round\" stroke-opacity=\"0.8\" stroke-width=\"4.604925070561259\" x1=\"316.39490291224786\" x2=\"309.01638165933855\" y1=\"305.0796467978762\" y2=\"301.793732725464\" /><line stroke=\"#e9f7e5\" stroke-linecap=\"round\" stroke-opacity=\"0.8\" stroke-width=\"4.604925070561259\" x1=\"309.01638165933855\" x2=\"301.63786040642924\" y1=\"301.793732725464\" y2=\"298.5078186530518\" /><circle cx=\"150.49445965073076\" cy=\"206.64272095173646\" fill=\"#6ec173\" fill-opacity=\"0.95\" r=\"5.50549491686069\" stroke=\"black\" stroke-width=\"1.0\" /><text dominant-baseline=\"middle\" fill=\"black\" font-size=\"10\" text-anchor=\"middle\" x=\"150\" y=\"206\">H</text><line stroke=\"#dbf1d6\" stroke-linecap=\"round\" stroke-opacity=\"0.8\" stroke-width=\"4.604925070561259\" x1=\"331.02436313979325\" x2=\"329.8494274015635\" y1=\"331.50653456209466\" y2=\"340.6856797931738\" /><line stroke=\"#e7f6e2\" stroke-linecap=\"round\" stroke-opacity=\"0.8\" stroke-width=\"4.604925070561259\" x1=\"329.8494274015635\" x2=\"328.67449166333375\" y1=\"340.6856797931738\" y2=\"349.8648250242529\" /><line stroke=\"#e2f4dd\" stroke-linecap=\"round\" stroke-opacity=\"0.8\" stroke-width=\"4.604925070561259\" x1=\"157.3579087365655\" x2=\"160.85893024285096\" y1=\"299.3725547151897\" y2=\"299.4226023808274\" /><line stroke=\"#e2f4dd\" stroke-linecap=\"round\" stroke-opacity=\"0.8\" stroke-width=\"4.604925070561259\" x1=\"160.85893024285096\" x2=\"164.35995174913643\" y1=\"299.4226023808274\" y2=\"299.4726500464651\" /><circle cx=\"183.93891747194937\" cy=\"402.29831232476675\" fill=\"#f4fbf2\" fill-opacity=\"0.95\" r=\"5.50549491686069\" stroke=\"black\" stroke-width=\"1.0\" /><text dominant-baseline=\"middle\" fill=\"black\" font-size=\"10\" text-anchor=\"middle\" x=\"183\" y=\"402\">H</text><line stroke=\"#46ae60\" stroke-linecap=\"round\" stroke-opacity=\"0.8\" stroke-width=\"4.604925070561259\" x1=\"228.37457427378848\" x2=\"220.87043000947034\" y1=\"298.87137884537015\" y2=\"299.8424149323762\" /><line stroke=\"#def2d9\" stroke-linecap=\"round\" stroke-opacity=\"0.8\" stroke-width=\"4.604925070561259\" x1=\"220.87043000947034\" x2=\"213.36628574515217\" y1=\"299.8424149323762\" y2=\"300.8134510193823\" /><circle cx=\"291.12674912272627\" cy=\"293.82685246755875\" fill=\"#e9f7e5\" fill-opacity=\"0.95\" r=\"11.721376274606632\" stroke=\"black\" stroke-width=\"1.0\" /><text dominant-baseline=\"middle\" fill=\"black\" font-size=\"10\" text-anchor=\"middle\" x=\"291\" y=\"293\">O</text><line stroke=\"#f5fbf2\" stroke-linecap=\"round\" stroke-opacity=\"0.8\" stroke-width=\"4.604925070561259\" x1=\"240.9621201439154\" x2=\"233.20874754603648\" y1=\"102.22677156660541\" y2=\"101.59952871009085\" /><line stroke=\"#a2d99c\" stroke-linecap=\"round\" stroke-opacity=\"0.8\" stroke-width=\"4.604925070561259\" x1=\"233.20874754603648\" x2=\"225.45537494815758\" y1=\"101.59952871009085\" y2=\"100.9722858535763\" /><line stroke=\"#cfecc9\" stroke-linecap=\"round\" stroke-opacity=\"0.8\" stroke-width=\"4.604925070561259\" x1=\"177.0754683861146\" x2=\"173.57444687982917\" y1=\"103.71696334215943\" y2=\"103.7670110077971\" /><line stroke=\"#dbf1d6\" stroke-linecap=\"round\" stroke-opacity=\"0.8\" stroke-width=\"4.604925070561259\" x1=\"173.57444687982917\" x2=\"170.0734253735437\" y1=\"103.7670110077971\" y2=\"103.81705867343476\" /><circle cx=\"304.0078323825818\" cy=\"106.78010711494176\" fill=\"#ecf8e8\" fill-opacity=\"0.95\" r=\"11.721376274606632\" stroke=\"black\" stroke-width=\"1.0\" /><text dominant-baseline=\"middle\" fill=\"black\" font-size=\"10\" text-anchor=\"middle\" x=\"304\" y=\"106\">O</text><line stroke=\"#ddf2d8\" stroke-linecap=\"round\" stroke-opacity=\"0.8\" stroke-width=\"4.604925070561259\" x1=\"108.97800217452252\" x2=\"101.22462957664361\" y1=\"296.62787722660664\" y2=\"297.2551200831212\" /><line stroke=\"#58b668\" stroke-linecap=\"round\" stroke-opacity=\"0.8\" stroke-width=\"4.604925070561259\" x1=\"101.22462957664361\" x2=\"93.4712569787647\" y1=\"297.2551200831212\" y2=\"297.88236293963575\" /><line stroke=\"#f4fbf2\" stroke-linecap=\"round\" stroke-opacity=\"0.8\" stroke-width=\"4.604925070561259\" x1=\"183.74325432502542\" x2=\"183.60234259247636\" y1=\"401.93007042816174\" y2=\"401.6648717718816\" /><line stroke=\"#cfecc9\" stroke-linecap=\"round\" stroke-opacity=\"0.8\" stroke-width=\"4.604925070561259\" x1=\"183.60234259247636\" x2=\"183.4614308599273\" y1=\"401.6648717718816\" y2=\"401.39967311560156\" /><circle cx=\"327.18715958540656\" cy=\"361.4845559643526\" fill=\"#e7f6e2\" fill-opacity=\"0.95\" r=\"11.721376274606632\" stroke=\"black\" stroke-width=\"1.0\" /><text dominant-baseline=\"middle\" fill=\"black\" font-size=\"10\" text-anchor=\"middle\" x=\"327\" y=\"361\">O</text><line stroke=\"#46ae60\" stroke-linecap=\"round\" stroke-opacity=\"0.8\" stroke-width=\"4.604925070561259\" x1=\"260.01515682271406\" x2=\"270.6027045855127\" y1=\"295.97591034448504\" y2=\"295.24456709796897\" /><line stroke=\"#e9f7e5\" stroke-linecap=\"round\" stroke-opacity=\"0.8\" stroke-width=\"4.604925070561259\" x1=\"270.6027045855127\" x2=\"281.1902523483114\" y1=\"295.24456709796897\" y2=\"294.5132238514529\" /><line stroke=\"#a2d99c\" stroke-linecap=\"round\" stroke-opacity=\"0.8\" stroke-width=\"4.604925070561259\" x1=\"314.0724909628431\" x2=\"316.71901982485076\" y1=\"366.89511452049743\" y2=\"365.8032684517539\" /><line stroke=\"#e7f6e2\" stroke-linecap=\"round\" stroke-opacity=\"0.8\" stroke-width=\"4.604925070561259\" x1=\"316.71901982485076\" x2=\"319.3655486868584\" y1=\"365.8032684517539\" y2=\"364.7114223830104\" /><line stroke=\"#f6fcf4\" stroke-linecap=\"round\" stroke-opacity=\"0.8\" stroke-width=\"4.604925070561259\" x1=\"106.05880284889164\" x2=\"113.56294711320979\" y1=\"103.21578747233985\" y2=\"104.18682355934592\" /><line stroke=\"#e0f3db\" stroke-linecap=\"round\" stroke-opacity=\"0.8\" stroke-width=\"4.604925070561259\" x1=\"113.56294711320979\" x2=\"121.06709137752793\" y1=\"104.18682355934592\" y2=\"105.157859646352\" /><line stroke=\"#f5fbf2\" stroke-linecap=\"round\" stroke-opacity=\"0.8\" stroke-width=\"4.604925070561259\" x1=\"273.1209588954737\" x2=\"283.567286041369\" y1=\"104.61348105661966\" y2=\"105.34626110370021\" /><line stroke=\"#ecf8e8\" stroke-linecap=\"round\" stroke-opacity=\"0.8\" stroke-width=\"4.604925070561259\" x1=\"283.567286041369\" x2=\"294.0136131872644\" y1=\"105.34626110370021\" y2=\"106.07904115078077\" /><line stroke=\"#46ae60\" stroke-linecap=\"round\" stroke-opacity=\"0.8\" stroke-width=\"4.604925070561259\" x1=\"262.6352544645098\" x2=\"288.9189311782103\" y1=\"301.042270221027\" y2=\"305.35834386194733\" /><line stroke=\"#dbf1d6\" stroke-linecap=\"round\" stroke-opacity=\"0.8\" stroke-width=\"4.604925070561259\" x1=\"288.9189311782103\" x2=\"315.2026078919108\" y1=\"305.35834386194733\" y2=\"309.67441750286764\" /><line stroke=\"#e2f4dd\" stroke-linecap=\"round\" stroke-opacity=\"0.8\" stroke-width=\"4.604925070561259\" x1=\"139.3002871232086\" x2=\"132.97695229992013\" y1=\"298.1796266664196\" y2=\"297.6463472648568\" /><line stroke=\"#ddf2d8\" stroke-linecap=\"round\" stroke-opacity=\"0.8\" stroke-width=\"4.604925070561259\" x1=\"132.97695229992013\" x2=\"126.65361747663167\" y1=\"297.6463472648568\" y2=\"297.11306786329396\" /><circle cx=\"333.43564393279655\" cy=\"312.6684859167816\" fill=\"#dbf1d6\" fill-opacity=\"0.95\" r=\"19.002837293680447\" stroke=\"black\" stroke-width=\"1.0\" /><text dominant-baseline=\"middle\" fill=\"black\" font-size=\"10\" text-anchor=\"middle\" x=\"333\" y=\"312\">P</text><line stroke=\"#46ae60\" stroke-linecap=\"round\" stroke-opacity=\"0.8\" stroke-width=\"4.604925070561259\" x1=\"237.75782725117875\" x2=\"236.47812974629122\" y1=\"274.14448263017937\" y2=\"261.6905672482254\" /><line stroke=\"#d6efd0\" stroke-linecap=\"round\" stroke-opacity=\"0.8\" stroke-width=\"4.604925070561259\" x1=\"236.47812974629122\" x2=\"235.19843224140368\" y1=\"261.6905672482254\" y2=\"249.23665186627142\" /><circle cx=\"310.39870402564634\" cy=\"368.4107638989579\" fill=\"#a2d99c\" fill-opacity=\"0.95\" r=\"5.50549491686069\" stroke=\"black\" stroke-width=\"1.0\" /><text dominant-baseline=\"middle\" fill=\"black\" font-size=\"10\" text-anchor=\"middle\" x=\"310\" y=\"368\">H</text><line stroke=\"#dbf1d6\" stroke-linecap=\"round\" stroke-opacity=\"0.8\" stroke-width=\"4.604925070561259\" x1=\"151.94223725803133\" x2=\"145.27371247824743\" y1=\"104.59532438425276\" y2=\"104.94858449181544\" /><line stroke=\"#e0f3db\" stroke-linecap=\"round\" stroke-opacity=\"0.8\" stroke-width=\"4.604925070561259\" x1=\"145.27371247824743\" x2=\"138.60518769846354\" y1=\"104.94858449181544\" y2=\"105.30184459937811\" /><line stroke=\"#46ae60\" stroke-linecap=\"round\" stroke-opacity=\"0.8\" stroke-width=\"4.604925070561259\" x1=\"243.13481013345987\" x2=\"244.84240027685988\" y1=\"320.5945051757812\" y2=\"333.8584784145787\" /><line stroke=\"#d7efd1\" stroke-linecap=\"round\" stroke-opacity=\"0.8\" stroke-width=\"4.604925070561259\" x1=\"244.84240027685988\" x2=\"246.5499904202599\" y1=\"333.8584784145787\" y2=\"347.1224516533763\" /><line stroke=\"#f5fbf2\" stroke-linecap=\"round\" stroke-opacity=\"0.8\" stroke-width=\"4.604925070561259\" x1=\"249.71542761198236\" x2=\"247.86424111571546\" y1=\"126.35843423910211\" y2=\"138.8982078796253\" /><line stroke=\"#e6f5e1\" stroke-linecap=\"round\" stroke-opacity=\"0.8\" stroke-width=\"4.604925070561259\" x1=\"247.86424111571546\" x2=\"246.01305461944852\" y1=\"138.8982078796253\" y2=\"151.43798152014847\" /><line stroke=\"#6bc072\" stroke-linecap=\"round\" stroke-opacity=\"0.8\" stroke-width=\"4.604925070561259\" x1=\"253.41012502080466\" x2=\"253.33809682244083\" y1=\"445.7938210947862\" y2=\"458.4371357535329\" /><line stroke=\"#f5fbf2\" stroke-linecap=\"round\" stroke-opacity=\"0.8\" stroke-width=\"4.604925070561259\" x1=\"253.33809682244083\" x2=\"253.266068624077\" y1=\"458.4371357535329\" y2=\"471.0804504122796\" /><line stroke=\"#f5fbf2\" stroke-linecap=\"round\" stroke-opacity=\"0.8\" stroke-width=\"4.604925070561259\" x1=\"253.26606862407706\" x2=\"253.3380968224409\" y1=\"79.76926766621904\" y2=\"67.12595300747236\" /><line stroke=\"#6bc072\" stroke-linecap=\"round\" stroke-opacity=\"0.8\" stroke-width=\"4.604925070561259\" x1=\"253.3380968224409\" x2=\"253.41012502080468\" y1=\"67.12595300747236\" y2=\"54.482638348725686\" /><circle cx=\"152.64682574813588\" cy=\"299.3052090260036\" fill=\"#e2f4dd\" fill-opacity=\"0.95\" r=\"13.497342376819757\" stroke=\"black\" stroke-width=\"1.0\" /><text dominant-baseline=\"middle\" fill=\"black\" font-size=\"10\" text-anchor=\"middle\" x=\"152\" y=\"299\">C</text><circle cx=\"234.0062642300509\" cy=\"237.63456662522447\" fill=\"#d6efd0\" fill-opacity=\"0.95\" r=\"11.721376274606632\" stroke=\"black\" stroke-width=\"1.0\" /><text dominant-baseline=\"middle\" fill=\"black\" font-size=\"10\" text-anchor=\"middle\" x=\"234\" y=\"237\">O</text><circle cx=\"115.06320235498428\" cy=\"296.1355884457605\" fill=\"#ddf2d8\" fill-opacity=\"0.95\" r=\"11.721376274606632\" stroke=\"black\" stroke-width=\"1.0\" /><text dominant-baseline=\"middle\" fill=\"black\" font-size=\"10\" text-anchor=\"middle\" x=\"115\" y=\"296\">O</text><line stroke=\"#dbf1d6\" stroke-linecap=\"round\" stroke-opacity=\"0.8\" stroke-width=\"4.604925070561259\" x1=\"339.76088864117247\" x2=\"342.28507819492836\" y1=\"307.52382115843056\" y2=\"305.47076082016264\" /><line stroke=\"#ddf2d8\" stroke-linecap=\"round\" stroke-opacity=\"0.8\" stroke-width=\"4.604925070561259\" x1=\"342.28507819492836\" x2=\"344.8092677486842\" y1=\"305.47076082016264\" y2=\"303.4177004818947\" /><circle cx=\"167.87895505284934\" cy=\"192.12507607185753\" fill=\"#ceecc8\" fill-opacity=\"0.95\" r=\"5.50549491686069\" stroke=\"black\" stroke-width=\"1.0\" /><text dominant-baseline=\"middle\" fill=\"black\" font-size=\"10\" text-anchor=\"middle\" x=\"167\" y=\"192\">H</text><line stroke=\"#daf0d4\" stroke-linecap=\"round\" stroke-opacity=\"0.8\" stroke-width=\"4.604925070561259\" x1=\"236.2957852857112\" x2=\"239.70123327886245\" y1=\"381.7095067277858\" y2=\"375.0542191179902\" /><line stroke=\"#d7efd1\" stroke-linecap=\"round\" stroke-opacity=\"0.8\" stroke-width=\"4.604925070561259\" x1=\"239.70123327886245\" x2=\"243.10668127201367\" y1=\"375.0542191179902\" y2=\"368.3989315081946\" /><line stroke=\"#daf0d4\" stroke-linecap=\"round\" stroke-opacity=\"0.8\" stroke-width=\"4.604925070561259\" x1=\"210.62903849245538\" x2=\"202.28304437382263\" y1=\"398.63069110249387\" y2=\"399.23127655080646\" /><line stroke=\"#cfecc9\" stroke-linecap=\"round\" stroke-opacity=\"0.8\" stroke-width=\"4.604925070561259\" x1=\"202.28304437382263\" x2=\"193.93705025518986\" y1=\"399.23127655080646\" y2=\"399.83186199911904\" /><line stroke=\"#dcf2d7\" stroke-linecap=\"round\" stroke-opacity=\"0.8\" stroke-width=\"4.604925070561259\" x1=\"229.60320317871899\" x2=\"230.87201872792537\" y1=\"215.41813040413808\" y2=\"221.82016739536698\" /><line stroke=\"#d6efd0\" stroke-linecap=\"round\" stroke-opacity=\"0.8\" stroke-width=\"4.604925070561259\" x1=\"230.87201872792537\" x2=\"232.14083427713175\" y1=\"221.82016739536698\" y2=\"228.2222043865959\" /><circle cx=\"165.36234238511412\" cy=\"103.88440436262096\" fill=\"#dbf1d6\" fill-opacity=\"0.95\" r=\"13.497342376819757\" stroke=\"black\" stroke-width=\"1.0\" /><text dominant-baseline=\"middle\" fill=\"black\" font-size=\"10\" text-anchor=\"middle\" x=\"165\" y=\"103\">C</text><circle cx=\"248.04631385004762\" cy=\"358.74537768513017\" fill=\"#d7efd1\" fill-opacity=\"0.95\" r=\"11.721376274606632\" stroke=\"black\" stroke-width=\"1.0\" /><text dominant-baseline=\"middle\" fill=\"black\" font-size=\"10\" text-anchor=\"middle\" x=\"248\" y=\"358\">O</text><circle cx=\"183.04485770841183\" cy=\"400.61567423895866\" fill=\"#cfecc9\" fill-opacity=\"0.95\" r=\"11.721376274606632\" stroke=\"black\" stroke-width=\"1.0\" /><text dominant-baseline=\"middle\" fill=\"black\" font-size=\"10\" text-anchor=\"middle\" x=\"183\" y=\"400\">O</text><line stroke=\"#daf0d4\" stroke-linecap=\"round\" stroke-opacity=\"0.8\" stroke-width=\"4.604925070561259\" x1=\"238.56685196079178\" x2=\"242.85163679908925\" y1=\"412.34174085400406\" y2=\"418.5867129768077\" /><line stroke=\"#6bc072\" stroke-linecap=\"round\" stroke-opacity=\"0.8\" stroke-width=\"4.604925070561259\" x1=\"242.85163679908925\" x2=\"247.13642163738672\" y1=\"418.5867129768077\" y2=\"424.83168509961126\" /><line stroke=\"#e2f4dd\" stroke-linecap=\"round\" stroke-opacity=\"0.8\" stroke-width=\"4.604925070561259\" x1=\"161.93451560068075\" x2=\"166.5528577923258\" y1=\"300.3576611705754\" y2=\"300.8809973522451\" /><line stroke=\"#ddf2d8\" stroke-linecap=\"round\" stroke-opacity=\"0.8\" stroke-width=\"4.604925070561259\" x1=\"166.5528577923258\" x2=\"171.17119998397084\" y1=\"300.8809973522451\" y2=\"301.40433353391484\" /><circle cx=\"244.30450817302022\" cy=\"163.01152407555065\" fill=\"#e6f5e1\" fill-opacity=\"0.95\" r=\"11.721376274606632\" stroke=\"black\" stroke-width=\"1.0\" /><text dominant-baseline=\"middle\" fill=\"black\" font-size=\"10\" text-anchor=\"middle\" x=\"244\" y=\"163\">O</text><circle cx=\"126.95088587757587\" cy=\"105.91922251290043\" fill=\"#e0f3db\" fill-opacity=\"0.95\" r=\"11.721376274606632\" stroke=\"black\" stroke-width=\"1.0\" /><text dominant-baseline=\"middle\" fill=\"black\" font-size=\"10\" text-anchor=\"middle\" x=\"126\" y=\"105\">O</text><line stroke=\"#dcf2d7\" stroke-linecap=\"round\" stroke-opacity=\"0.8\" stroke-width=\"4.604925070561259\" x1=\"233.84205227300708\" x2=\"236.83325664738112\" y1=\"184.9375211094278\" y2=\"178.6689032182725\" /><line stroke=\"#e6f5e1\" stroke-linecap=\"round\" stroke-opacity=\"0.8\" stroke-width=\"4.604925070561259\" x1=\"236.83325664738112\" x2=\"239.82446102175518\" y1=\"178.6689032182725\" y2=\"172.40028532711722\" /><circle cx=\"253.4768990804237\" cy=\"434.07278036374686\" fill=\"#6bc072\" fill-opacity=\"0.95\" r=\"11.721376274606632\" stroke=\"black\" stroke-width=\"1.0\" /><text dominant-baseline=\"middle\" fill=\"black\" font-size=\"10\" text-anchor=\"middle\" x=\"253\" y=\"434\">O</text><line stroke=\"#ceecc8\" stroke-linecap=\"round\" stroke-opacity=\"0.8\" stroke-width=\"4.604925070561259\" x1=\"170.21043883596553\" x2=\"171.89404010935283\" y1=\"192.7924828348061\" y2=\"193.27442780225755\" /><line stroke=\"#f5fbf2\" stroke-linecap=\"round\" stroke-opacity=\"0.8\" stroke-width=\"4.604925070561259\" x1=\"171.89404010935283\" x2=\"173.57764138274013\" y1=\"193.27442780225755\" y2=\"193.75637276970897\" /><line stroke=\"#46ae60\" stroke-linecap=\"round\" stroke-opacity=\"0.8\" stroke-width=\"4.604925070561259\" x1=\"217.87761665988936\" x2=\"204.12335767456017\" y1=\"299.16535839467304\" y2=\"300.2876554433107\" /><line stroke=\"#ddf2d8\" stroke-linecap=\"round\" stroke-opacity=\"0.8\" stroke-width=\"4.604925070561259\" x1=\"204.12335767456017\" x2=\"190.36909868923095\" y1=\"300.2876554433107\" y2=\"301.4099524919484\" /><line stroke=\"#dbf1d6\" stroke-linecap=\"round\" stroke-opacity=\"0.8\" stroke-width=\"4.604925070561259\" x1=\"174.4645349326662\" x2=\"178.87536742662084\" y1=\"103.01562111463119\" y2=\"102.5946173443399\" /><line stroke=\"#afdfa8\" stroke-linecap=\"round\" stroke-opacity=\"0.8\" stroke-width=\"4.604925070561259\" x1=\"178.87536742662084\" x2=\"183.28619992057548\" y1=\"102.5946173443399\" y2=\"102.1736135740486\" /><line stroke=\"#f5fbf2\" stroke-linecap=\"round\" stroke-opacity=\"0.8\" stroke-width=\"4.604925070561259\" x1=\"230.98857813617903\" x2=\"216.6256424372425\" y1=\"102.57064287372287\" y2=\"102.15506995616553\" /><line stroke=\"#afdfa8\" stroke-linecap=\"round\" stroke-opacity=\"0.8\" stroke-width=\"4.604925070561259\" x1=\"216.6256424372425\" x2=\"202.262706738306\" y1=\"102.15506995616553\" y2=\"101.73949703860819\" /><circle cx=\"240.14216327388436\" cy=\"297.34865311227327\" fill=\"#46ae60\" fill-opacity=\"0.95\" r=\"23.442752549213264\" stroke=\"black\" stroke-width=\"1.0\" /><text dominant-baseline=\"middle\" fill=\"black\" font-size=\"10\" text-anchor=\"middle\" x=\"240\" y=\"297\">Fe</text><line stroke=\"#dcf2d7\" stroke-linecap=\"round\" stroke-opacity=\"0.8\" stroke-width=\"4.604925070561259\" x1=\"207.79013841913917\" x2=\"198.96047082054076\" y1=\"198.2103334482845\" y2=\"197.29471481929042\" /><line stroke=\"#f5fbf2\" stroke-linecap=\"round\" stroke-opacity=\"0.8\" stroke-width=\"4.604925070561259\" x1=\"198.96047082054076\" x2=\"190.13080322194236\" y1=\"197.29471481929042\" y2=\"196.37909619029634\" /><circle cx=\"253.13252050483894\" cy=\"103.21134912829768\" fill=\"#f5fbf2\" fill-opacity=\"0.95\" r=\"23.442752549213264\" stroke=\"black\" stroke-width=\"1.0\" /><text dominant-baseline=\"middle\" fill=\"black\" font-size=\"10\" text-anchor=\"middle\" x=\"253\" y=\"103\">Fe</text><circle cx=\"348.71082055945817\" cy=\"300.2443558645941\" fill=\"#ddf2d8\" fill-opacity=\"0.95\" r=\"11.721376274606632\" stroke=\"black\" stroke-width=\"1.0\" /><text dominant-baseline=\"middle\" fill=\"black\" font-size=\"10\" text-anchor=\"middle\" x=\"348\" y=\"300\">O</text><circle cx=\"179.23682538223346\" cy=\"302.3183051331483\" fill=\"#ddf2d8\" fill-opacity=\"0.95\" r=\"11.721376274606632\" stroke=\"black\" stroke-width=\"1.0\" /><text dominant-baseline=\"middle\" fill=\"black\" font-size=\"10\" text-anchor=\"middle\" x=\"179\" y=\"302\">O</text><circle cx=\"228.28759307586824\" cy=\"397.3599651985115\" fill=\"#daf0d4\" fill-opacity=\"0.95\" r=\"19.002837293680447\" stroke=\"black\" stroke-width=\"1.0\" /><text dominant-baseline=\"middle\" fill=\"black\" font-size=\"10\" text-anchor=\"middle\" x=\"228\" y=\"397\">P</text><circle cx=\"191.19073555397603\" cy=\"101.41914391132076\" fill=\"#afdfa8\" fill-opacity=\"0.95\" r=\"11.721376274606632\" stroke=\"black\" stroke-width=\"1.0\" /><text dominant-baseline=\"middle\" fill=\"black\" font-size=\"10\" text-anchor=\"middle\" x=\"191\" y=\"101\">O</text><circle cx=\"178.54144556614875\" cy=\"195.17730329727686\" fill=\"#f5fbf2\" fill-opacity=\"0.95\" r=\"11.721376274606632\" stroke=\"black\" stroke-width=\"1.0\" /><text dominant-baseline=\"middle\" fill=\"black\" font-size=\"10\" text-anchor=\"middle\" x=\"178\" y=\"195\">O</text><circle cx=\"226.57894552777432\" cy=\"200.15869465363423\" fill=\"#dcf2d7\" fill-opacity=\"0.95\" r=\"19.002837293680447\" stroke=\"black\" stroke-width=\"1.0\" /><text dominant-baseline=\"middle\" fill=\"black\" font-size=\"10\" text-anchor=\"middle\" x=\"226\" y=\"200\">P</text><line stroke=\"#46ae60\" stroke-linecap=\"round\" stroke-opacity=\"0.8\" stroke-width=\"4.604925070561259\" x1=\"246.69913361357038\" x2=\"249.92231670568367\" y1=\"296.18250368399424\" y2=\"295.6092643790431\" /><line stroke=\"#ecf8e8\" stroke-linecap=\"round\" stroke-opacity=\"0.8\" stroke-width=\"4.604925070561259\" x1=\"249.92231670568367\" x2=\"253.145499797797\" y1=\"295.6092643790431\" y2=\"295.036025074092\" /><line stroke=\"black\" x1=\"415.5666228773199\" x2=\"415.5666228773199\" y1=\"445.65559137303023\" y2=\"445.65559137303023\" /><line stroke=\"black\" x1=\"415.5666228773199\" x2=\"415.5666228773199\" y1=\"445.65559137303023\" y2=\"54.34440862696965\" /><line stroke=\"black\" x1=\"415.5666228773199\" x2=\"415.5666228773199\" y1=\"54.34440862696965\" y2=\"54.34440862696965\" /><line stroke=\"#f5fbf2\" stroke-linecap=\"round\" stroke-opacity=\"0.8\" stroke-width=\"4.604925070561259\" x1=\"263.022453125065\" x2=\"268.1615763389114\" y1=\"104.10823558527954\" y2=\"104.57428628433419\" /><line stroke=\"#d3eecd\" stroke-linecap=\"round\" stroke-opacity=\"0.8\" stroke-width=\"4.604925070561259\" x1=\"268.1615763389114\" x2=\"273.3006995527578\" y1=\"104.57428628433419\" y2=\"105.04033698338884\" /><line stroke=\"#daf0d4\" stroke-linecap=\"round\" stroke-opacity=\"0.8\" stroke-width=\"4.604925070561259\" x1=\"225.60858952450943\" x2=\"224.50769657095802\" y1=\"396.1918193859978\" y2=\"395.7117888563389\" /><line stroke=\"#f6fcf4\" stroke-linecap=\"round\" stroke-opacity=\"0.8\" stroke-width=\"4.604925070561259\" x1=\"224.50769657095802\" x2=\"223.4068036174066\" y1=\"395.7117888563389\" y2=\"395.23175832667994\" /><line stroke=\"#dcf2d7\" stroke-linecap=\"round\" stroke-opacity=\"0.8\" stroke-width=\"4.604925070561259\" x1=\"233.54705484153828\" x2=\"236.41249187756398\" y1=\"202.36770171550233\" y2=\"203.27609312598383\" /><line stroke=\"#e2f4dd\" stroke-linecap=\"round\" stroke-opacity=\"0.8\" stroke-width=\"4.604925070561259\" x1=\"236.41249187756398\" x2=\"239.2779289135897\" y1=\"203.27609312598383\" y2=\"204.1844845364653\" /><circle cx=\"256.42398496764\" cy=\"294.4529503599524\" fill=\"#ecf8e8\" fill-opacity=\"0.95\" r=\"11.721376274606632\" stroke=\"black\" stroke-width=\"1.0\" /><text dominant-baseline=\"middle\" fill=\"black\" font-size=\"10\" text-anchor=\"middle\" x=\"256\" y=\"294\">O</text><circle cx=\"278.24566586287085\" cy=\"105.48878021187977\" fill=\"#d3eecd\" fill-opacity=\"0.95\" r=\"11.721376274606632\" stroke=\"black\" stroke-width=\"1.0\" /><text dominant-baseline=\"middle\" fill=\"black\" font-size=\"10\" text-anchor=\"middle\" x=\"278\" y=\"105\">O</text><line stroke=\"black\" x1=\"84.43337712268007\" x2=\"84.43337712268007\" y1=\"445.65559137303023\" y2=\"445.65559137303023\" /><line stroke=\"black\" x1=\"415.5666228773199\" x2=\"84.43337712268013\" y1=\"54.34440862696965\" y2=\"54.34440862696965\" /><line stroke=\"black\" x1=\"84.43337712268007\" x2=\"84.43337712268013\" y1=\"445.65559137303023\" y2=\"54.34440862696965\" /><line stroke=\"black\" x1=\"84.43337712268007\" x2=\"415.5666228773199\" y1=\"445.65559137303023\" y2=\"445.65559137303023\" /><line stroke=\"black\" x1=\"84.43337712268013\" x2=\"84.43337712268013\" y1=\"54.34440862696965\" y2=\"54.34440862696965\" /><line stroke=\"#ecf8e8\" stroke-linecap=\"round\" stroke-opacity=\"0.8\" stroke-width=\"4.604925070561259\" x1=\"260.7220710864103\" x2=\"263.587508122436\" y1=\"295.81551546353467\" y2=\"296.72390687401617\" /><line stroke=\"#dcf2d7\" stroke-linecap=\"round\" stroke-opacity=\"0.8\" stroke-width=\"4.604925070561259\" x1=\"263.587508122436\" x2=\"266.4529451584617\" y1=\"296.72390687401617\" y2=\"297.6322982844976\" /><line stroke=\"#d3eecd\" stroke-linecap=\"round\" stroke-opacity=\"0.8\" stroke-width=\"4.604925070561259\" x1=\"276.5931963825934\" x2=\"275.492303429042\" y1=\"104.76824167331989\" y2=\"104.28821114366099\" /><line stroke=\"#dcf2d7\" stroke-linecap=\"round\" stroke-opacity=\"0.8\" stroke-width=\"4.604925070561259\" x1=\"275.492303429042\" x2=\"274.3914104754906\" y1=\"104.28821114366099\" y2=\"103.80818061400208\" /><line stroke=\"black\" stroke-width=\"1\" x1=\"20\" x2=\"50\" y1=\"480\" y2=\"480\" /><text dominant-baseline=\"middle\" fill=\"red\" font-size=\"14\" text-anchor=\"middle\" x=\"50\" y=\"480\">X</text><line stroke=\"black\" stroke-width=\"1\" x1=\"20\" x2=\"20\" y1=\"480\" y2=\"450\" /><text dominant-baseline=\"middle\" fill=\"green\" font-size=\"14\" text-anchor=\"middle\" x=\"20\" y=\"450\">Y</text><line stroke=\"black\" stroke-width=\"1\" x1=\"20\" x2=\"20\" y1=\"480\" y2=\"480\" /><text dominant-baseline=\"middle\" fill=\"blue\" font-size=\"14\" text-anchor=\"middle\" x=\"20\" y=\"480\">Z</text></g></svg>",
      "text/plain": [
       "<svgwrite.drawing.Drawing at 0x7fa2cc2fef50>"
      ]
     },
     "execution_count": 66,
     "metadata": {},
     "output_type": "execute_result"
    }
   ],
   "source": [
    "ase_view = AseView(config)\n",
    "gui = ase_view.make_svg(\n",
    "    cif, center_in_uc=True)\n",
    "gui"
   ]
  },
  {
   "cell_type": "code",
   "execution_count": null,
   "metadata": {},
   "outputs": [],
   "source": []
  },
  {
   "cell_type": "markdown",
   "metadata": {},
   "source": [
    "# plot uff"
   ]
  },
  {
   "cell_type": "code",
   "execution_count": 68,
   "metadata": {},
   "outputs": [],
   "source": [
    "r = np.arange(2.1, 10, 0.001)"
   ]
  },
  {
   "cell_type": "code",
   "execution_count": 70,
   "metadata": {},
   "outputs": [],
   "source": [
    "sigma = np.array(uff[\"sigma\"])\n",
    "epsilon = np.array(uff[\"epsilon\"])"
   ]
  },
  {
   "cell_type": "code",
   "execution_count": 71,
   "metadata": {},
   "outputs": [],
   "source": [
    "lj = np.array([e*((s/r)**12-(s/r)**6) for e, s in zip(epsilon, sigma)])"
   ]
  },
  {
   "cell_type": "code",
   "execution_count": 162,
   "metadata": {},
   "outputs": [
    {
     "data": {
      "text/html": [
       "<div>\n",
       "<style scoped>\n",
       "    .dataframe tbody tr th:only-of-type {\n",
       "        vertical-align: middle;\n",
       "    }\n",
       "\n",
       "    .dataframe tbody tr th {\n",
       "        vertical-align: top;\n",
       "    }\n",
       "\n",
       "    .dataframe thead th {\n",
       "        text-align: right;\n",
       "    }\n",
       "</style>\n",
       "<table border=\"1\" class=\"dataframe\">\n",
       "  <thead>\n",
       "    <tr style=\"text-align: right;\">\n",
       "      <th></th>\n",
       "      <th>Unnamed: 0</th>\n",
       "      <th>element</th>\n",
       "      <th>epsilon</th>\n",
       "      <th>sigma</th>\n",
       "      <th>lb_sigma</th>\n",
       "      <th>lb_epsilon</th>\n",
       "    </tr>\n",
       "  </thead>\n",
       "  <tbody>\n",
       "    <tr>\n",
       "      <th>51</th>\n",
       "      <td>51</td>\n",
       "      <td>Mg</td>\n",
       "      <td>55.8631</td>\n",
       "      <td>2.6914</td>\n",
       "      <td>3.168426</td>\n",
       "      <td>101.93155</td>\n",
       "    </tr>\n",
       "  </tbody>\n",
       "</table>\n",
       "</div>"
      ],
      "text/plain": [
       "    Unnamed: 0 element  epsilon   sigma  lb_sigma  lb_epsilon\n",
       "51          51      Mg  55.8631  2.6914  3.168426   101.93155"
      ]
     },
     "execution_count": 162,
     "metadata": {},
     "output_type": "execute_result"
    }
   ],
   "source": [
    "uff[uff[\"element\"]==\"Mg\"]"
   ]
  },
  {
   "cell_type": "code",
   "execution_count": 163,
   "metadata": {},
   "outputs": [
    {
     "data": {
      "text/plain": [
       "[<matplotlib.lines.Line2D at 0x7f81c94d8550>]"
      ]
     },
     "execution_count": 163,
     "metadata": {},
     "output_type": "execute_result"
    },
    {
     "data": {
      "image/png": "[encoded data removed]",
      "text/plain": [
       "<Figure size 432x288 with 1 Axes>"
      ]
     },
     "metadata": {
      "needs_background": "light"
     },
     "output_type": "display_data"
    }
   ],
   "source": [
    "plt.plot(r, lj[14])\n"
   ]
  },
  {
   "cell_type": "code",
   "execution_count": 72,
   "metadata": {},
   "outputs": [],
   "source": [
    "in_ele = np.array(uff[\"element\"])"
   ]
  },
  {
   "cell_type": "code",
   "execution_count": 73,
   "metadata": {},
   "outputs": [
    {
     "data": {
      "image/png": "[encoded data removed]",
      "text/plain": [
       "<Figure size 864x576 with 1 Axes>"
      ]
     },
     "metadata": {
      "needs_background": "light"
     },
     "output_type": "display_data"
    }
   ],
   "source": [
    "plt.rcParams.update({'font.size': 18})\n",
    "\n",
    "plt.figure(figsize=(12,8))\n",
    "for ids in [14,62,24,30,51]:\n",
    "    plt.plot(r, lj[ids], label=in_ele[ids])\n",
    "\n",
    "plt.ylim(-20, 30)\n",
    "plt.legend()\n",
    "plt.xlabel(\"Distance ($\\AA$)\")\n",
    "plt.ylabel(\"Lennard-Jones potential (J)\")\n",
    "\n",
    "plt.savefig(\"plots/LJ.png\")"
   ]
  },
  {
   "cell_type": "code",
   "execution_count": null,
   "metadata": {},
   "outputs": [],
   "source": []
  },
  {
   "cell_type": "markdown",
   "metadata": {},
   "source": [
    "# classify repulsion and attraction"
   ]
  },
  {
   "cell_type": "markdown",
   "metadata": {},
   "source": [
    "### variables required\n",
    "- distances: dist_c, dist_o1, dist_o2\n",
    "- uff parameters: ele_sigma_c, ele_epsilon_c, ele_sigma_o, ele_epsilon_o\n",
    "- framework atom element: ele"
   ]
  },
  {
   "cell_type": "code",
   "execution_count": 49,
   "metadata": {},
   "outputs": [],
   "source": [
    "for s in range(poten_c.shape[0]):\n",
    "    poten_c[s][np.where(dist_c[s]<ele_sigma_c)[0]] = 0\n",
    "    poten_o1[s][np.where(dist_o1[s]<ele_sigma_o)[0]] = 0\n",
    "    poten_o2[s][np.where(dist_o2[s]<ele_sigma_o)[0]] = 0\n",
    "\n",
    "potential = poten_c + poten_o1 + poten_o2\n"
   ]
  },
  {
   "cell_type": "code",
   "execution_count": 37,
   "metadata": {},
   "outputs": [
    {
     "data": {
      "text/plain": [
       "(10000, 1248)"
      ]
     },
     "execution_count": 37,
     "metadata": {},
     "output_type": "execute_result"
    }
   ],
   "source": [
    "potential.shape"
   ]
  },
  {
   "cell_type": "code",
   "execution_count": 54,
   "metadata": {},
   "outputs": [],
   "source": [
    "distances = (dist_c+dist_o1+dist_o2)/3"
   ]
  },
  {
   "cell_type": "code",
   "execution_count": 56,
   "metadata": {},
   "outputs": [],
   "source": [
    "for i in range(num_uc):\n",
    "    if i == 0:\n",
    "        distances_uc = distances[0:num_at]\n",
    "        potential_uc = potential[0:num_at]\n",
    "    else:\n",
    "        distances_uc += distances[i*num_at:(i+1)*num_at]\n",
    "        potential_uc += potential[i*num_at:(i+1)*num_at]\n",
    "\n",
    "distances_uc /= num_uc\n",
    "potential_uc /= num_uc"
   ]
  },
  {
   "cell_type": "code",
   "execution_count": 60,
   "metadata": {},
   "outputs": [
    {
     "data": {
      "text/plain": [
       "<matplotlib.legend.Legend at 0x7fa2ff454c90>"
      ]
     },
     "execution_count": 60,
     "metadata": {},
     "output_type": "execute_result"
    },
    {
     "data": {
      "image/png": "[encoded data removed]",
      "text/plain": [
       "<Figure size 432x288 with 1 Axes>"
      ]
     },
     "metadata": {
      "needs_background": "light"
     },
     "output_type": "display_data"
    }
   ],
   "source": [
    "ele_uni = np.unique(ele)\n",
    "\n",
    "for e in ele_uni:\n",
    "    plt.scatter(distances_uc[0][ele==e], potential_uc[0][ele==e], s=10, label=e, alpha=0.6)\n",
    "\n",
    "plt.legend()"
   ]
  },
  {
   "cell_type": "code",
   "execution_count": 381,
   "metadata": {},
   "outputs": [
    {
     "data": {
      "text/plain": [
       "(10000, 1248)"
      ]
     },
     "execution_count": 381,
     "metadata": {},
     "output_type": "execute_result"
    }
   ],
   "source": [
    "potential.shape"
   ]
  },
  {
   "cell_type": "code",
   "execution_count": 30,
   "metadata": {},
   "outputs": [],
   "source": [
    "weight = min_max(np.average(potential, axis=0))"
   ]
  },
  {
   "cell_type": "code",
   "execution_count": 61,
   "metadata": {},
   "outputs": [],
   "source": [
    "for i in range(num_uc):\n",
    "    if i == 0:\n",
    "        weight_uc = weight[0:num_at]\n",
    "    else:\n",
    "        weight_uc += weight[i*num_at:(i+1)*num_at]\n",
    "\n",
    "weight_uc /= num_uc"
   ]
  },
  {
   "cell_type": "code",
   "execution_count": 35,
   "metadata": {},
   "outputs": [
    {
     "data": {
      "text/plain": [
       "(array([15., 43., 26.,  3.,  5.,  2.,  4.,  2.,  0.,  4.]),\n",
       " array([0. , 0.1, 0.2, 0.3, 0.4, 0.5, 0.6, 0.7, 0.8, 0.9, 1. ]),\n",
       " <BarContainer object of 10 artists>)"
      ]
     },
     "execution_count": 35,
     "metadata": {},
     "output_type": "execute_result"
    },
    {
     "data": {
      "image/png": "[encoded data removed]",
      "text/plain": [
       "<Figure size 432x288 with 1 Axes>"
      ]
     },
     "metadata": {
      "needs_background": "light"
     },
     "output_type": "display_data"
    }
   ],
   "source": [
    "plt.hist(min_max(weight_uc))"
   ]
  },
  {
   "cell_type": "code",
   "execution_count": 390,
   "metadata": {},
   "outputs": [
    {
     "data": {
      "text/plain": [
       "array([4.11161428e-03, 9.43838352e-03, 1.30834994e-02, 5.19279100e-06,\n",
       "       3.17795933e-03, 9.85308574e-03, 1.46540845e-02, 0.00000000e+00])"
      ]
     },
     "execution_count": 390,
     "metadata": {},
     "output_type": "execute_result"
    }
   ],
   "source": [
    "min_max(weight_uc)[ele[0:num_at]==\"Fe\"]"
   ]
  },
  {
   "cell_type": "code",
   "execution_count": 386,
   "metadata": {},
   "outputs": [
    {
     "data": {
      "text/plain": [
       "array(['Fe', 'Fe', 'P', 'P', 'P', 'O', 'O', 'O', 'O', 'O', 'O', 'O', 'O',\n",
       "       'O', 'O', 'O', 'O', 'O', 'H', 'O', 'H', 'O', 'H', 'O', 'C', 'C',\n",
       "       'Fe', 'Fe', 'P', 'P', 'P', 'O', 'O', 'O', 'O', 'O', 'O', 'O', 'O',\n",
       "       'O', 'O', 'O', 'O', 'O', 'H', 'O', 'H', 'O', 'H', 'O', 'C', 'C',\n",
       "       'Fe', 'Fe', 'P', 'P', 'P', 'O', 'O', 'O', 'O', 'O', 'O', 'O', 'O',\n",
       "       'O', 'O', 'O', 'O', 'O', 'H', 'O', 'H', 'O', 'H', 'O', 'C', 'C',\n",
       "       'Fe', 'Fe', 'P', 'P', 'P', 'O', 'O', 'O', 'O', 'O', 'O', 'O', 'O',\n",
       "       'O', 'O', 'O', 'O', 'O', 'H', 'O', 'H', 'O', 'H', 'O', 'C', 'C'],\n",
       "      dtype='<U2')"
      ]
     },
     "execution_count": 386,
     "metadata": {},
     "output_type": "execute_result"
    }
   ],
   "source": [
    "ele[0:num_at]#[min_max(weight_uc)>0.8]"
   ]
  },
  {
   "cell_type": "code",
   "execution_count": 114,
   "metadata": {},
   "outputs": [],
   "source": [
    "cif = Structure.from_file(\"nvt_results/%s/%s.cif\" %(structure, structure))"
   ]
  },
  {
   "cell_type": "code",
   "execution_count": 130,
   "metadata": {},
   "outputs": [
    {
     "data": {
      "text/plain": [
       "(10000, 3)"
      ]
     },
     "execution_count": 130,
     "metadata": {},
     "output_type": "execute_result"
    }
   ],
   "source": [
    "pos_c.shape"
   ]
  },
  {
   "cell_type": "code",
   "execution_count": 128,
   "metadata": {},
   "outputs": [],
   "source": [
    "neighbor_dist = [nn.nn_distance for nn in cif.get_sites_in_sphere(pos_c[0], 3)]"
   ]
  },
  {
   "cell_type": "code",
   "execution_count": 129,
   "metadata": {},
   "outputs": [
    {
     "data": {
      "text/plain": [
       "[2.353719278443252,\n",
       " 2.384694769333993,\n",
       " 2.6912826599529507,\n",
       " 1.775820680502945,\n",
       " 2.8161839640507074,\n",
       " 2.4024135448289012]"
      ]
     },
     "execution_count": 129,
     "metadata": {},
     "output_type": "execute_result"
    }
   ],
   "source": [
    "neighbor_dist"
   ]
  },
  {
   "cell_type": "code",
   "execution_count": 111,
   "metadata": {},
   "outputs": [
    {
     "data": {
      "text/plain": [
       "18.09523893195973"
      ]
     },
     "execution_count": 111,
     "metadata": {},
     "output_type": "execute_result"
    }
   ],
   "source": [
    "cif.sites[0].distance_from_point(pos_c[0])"
   ]
  },
  {
   "cell_type": "code",
   "execution_count": 131,
   "metadata": {},
   "outputs": [
    {
     "name": "stderr",
     "output_type": "stream",
     "text": [
      "/home/xiaoqi/anaconda3/envs/ml/lib/python3.7/site-packages/ipykernel_launcher.py:1: VisibleDeprecationWarning: Creating an ndarray from ragged nested sequences (which is a list-or-tuple of lists-or-tuples-or ndarrays with different lengths or shapes) is deprecated. If you meant to do this, you must specify 'dtype=object' when creating the ndarray.\n",
      "  \"\"\"Entry point for launching an IPython kernel.\n"
     ]
    }
   ],
   "source": [
    "nn = np.array([cif.get_sites_in_sphere(c, threshold) for c in pos_c], dtype=object)"
   ]
  },
  {
   "cell_type": "code",
   "execution_count": 132,
   "metadata": {},
   "outputs": [],
   "source": [
    "nn_dist = np.array([[n.nn_distance for n in s] for s in nn], dtype=object)"
   ]
  },
  {
   "cell_type": "code",
   "execution_count": 138,
   "metadata": {},
   "outputs": [
    {
     "data": {
      "text/plain": [
       "71.91666666666667"
      ]
     },
     "execution_count": 138,
     "metadata": {},
     "output_type": "execute_result"
    }
   ],
   "source": [
    "len(nn_dist[1])/12"
   ]
  },
  {
   "cell_type": "code",
   "execution_count": null,
   "metadata": {},
   "outputs": [],
   "source": []
  }
 ],
 "metadata": {
  "kernelspec": {
   "display_name": "Python 3.7.5 ('ml')",
   "language": "python",
   "name": "python3"
  },
  "language_info": {
   "codemirror_mode": {
    "name": "ipython",
    "version": 3
   },
   "file_extension": ".py",
   "mimetype": "text/x-python",
   "name": "python",
   "nbconvert_exporter": "python",
   "pygments_lexer": "ipython3",
   "version": "3.7.5"
  },
  "vscode": {
   "interpreter": {
    "hash": "d48191cd2a5fbdbfad76bd510861083e972cc391c91f9dce5a73ba93bdfff579"
   }
  }
 },
 "nbformat": 4,
 "nbformat_minor": 2
}
