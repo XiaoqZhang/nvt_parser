{
 "cells": [
  {
   "cell_type": "code",
   "execution_count": 1,
   "metadata": {},
   "outputs": [],
   "source": [
    "%load_ext autoreload\n",
    "%autoreload 2"
   ]
  },
  {
   "cell_type": "code",
   "execution_count": 2,
   "metadata": {},
   "outputs": [],
   "source": [
    "from cmath import nan\n",
    "import os\n",
    "import re\n",
    "import numpy as np \n",
    "import pandas as pd\n",
    "import math\n",
    "import click\n",
    "import json\n",
    "\n",
    "from pymatgen.core import Structure\n",
    "\n",
    "import matplotlib.pyplot as plt\n",
    "import seaborn as sns"
   ]
  },
  {
   "cell_type": "code",
   "execution_count": 3,
   "metadata": {},
   "outputs": [],
   "source": [
    "ch4_sigma , ch4_epsilon = 3.73, 148\n",
    "c_sigma, c_epsilon = 2.8, 27.0\n",
    "o_sigma, o_epsilon = 3.05, 79.0\n",
    "uff = pd.read_csv(\"./ff_data/uff.csv\")"
   ]
  },
  {
   "cell_type": "code",
   "execution_count": 4,
   "metadata": {},
   "outputs": [],
   "source": [
    "threshold = 15"
   ]
  },
  {
   "cell_type": "code",
   "execution_count": 5,
   "metadata": {},
   "outputs": [],
   "source": [
    "nvt_path = \"./nvt_results\"\n",
    "rst_path = \"./parse_results_co2\""
   ]
  },
  {
   "cell_type": "code",
   "execution_count": 6,
   "metadata": {},
   "outputs": [
    {
     "data": {
      "text/plain": [
       "['ABETIN_clean', 'ABUWOJ_clean', 'ABEXEN_clean']"
      ]
     },
     "execution_count": 6,
     "metadata": {},
     "output_type": "execute_result"
    }
   ],
   "source": [
    "structure_lst = os.listdir(nvt_path)\n",
    "structure_lst"
   ]
  },
  {
   "cell_type": "code",
   "execution_count": 7,
   "metadata": {},
   "outputs": [],
   "source": [
    "structure = structure_lst[2]"
   ]
  },
  {
   "cell_type": "markdown",
   "metadata": {},
   "source": [
    "# Data preparation"
   ]
  },
  {
   "cell_type": "markdown",
   "metadata": {},
   "source": [
    "## Get supercell"
   ]
  },
  {
   "cell_type": "code",
   "execution_count": 8,
   "metadata": {},
   "outputs": [],
   "source": [
    "def get_supercell(structure):\n",
    "    with open(\"nvt_results/%s/simulation.input\" %structure, \"r\") as f_input:\n",
    "        for line in f_input:\n",
    "            if re.search(\"UnitCells\", line):\n",
    "                s1, s2, s3 = line.split()[1], line.split()[2], line.split()[3]\n",
    "    supercell = [int(s1), int(s2), int(s3)]\n",
    "    return supercell"
   ]
  },
  {
   "cell_type": "code",
   "execution_count": 9,
   "metadata": {},
   "outputs": [],
   "source": [
    "sc = get_supercell(structure)"
   ]
  },
  {
   "cell_type": "code",
   "execution_count": 10,
   "metadata": {},
   "outputs": [
    {
     "data": {
      "text/plain": [
       "[2, 2, 1]"
      ]
     },
     "execution_count": 10,
     "metadata": {},
     "output_type": "execute_result"
    }
   ],
   "source": [
    "sc"
   ]
  },
  {
   "cell_type": "markdown",
   "metadata": {},
   "source": [
    "## Get lattice"
   ]
  },
  {
   "cell_type": "code",
   "execution_count": 11,
   "metadata": {},
   "outputs": [],
   "source": [
    "def get_lattice(structure):\n",
    "    with open(\"nvt_results/%s/Movies/System_0/Framework_final.pdb\" %structure) as file:\n",
    "        lines = file.readlines()\n",
    "        lattice = [float(l) for l in lines[1].split()[1:4]]\n",
    "        frame_ele = [l.split()[2] for l in lines[2:]]\n",
    "        frame_pos = [np.array([float(t) for t in l.split()[4:7]]) for l in lines[2:]]\n",
    "    return lattice, frame_ele, frame_pos"
   ]
  },
  {
   "cell_type": "code",
   "execution_count": 12,
   "metadata": {},
   "outputs": [],
   "source": [
    "latt, ele, pos = get_lattice(structure)"
   ]
  },
  {
   "cell_type": "code",
   "execution_count": 13,
   "metadata": {},
   "outputs": [
    {
     "data": {
      "text/plain": [
       "[50.196, 50.196, 28.446]"
      ]
     },
     "execution_count": 13,
     "metadata": {},
     "output_type": "execute_result"
    }
   ],
   "source": [
    "latt"
   ]
  },
  {
   "cell_type": "code",
   "execution_count": 14,
   "metadata": {},
   "outputs": [
    {
     "data": {
      "text/plain": [
       "1920"
      ]
     },
     "execution_count": 14,
     "metadata": {},
     "output_type": "execute_result"
    }
   ],
   "source": [
    "len(ele)"
   ]
  },
  {
   "cell_type": "markdown",
   "metadata": {},
   "source": [
    "# read gas pos"
   ]
  },
  {
   "cell_type": "code",
   "execution_count": 14,
   "metadata": {},
   "outputs": [],
   "source": [
    "with open(os.path.join(nvt_path, \"%s/Movies/System_0/Movie_%s_%d.%d.%d_298.000000_0.000000_allcomponents.pdb\" %(structure, structure, sc[0], sc[1], sc[2]))) as file:\n",
    "        data = file.readlines()\n",
    "        positions = [line.split() for line in data if \"ATOM\" in line]\n",
    "        pos_c = [np.array([float(t) for t in l[4:7]]) for l in positions if l[1] == '2']\n",
    "        pos_o1 = [np.array([float(t) for t in l[4:7]]) for l in positions if l[1] == '1']\n",
    "        pos_o2 = [np.array([float(t) for t in l[4:7]]) for l in positions if l[1] == '3']\n",
    "    "
   ]
  },
  {
   "cell_type": "markdown",
   "metadata": {},
   "source": [
    "# calculate distance"
   ]
  },
  {
   "cell_type": "code",
   "execution_count": 15,
   "metadata": {},
   "outputs": [],
   "source": [
    "dist_c = np.array([np.abs([atom-c for atom in pos]) for c in pos_c])"
   ]
  },
  {
   "cell_type": "code",
   "execution_count": 16,
   "metadata": {},
   "outputs": [],
   "source": [
    "dist_c_un = np.array([[[l-r if r>l/2 else r for r,l in zip(a, latt)] for a in s] for s in dist_c])"
   ]
  },
  {
   "cell_type": "code",
   "execution_count": 17,
   "metadata": {},
   "outputs": [
    {
     "data": {
      "text/plain": [
       "(10000, 1920, 3)"
      ]
     },
     "execution_count": 17,
     "metadata": {},
     "output_type": "execute_result"
    }
   ],
   "source": [
    "dist_c_un.shape"
   ]
  },
  {
   "cell_type": "code",
   "execution_count": 18,
   "metadata": {},
   "outputs": [],
   "source": [
    "distance_c = np.array(\n",
    "    [[np.sqrt(np.sum([r**2 for r in a])) for a in s] for s in dist_c_un]\n",
    ")"
   ]
  },
  {
   "cell_type": "code",
   "execution_count": null,
   "metadata": {},
   "outputs": [
    {
     "data": {
      "text/plain": [
       "(array([ 638313.,  928030., 1252501., 2235278., 2701079., 3327048.,\n",
       "        4199892., 2688127., 1063286.,  166446.]),\n",
       " array([ 2.47100809,  6.04542899,  9.61984989, 13.19427079, 16.76869169,\n",
       "        20.34311258, 23.91753348, 27.49195438, 31.06637528, 34.64079618,\n",
       "        38.21521707]),\n",
       " <BarContainer object of 10 artists>)"
      ]
     },
     "execution_count": 58,
     "metadata": {},
     "output_type": "execute_result"
    },
    {
     "data": {
      "image/png": "[encoded data removed]",
      "text/plain": [
       "<Figure size 432x288 with 1 Axes>"
      ]
     },
     "metadata": {
      "needs_background": "light"
     },
     "output_type": "display_data"
    }
   ],
   "source": [
    "plt.hist(distance_c.flatten())"
   ]
  },
  {
   "cell_type": "code",
   "execution_count": 19,
   "metadata": {},
   "outputs": [],
   "source": [
    "dist_o1 = np.array([np.abs([atom-o for atom in pos]) for o in pos_o1])\n",
    "dist_o1_un = np.array([[[l-r if r>l/2 else r for r,l in zip(a, latt)] for a in s] for s in dist_o1])\n",
    "distance_o1 = np.array(\n",
    "    [[np.sqrt(np.sum([r**2 for r in a])) for a in s] for s in dist_o1_un]\n",
    ")"
   ]
  },
  {
   "cell_type": "code",
   "execution_count": 20,
   "metadata": {},
   "outputs": [],
   "source": [
    "dist_o2 = np.array([np.abs([atom-o for atom in pos]) for o in pos_o2])\n",
    "dist_o2_un = np.array([[[l-r if r>l/2 else r for r,l in zip(a, latt)] for a in s] for s in dist_o2])\n",
    "distance_o2 = np.array(\n",
    "    [[np.sqrt(np.sum([r**2 for r in a])) for a in s] for s in dist_o2_un]\n",
    ")"
   ]
  },
  {
   "cell_type": "markdown",
   "metadata": {},
   "source": [
    "## Read force field"
   ]
  },
  {
   "cell_type": "markdown",
   "metadata": {},
   "source": [
    "### Read ff with LB mixing rule"
   ]
  },
  {
   "cell_type": "code",
   "execution_count": 21,
   "metadata": {},
   "outputs": [],
   "source": [
    "uff = pd.read_csv(\"ff_data/uff.csv\")"
   ]
  },
  {
   "cell_type": "code",
   "execution_count": 22,
   "metadata": {},
   "outputs": [
    {
     "data": {
      "text/html": [
       "<div>\n",
       "<style scoped>\n",
       "    .dataframe tbody tr th:only-of-type {\n",
       "        vertical-align: middle;\n",
       "    }\n",
       "\n",
       "    .dataframe tbody tr th {\n",
       "        vertical-align: top;\n",
       "    }\n",
       "\n",
       "    .dataframe thead th {\n",
       "        text-align: right;\n",
       "    }\n",
       "</style>\n",
       "<table border=\"1\" class=\"dataframe\">\n",
       "  <thead>\n",
       "    <tr style=\"text-align: right;\">\n",
       "      <th></th>\n",
       "      <th>Unnamed: 0</th>\n",
       "      <th>element</th>\n",
       "      <th>epsilon</th>\n",
       "      <th>sigma</th>\n",
       "      <th>lb_sigma</th>\n",
       "      <th>lb_epsilon</th>\n",
       "    </tr>\n",
       "  </thead>\n",
       "  <tbody>\n",
       "    <tr>\n",
       "      <th>0</th>\n",
       "      <td>0</td>\n",
       "      <td>Ac</td>\n",
       "      <td>16.6080</td>\n",
       "      <td>3.0985</td>\n",
       "      <td>3.399618</td>\n",
       "      <td>82.30400</td>\n",
       "    </tr>\n",
       "    <tr>\n",
       "      <th>1</th>\n",
       "      <td>1</td>\n",
       "      <td>Ag</td>\n",
       "      <td>18.1178</td>\n",
       "      <td>2.8045</td>\n",
       "      <td>3.234314</td>\n",
       "      <td>83.05890</td>\n",
       "    </tr>\n",
       "    <tr>\n",
       "      <th>2</th>\n",
       "      <td>2</td>\n",
       "      <td>Al</td>\n",
       "      <td>254.1520</td>\n",
       "      <td>4.0082</td>\n",
       "      <td>3.866599</td>\n",
       "      <td>201.07600</td>\n",
       "    </tr>\n",
       "    <tr>\n",
       "      <th>3</th>\n",
       "      <td>3</td>\n",
       "      <td>Am</td>\n",
       "      <td>7.0458</td>\n",
       "      <td>3.0121</td>\n",
       "      <td>3.351885</td>\n",
       "      <td>77.52290</td>\n",
       "    </tr>\n",
       "    <tr>\n",
       "      <th>4</th>\n",
       "      <td>4</td>\n",
       "      <td>Ar</td>\n",
       "      <td>93.1052</td>\n",
       "      <td>3.4460</td>\n",
       "      <td>3.585189</td>\n",
       "      <td>120.55260</td>\n",
       "    </tr>\n",
       "    <tr>\n",
       "      <th>...</th>\n",
       "      <td>...</td>\n",
       "      <td>...</td>\n",
       "      <td>...</td>\n",
       "      <td>...</td>\n",
       "      <td>...</td>\n",
       "      <td>...</td>\n",
       "    </tr>\n",
       "    <tr>\n",
       "      <th>98</th>\n",
       "      <td>98</td>\n",
       "      <td>Xe</td>\n",
       "      <td>167.0861</td>\n",
       "      <td>3.9235</td>\n",
       "      <td>3.825527</td>\n",
       "      <td>157.54305</td>\n",
       "    </tr>\n",
       "    <tr>\n",
       "      <th>99</th>\n",
       "      <td>99</td>\n",
       "      <td>Y</td>\n",
       "      <td>36.2355</td>\n",
       "      <td>2.9801</td>\n",
       "      <td>3.334033</td>\n",
       "      <td>92.11775</td>\n",
       "    </tr>\n",
       "    <tr>\n",
       "      <th>100</th>\n",
       "      <td>100</td>\n",
       "      <td>Yb</td>\n",
       "      <td>114.7458</td>\n",
       "      <td>2.9890</td>\n",
       "      <td>3.339007</td>\n",
       "      <td>131.37290</td>\n",
       "    </tr>\n",
       "    <tr>\n",
       "      <th>101</th>\n",
       "      <td>101</td>\n",
       "      <td>Zn</td>\n",
       "      <td>62.4056</td>\n",
       "      <td>2.4616</td>\n",
       "      <td>3.030143</td>\n",
       "      <td>105.20280</td>\n",
       "    </tr>\n",
       "    <tr>\n",
       "      <th>102</th>\n",
       "      <td>102</td>\n",
       "      <td>Zr</td>\n",
       "      <td>34.7257</td>\n",
       "      <td>2.7832</td>\n",
       "      <td>3.222008</td>\n",
       "      <td>91.36285</td>\n",
       "    </tr>\n",
       "  </tbody>\n",
       "</table>\n",
       "<p>103 rows × 6 columns</p>\n",
       "</div>"
      ],
      "text/plain": [
       "     Unnamed: 0 element   epsilon   sigma  lb_sigma  lb_epsilon\n",
       "0             0      Ac   16.6080  3.0985  3.399618    82.30400\n",
       "1             1      Ag   18.1178  2.8045  3.234314    83.05890\n",
       "2             2      Al  254.1520  4.0082  3.866599   201.07600\n",
       "3             3      Am    7.0458  3.0121  3.351885    77.52290\n",
       "4             4      Ar   93.1052  3.4460  3.585189   120.55260\n",
       "..          ...     ...       ...     ...       ...         ...\n",
       "98           98      Xe  167.0861  3.9235  3.825527   157.54305\n",
       "99           99       Y   36.2355  2.9801  3.334033    92.11775\n",
       "100         100      Yb  114.7458  2.9890  3.339007   131.37290\n",
       "101         101      Zn   62.4056  2.4616  3.030143   105.20280\n",
       "102         102      Zr   34.7257  2.7832  3.222008    91.36285\n",
       "\n",
       "[103 rows x 6 columns]"
      ]
     },
     "execution_count": 22,
     "metadata": {},
     "output_type": "execute_result"
    }
   ],
   "source": [
    "uff"
   ]
  },
  {
   "cell_type": "code",
   "execution_count": 23,
   "metadata": {},
   "outputs": [],
   "source": [
    "ele_sigma = [uff[uff[\"element\"]==e][\"sigma\"].item() for e in ele]\n",
    "ele_epsilon = [uff[uff[\"element\"]==e][\"epsilon\"].item() for e in ele]"
   ]
  },
  {
   "cell_type": "code",
   "execution_count": 24,
   "metadata": {},
   "outputs": [],
   "source": [
    "ele_sigma_c = [(uff[uff[\"element\"]==e][\"sigma\"].item()+c_sigma)/2 for e in ele]\n",
    "ele_epsilon_c = [np.sqrt(uff[uff[\"element\"]==e][\"epsilon\"].item()*c_epsilon) for e in ele]"
   ]
  },
  {
   "cell_type": "code",
   "execution_count": 25,
   "metadata": {},
   "outputs": [],
   "source": [
    "ele_sigma_o = [(uff[uff[\"element\"]==e][\"sigma\"].item()+o_sigma)/2 for e in ele]\n",
    "ele_epsilon_o = [np.sqrt(uff[uff[\"element\"]==e][\"epsilon\"].item()*o_epsilon) for e in ele]"
   ]
  },
  {
   "cell_type": "markdown",
   "metadata": {},
   "source": [
    "# Calculate potentials"
   ]
  },
  {
   "cell_type": "code",
   "execution_count": 26,
   "metadata": {},
   "outputs": [],
   "source": [
    "poten_c = np.array([ele_epsilon_c*((ele_sigma_c/r)**6-(ele_sigma_c/r)**12) for r in distance_c])"
   ]
  },
  {
   "cell_type": "code",
   "execution_count": 32,
   "metadata": {},
   "outputs": [
    {
     "data": {
      "text/plain": [
       "(0.0, 100.0)"
      ]
     },
     "execution_count": 32,
     "metadata": {},
     "output_type": "execute_result"
    },
    {
     "data": {
      "image/png": "[encoded data removed]",
      "text/plain": [
       "<Figure size 432x288 with 1 Axes>"
      ]
     },
     "metadata": {
      "needs_background": "light"
     },
     "output_type": "display_data"
    }
   ],
   "source": [
    "plt.hist(poten_c.flatten(), bins=100)\n",
    "plt.ylim(0,100)"
   ]
  },
  {
   "cell_type": "code",
   "execution_count": 33,
   "metadata": {},
   "outputs": [
    {
     "data": {
      "text/plain": [
       "<matplotlib.collections.PathCollection at 0x7f52d2cfd4d0>"
      ]
     },
     "execution_count": 33,
     "metadata": {},
     "output_type": "execute_result"
    },
    {
     "data": {
      "image/png": "[encoded data removed]",
      "text/plain": [
       "<Figure size 432x288 with 1 Axes>"
      ]
     },
     "metadata": {
      "needs_background": "light"
     },
     "output_type": "display_data"
    }
   ],
   "source": [
    "plt.scatter(distance_c, poten_c)"
   ]
  },
  {
   "cell_type": "code",
   "execution_count": 27,
   "metadata": {},
   "outputs": [],
   "source": [
    "avg_poten_c = np.average(poten_c, axis=0)"
   ]
  },
  {
   "cell_type": "code",
   "execution_count": 28,
   "metadata": {},
   "outputs": [
    {
     "ename": "NameError",
     "evalue": "name 'avg_poten' is not defined",
     "output_type": "error",
     "traceback": [
      "\u001b[0;31m---------------------------------------------------------------------------\u001b[0m",
      "\u001b[0;31mNameError\u001b[0m                                 Traceback (most recent call last)",
      "\u001b[0;32m/tmp/ipykernel_2459828/1421185707.py\u001b[0m in \u001b[0;36m<module>\u001b[0;34m\u001b[0m\n\u001b[0;32m----> 1\u001b[0;31m \u001b[0mplt\u001b[0m\u001b[0;34m.\u001b[0m\u001b[0mhist\u001b[0m\u001b[0;34m(\u001b[0m\u001b[0mavg_poten\u001b[0m\u001b[0;34m,\u001b[0m \u001b[0mbins\u001b[0m\u001b[0;34m=\u001b[0m\u001b[0;36m100\u001b[0m\u001b[0;34m)\u001b[0m\u001b[0;34m\u001b[0m\u001b[0;34m\u001b[0m\u001b[0m\n\u001b[0m",
      "\u001b[0;31mNameError\u001b[0m: name 'avg_poten' is not defined"
     ]
    }
   ],
   "source": [
    "plt.hist(avg_poten, bins=100)"
   ]
  },
  {
   "cell_type": "markdown",
   "metadata": {},
   "source": [
    "## sum potential for C and O"
   ]
  },
  {
   "cell_type": "code",
   "execution_count": 29,
   "metadata": {},
   "outputs": [],
   "source": [
    "poten_o1 = np.array([ele_epsilon_o*((ele_sigma_o/r)**6-(ele_sigma_o/r)**12) for r in distance_o1])\n",
    "poten_o2 = np.array([ele_epsilon_o*((ele_sigma_o/r)**6-(ele_sigma_o/r)**12) for r in distance_o2])"
   ]
  },
  {
   "cell_type": "code",
   "execution_count": 30,
   "metadata": {},
   "outputs": [],
   "source": [
    "avg_poten_o1 = np.average(poten_o1, axis=0)\n",
    "avg_poten_o2 = np.average(poten_o2, axis=0)"
   ]
  },
  {
   "cell_type": "code",
   "execution_count": 31,
   "metadata": {},
   "outputs": [],
   "source": [
    "avg_poten = np.array([-(c+o1+o2) for c, o1, o2 in zip(avg_poten_c, avg_poten_o1, avg_poten_o2)])"
   ]
  },
  {
   "cell_type": "code",
   "execution_count": 32,
   "metadata": {},
   "outputs": [
    {
     "data": {
      "text/plain": [
       "(array([  2.,   0.,   0.,   1.,   0.,   0.,   0.,   0.,   0.,   0.,   0.,\n",
       "          1.,   0.,   2.,   0.,   0.,   0.,   0.,   0.,   0.,   0.,   0.,\n",
       "          0.,   0.,   0.,   0.,   0.,   0.,   0.,   0.,   0.,   0.,   0.,\n",
       "          0.,   0.,   0.,   0.,   0.,   0.,   1.,   1.,   0.,   0.,   1.,\n",
       "          0.,   0.,   0.,   2.,   3.,   1.,   1.,   2.,   0.,   0.,   2.,\n",
       "          1.,   0.,   0.,   0.,   0.,   3.,   4.,   4.,   0.,   2.,   2.,\n",
       "          4.,   4.,   3.,   2.,   5.,   6.,   2.,   4.,   6.,   6.,   4.,\n",
       "          9.,   5.,   7.,  14.,  13.,  17.,  13.,  12.,  36.,  25.,  40.,\n",
       "         42.,  44.,  44.,  59.,  85.,  93.,  80., 163., 180., 281., 276.,\n",
       "        300.]),\n",
       " array([-7.18166243, -7.11007772, -7.03849302, -6.96690831, -6.89532361,\n",
       "        -6.8237389 , -6.7521542 , -6.68056949, -6.60898479, -6.53740008,\n",
       "        -6.46581538, -6.39423067, -6.32264597, -6.25106126, -6.17947655,\n",
       "        -6.10789185, -6.03630714, -5.96472244, -5.89313773, -5.82155303,\n",
       "        -5.74996832, -5.67838362, -5.60679891, -5.53521421, -5.4636295 ,\n",
       "        -5.3920448 , -5.32046009, -5.24887539, -5.17729068, -5.10570598,\n",
       "        -5.03412127, -4.96253656, -4.89095186, -4.81936715, -4.74778245,\n",
       "        -4.67619774, -4.60461304, -4.53302833, -4.46144363, -4.38985892,\n",
       "        -4.31827422, -4.24668951, -4.17510481, -4.1035201 , -4.0319354 ,\n",
       "        -3.96035069, -3.88876599, -3.81718128, -3.74559657, -3.67401187,\n",
       "        -3.60242716, -3.53084246, -3.45925775, -3.38767305, -3.31608834,\n",
       "        -3.24450364, -3.17291893, -3.10133423, -3.02974952, -2.95816482,\n",
       "        -2.88658011, -2.81499541, -2.7434107 , -2.671826  , -2.60024129,\n",
       "        -2.52865658, -2.45707188, -2.38548717, -2.31390247, -2.24231776,\n",
       "        -2.17073306, -2.09914835, -2.02756365, -1.95597894, -1.88439424,\n",
       "        -1.81280953, -1.74122483, -1.66964012, -1.59805542, -1.52647071,\n",
       "        -1.45488601, -1.3833013 , -1.31171659, -1.24013189, -1.16854718,\n",
       "        -1.09696248, -1.02537777, -0.95379307, -0.88220836, -0.81062366,\n",
       "        -0.73903895, -0.66745425, -0.59586954, -0.52428484, -0.45270013,\n",
       "        -0.38111543, -0.30953072, -0.23794602, -0.16636131, -0.0947766 ,\n",
       "        -0.0231919 ]),\n",
       " <BarContainer object of 100 artists>)"
      ]
     },
     "execution_count": 32,
     "metadata": {},
     "output_type": "execute_result"
    },
    {
     "data": {
      "image/png": "[encoded data removed]",
      "text/plain": [
       "<Figure size 432x288 with 1 Axes>"
      ]
     },
     "metadata": {
      "needs_background": "light"
     },
     "output_type": "display_data"
    }
   ],
   "source": [
    "plt.hist(avg_poten, bins=100)"
   ]
  },
  {
   "cell_type": "markdown",
   "metadata": {},
   "source": [
    "# potential normalization"
   ]
  },
  {
   "cell_type": "markdown",
   "metadata": {},
   "source": [
    "## map avg_potential to one unit cell"
   ]
  },
  {
   "cell_type": "code",
   "execution_count": 33,
   "metadata": {},
   "outputs": [],
   "source": [
    "num_uc = sc[0] * sc[1] * sc[2]\n",
    "num_at = int(len(pos) / num_uc)"
   ]
  },
  {
   "cell_type": "code",
   "execution_count": 34,
   "metadata": {},
   "outputs": [],
   "source": [
    "for i in range(num_uc):\n",
    "    if i == 0:\n",
    "        poten_uc = avg_poten[0:num_at]\n",
    "    else:\n",
    "        poten_uc += avg_poten[i*num_at:(i+1)*num_at]\n",
    "poten_uc /= num_uc"
   ]
  },
  {
   "cell_type": "code",
   "execution_count": 35,
   "metadata": {},
   "outputs": [],
   "source": [
    "from sklearn.preprocessing import MinMaxScaler"
   ]
  },
  {
   "cell_type": "code",
   "execution_count": 36,
   "metadata": {},
   "outputs": [],
   "source": [
    "scaler = MinMaxScaler()\n",
    "poten_norm = scaler.fit_transform(poten_uc.reshape(-1, 1))"
   ]
  },
  {
   "cell_type": "code",
   "execution_count": 37,
   "metadata": {},
   "outputs": [
    {
     "data": {
      "text/plain": [
       "(array([ 2.,  0.,  0.,  1.,  0.,  1.,  2.,  0.,  0.,  0.,  0.,  0.,  0.,\n",
       "         0.,  0.,  0.,  0.,  0.,  0.,  0.,  0.,  0.,  0.,  0.,  0.,  0.,\n",
       "         0.,  0.,  0.,  0.,  0.,  0.,  0.,  0.,  0.,  0.,  1.,  1.,  1.,\n",
       "         0.,  0.,  0.,  0.,  0.,  0.,  0.,  0.,  0.,  0.,  0.,  0.,  0.,\n",
       "         2.,  1.,  0.,  0.,  0.,  0.,  0.,  0.,  0.,  0.,  3.,  4.,  4.,\n",
       "         4.,  0.,  3.,  0.,  0.,  2.,  2.,  5.,  3.,  3.,  5.,  5., 10.,\n",
       "         6.,  4.,  3.,  5., 10., 10.,  7.,  8., 23., 10., 17.,  3.,  6.,\n",
       "        27., 25., 18., 26., 52., 36., 32., 29., 58.]),\n",
       " array([0.  , 0.01, 0.02, 0.03, 0.04, 0.05, 0.06, 0.07, 0.08, 0.09, 0.1 ,\n",
       "        0.11, 0.12, 0.13, 0.14, 0.15, 0.16, 0.17, 0.18, 0.19, 0.2 , 0.21,\n",
       "        0.22, 0.23, 0.24, 0.25, 0.26, 0.27, 0.28, 0.29, 0.3 , 0.31, 0.32,\n",
       "        0.33, 0.34, 0.35, 0.36, 0.37, 0.38, 0.39, 0.4 , 0.41, 0.42, 0.43,\n",
       "        0.44, 0.45, 0.46, 0.47, 0.48, 0.49, 0.5 , 0.51, 0.52, 0.53, 0.54,\n",
       "        0.55, 0.56, 0.57, 0.58, 0.59, 0.6 , 0.61, 0.62, 0.63, 0.64, 0.65,\n",
       "        0.66, 0.67, 0.68, 0.69, 0.7 , 0.71, 0.72, 0.73, 0.74, 0.75, 0.76,\n",
       "        0.77, 0.78, 0.79, 0.8 , 0.81, 0.82, 0.83, 0.84, 0.85, 0.86, 0.87,\n",
       "        0.88, 0.89, 0.9 , 0.91, 0.92, 0.93, 0.94, 0.95, 0.96, 0.97, 0.98,\n",
       "        0.99, 1.  ]),\n",
       " <BarContainer object of 100 artists>)"
      ]
     },
     "execution_count": 37,
     "metadata": {},
     "output_type": "execute_result"
    },
    {
     "data": {
      "image/png": "[encoded data removed]",
      "text/plain": [
       "<Figure size 432x288 with 1 Axes>"
      ]
     },
     "metadata": {
      "needs_background": "light"
     },
     "output_type": "display_data"
    }
   ],
   "source": [
    "plt.hist(poten_norm, bins=100)"
   ]
  },
  {
   "cell_type": "markdown",
   "metadata": {},
   "source": [
    "# Visulization"
   ]
  },
  {
   "cell_type": "code",
   "execution_count": 38,
   "metadata": {},
   "outputs": [],
   "source": [
    "from ase_notebook import AseView, ViewConfig"
   ]
  },
  {
   "cell_type": "code",
   "execution_count": 39,
   "metadata": {},
   "outputs": [],
   "source": [
    "cif = Structure.from_file(\"nvt_results/%s/%s.cif\" %(structure, structure))"
   ]
  },
  {
   "cell_type": "code",
   "execution_count": 40,
   "metadata": {},
   "outputs": [],
   "source": [
    "cif.add_site_property(\"weight\", poten_norm.reshape(-1,))"
   ]
  },
  {
   "cell_type": "code",
   "execution_count": 41,
   "metadata": {},
   "outputs": [],
   "source": [
    "config = ViewConfig()\n",
    "config.atom_font_size=10\n",
    "config.axes_length=30\n",
    "config.canvas_size=(500, 500)\n",
    "config.zoom=1.2\n",
    "config.show_bonds=True\n",
    "config.atom_color_by = \"value_array\"\n",
    "config.atom_color_array = \"weight\"\n",
    "config.atom_colormap = \"Greens\"\n",
    "config.atom_colormap_range = (0, 1)"
   ]
  },
  {
   "cell_type": "code",
   "execution_count": 42,
   "metadata": {},
   "outputs": [
    {
     "name": "stdout",
     "output_type": "stream",
     "text": [
      "get_element_radii\n"
     ]
    },
    {
     "name": "stderr",
     "output_type": "stream",
     "text": [
      "/home/xiaoqi/anaconda3/envs/ml/lib/python3.7/site-packages/jupyter_client/session.py:716: UserWarning: Message serialization failed with:\n",
      "Out of range float values are not JSON compliant\n",
      "Supporting this message is deprecated in jupyter-client 7, please make sure your message is JSON-compliant\n",
      "  content = self.pack(content)\n"
     ]
    },
    {
     "data": {
      "application/vnd.jupyter.widget-view+json": {
       "model_id": "0eb0ab853e834782ad1c9cd9a07a0946",
       "version_major": 2,
       "version_minor": 0
      },
      "text/plain": [
       "GridspecLayout(children=(Renderer(camera=PerspectiveCamera(fov=10.0, position=(0.0, 0.0, 266.1132862165919), p…"
      ]
     },
     "metadata": {},
     "output_type": "display_data"
    }
   ],
   "source": [
    "ase_view = AseView(config)\n",
    "gui = ase_view.make_render(\n",
    "    cif, center_in_uc=True)\n",
    "gui"
   ]
  },
  {
   "cell_type": "code",
   "execution_count": null,
   "metadata": {},
   "outputs": [],
   "source": [
    "distance_c.shape"
   ]
  },
  {
   "cell_type": "code",
   "execution_count": null,
   "metadata": {},
   "outputs": [],
   "source": []
  }
 ],
 "metadata": {
  "kernelspec": {
   "display_name": "Python 3.7.5 ('ml')",
   "language": "python",
   "name": "python3"
  },
  "language_info": {
   "codemirror_mode": {
    "name": "ipython",
    "version": 3
   },
   "file_extension": ".py",
   "mimetype": "text/x-python",
   "name": "python",
   "nbconvert_exporter": "python",
   "pygments_lexer": "ipython3",
   "version": "3.7.5"
  },
  "vscode": {
   "interpreter": {
    "hash": "d48191cd2a5fbdbfad76bd510861083e972cc391c91f9dce5a73ba93bdfff579"
   }
  }
 },
 "nbformat": 4,
 "nbformat_minor": 2
}
