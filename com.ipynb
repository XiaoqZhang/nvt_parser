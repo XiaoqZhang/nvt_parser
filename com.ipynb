{
 "cells": [
  {
   "cell_type": "code",
   "execution_count": 5,
   "metadata": {},
   "outputs": [],
   "source": [
    "import json\n",
    "import os\n",
    "import numpy as np\n",
    "from scipy import stats"
   ]
  },
  {
   "cell_type": "code",
   "execution_count": 2,
   "metadata": {},
   "outputs": [],
   "source": [
    "structure = os.listdir(\"nvt_results\")"
   ]
  },
  {
   "cell_type": "code",
   "execution_count": 15,
   "metadata": {},
   "outputs": [],
   "source": [
    "corr = []\n",
    "for struc in structure:\n",
    "    with open(\"parse_results/weight_json/%s_12.json\" %struc) as file:\n",
    "        weight_dc_h = json.load(file)\n",
    "    with open(\"parse_results/weight_json/%s_15.json\" %struc) as file:\n",
    "        weight_dc_l = json.load(file)\n",
    "    w_h = [weight_dc_h[i] for i in weight_dc_h]\n",
    "    w_l = [weight_dc_l[i] for i in weight_dc_l]\n",
    "    corr.append(stats.spearmanr(w_h, w_l)[0])"
   ]
  },
  {
   "cell_type": "code",
   "execution_count": 7,
   "metadata": {},
   "outputs": [],
   "source": [
    "corr_20 = corr"
   ]
  },
  {
   "cell_type": "code",
   "execution_count": 10,
   "metadata": {},
   "outputs": [],
   "source": [
    "corr_8 = corr"
   ]
  },
  {
   "cell_type": "code",
   "execution_count": 16,
   "metadata": {},
   "outputs": [],
   "source": [
    "corr_15 = corr"
   ]
  },
  {
   "cell_type": "code",
   "execution_count": 18,
   "metadata": {},
   "outputs": [
    {
     "data": {
      "text/plain": [
       "<matplotlib.legend.Legend at 0x7fcb61853be0>"
      ]
     },
     "execution_count": 18,
     "metadata": {},
     "output_type": "execute_result"
    },
    {
     "data": {
      "image/png": "[encoded data removed]",
      "text/plain": [
       "<Figure size 432x288 with 1 Axes>"
      ]
     },
     "metadata": {
      "needs_background": "light"
     },
     "output_type": "display_data"
    }
   ],
   "source": [
    "import matplotlib.pyplot as plt\n",
    "plt.scatter(np.arange(len(structure)), corr_20, marker=\"o\", label=\"cutoff: 20 vs 12\")\n",
    "plt.scatter(np.arange(len(structure)), corr_15, marker=\"d\", label=\"cutoff: 15 vs 12\")\n",
    "plt.scatter(np.arange(len(structure)), corr_8, marker=\"^\", label=\"cutoff: 8 vs 12\")\n",
    "plt.xlabel(\"Structure\")\n",
    "plt.ylabel(\"Spearman coefficient\")\n",
    "plt.legend()"
   ]
  },
  {
   "cell_type": "code",
   "execution_count": 14,
   "metadata": {},
   "outputs": [
    {
     "data": {
      "text/plain": [
       "['ABEXEM_clean',\n",
       " 'ABAVIJ_clean',\n",
       " 'ja5b00450_si_006_clean',\n",
       " 'XOPKOD_clean',\n",
       " 'ABEFUL_clean',\n",
       " 'ja403810k_si_003_clean',\n",
       " 'XUBJAF01_clean',\n",
       " 'XIMPOA01_clean',\n",
       " 'ja808995d_si_002_clean',\n",
       " 'XODNUB_clean',\n",
       " 'JAFPIQ_clean',\n",
       " 'ABESUX_clean',\n",
       " 'ABAYOU_clean',\n",
       " 'ABAYIO_clean']"
      ]
     },
     "execution_count": 14,
     "metadata": {},
     "output_type": "execute_result"
    }
   ],
   "source": [
    "structure"
   ]
  },
  {
   "cell_type": "code",
   "execution_count": null,
   "metadata": {},
   "outputs": [],
   "source": []
  }
 ],
 "metadata": {
  "kernelspec": {
   "display_name": "Python 3.8.12 ('ml')",
   "language": "python",
   "name": "python3"
  },
  "language_info": {
   "codemirror_mode": {
    "name": "ipython",
    "version": 3
   },
   "file_extension": ".py",
   "mimetype": "text/x-python",
   "name": "python",
   "nbconvert_exporter": "python",
   "pygments_lexer": "ipython3",
   "version": "3.8.12"
  },
  "orig_nbformat": 4,
  "vscode": {
   "interpreter": {
    "hash": "8a1315b02a235bf79c68e093ca5453b5ada46ae87871d36c79602fa05a1f3eef"
   }
  }
 },
 "nbformat": 4,
 "nbformat_minor": 2
}
