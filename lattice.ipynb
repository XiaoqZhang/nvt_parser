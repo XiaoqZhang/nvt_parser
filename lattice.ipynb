{
 "cells": [
  {
   "cell_type": "code",
   "execution_count": 3,
   "metadata": {},
   "outputs": [],
   "source": [
    "import os\n",
    "import re\n",
    "import numpy as np \n",
    "import pandas as pd\n",
    "import math\n",
    "\n",
    "from pymatgen.core import Structure, PeriodicSite\n",
    "\n",
    "import matplotlib.pyplot as plt\n",
    "import seaborn as sns"
   ]
  },
  {
   "cell_type": "markdown",
   "metadata": {},
   "source": [
    "# Define structure"
   ]
  },
  {
   "cell_type": "code",
   "execution_count": 4,
   "metadata": {},
   "outputs": [],
   "source": [
    "structure_list = ['ABAVIJ_clean']"
   ]
  },
  {
   "cell_type": "code",
   "execution_count": 5,
   "metadata": {},
   "outputs": [],
   "source": [
    "for structure in structure_list:\n",
    "    structure = structure "
   ]
  },
  {
   "cell_type": "code",
   "execution_count": 6,
   "metadata": {},
   "outputs": [],
   "source": [
    "def get_supercell(structure):\n",
    "    with open(\"nvt_results/%s/simulation.input\" %structure, \"r\") as f_input:\n",
    "        for line in f_input:\n",
    "            if re.search(\"UnitCells\", line):\n",
    "                s1, s2, s3 = line.split()[1], line.split()[2], line.split()[3]\n",
    "    supercell = [int(s1), int(s2), int(s3)]\n",
    "    return supercell"
   ]
  },
  {
   "cell_type": "code",
   "execution_count": 7,
   "metadata": {},
   "outputs": [],
   "source": [
    "sc = get_supercell(structure)"
   ]
  },
  {
   "cell_type": "markdown",
   "metadata": {},
   "source": [
    "# Lattice from different output"
   ]
  },
  {
   "cell_type": "code",
   "execution_count": 8,
   "metadata": {},
   "outputs": [],
   "source": [
    "# input cif, unit cell\n",
    "cry_cif = Structure.from_file(\"nvt_results/%s/%s.cif\" %(structure, structure))"
   ]
  },
  {
   "cell_type": "code",
   "execution_count": 9,
   "metadata": {},
   "outputs": [
    {
     "name": "stderr",
     "output_type": "stream",
     "text": [
      "/home/xiaoqi/anaconda/lib/python3.9/site-packages/pymatgen/io/cif.py:669: UserWarning: A 1-line symmetry op P1 CIF is detected!\n",
      "  warnings.warn(msg)\n",
      "/home/xiaoqi/anaconda/lib/python3.9/site-packages/pymatgen/io/cif.py:1155: UserWarning: Issues encountered while parsing CIF: A 1-line symmetry op P1 CIF is detected!\n",
      "  warnings.warn(\"Issues encountered while parsing CIF: \" + \"\\n\".join(self.warnings))\n"
     ]
    }
   ],
   "source": [
    "# output cif, supercell\n",
    "sp_cry = Structure.from_file(\"nvt_results/%s/Movies/System_0/Framework_0_final_%s_%s_%s_P1.cif\" %(structure, sc[0], sc[1], sc[2]))"
   ]
  },
  {
   "cell_type": "code",
   "execution_count": 10,
   "metadata": {},
   "outputs": [],
   "source": [
    "# output vasp, supercell \n",
    "final_cry =  Structure.from_file(\"nvt_results/%s/Movies/System_0/Framework_0_final.vasp\" %structure)"
   ]
  },
  {
   "cell_type": "markdown",
   "metadata": {},
   "source": [
    "## Comparison"
   ]
  },
  {
   "cell_type": "code",
   "execution_count": 11,
   "metadata": {},
   "outputs": [
    {
     "data": {
      "text/plain": [
       "Lattice\n",
       "    abc : 9.806399999999998 10.6685 13.9712\n",
       " angles : 95.30240000000002 110.54600000000002 74.7329\n",
       " volume : 1320.3832557017195\n",
       "      A : 9.182621985018018 0.0 -3.441647053412613\n",
       "      B : 2.630535822739987 10.291995607170083 -0.9859005818404675\n",
       "      C : 0.0 0.0 13.9712"
      ]
     },
     "execution_count": 11,
     "metadata": {},
     "output_type": "execute_result"
    }
   ],
   "source": [
    "cry_cif.lattice"
   ]
  },
  {
   "cell_type": "code",
   "execution_count": 12,
   "metadata": {},
   "outputs": [
    {
     "data": {
      "text/plain": [
       "Lattice\n",
       "    abc : 29.4192 32.0055 27.9424\n",
       " angles : 95.30240000000002 110.546 74.7329\n",
       " volume : 23766.89860263095\n",
       "      A : 27.547865955054057 0.0 -10.32494116023784\n",
       "      B : 7.891607468219961 30.875986821510246 -2.9577017455214025\n",
       "      C : 0.0 0.0 27.9424"
      ]
     },
     "execution_count": 12,
     "metadata": {},
     "output_type": "execute_result"
    }
   ],
   "source": [
    "sp_cry.lattice"
   ]
  },
  {
   "cell_type": "code",
   "execution_count": 13,
   "metadata": {},
   "outputs": [
    {
     "data": {
      "text/plain": [
       "Lattice\n",
       "    abc : 29.4192 32.0055 27.942399999985504\n",
       " angles : 95.30240000000276 110.54600000001115 74.7329\n",
       " volume : 23766.898602616893\n",
       "      A : 29.4192 0.0 0.0\n",
       "      B : 8.427660888007434 30.875986821585958 0.0\n",
       "      C : -9.8066445000486 5.79428151047e-05 26.1650041354"
      ]
     },
     "execution_count": 13,
     "metadata": {},
     "output_type": "execute_result"
    }
   ],
   "source": [
    "final_cry.lattice"
   ]
  },
  {
   "cell_type": "markdown",
   "metadata": {},
   "source": [
    "- ABC(cry_cif) == ABC(sp_cry)/sc.\n",
    "- ABC(sp_cry) != ABC(final_cry). \n",
    "\n",
    "- ABC(final_cry) is from Movies/System_0/Framework_0_final.vasp,  \\\n",
    "    \"\"\" \\\n",
    "    ABAVIJ_clean  \\\n",
    "    1.000000    \\\n",
    "    29.4192000000000000   0.0000000000000000         0.0000000000   \\\n",
    "    8.4276608880074342  30.8759868215859576         0.0000000000    \\\n",
    "    -9.8066445000486002   0.0000579428151047        26.1650041354   \\\n",
    "    \"\"\""
   ]
  },
  {
   "cell_type": "markdown",
   "metadata": {},
   "source": [
    "# Matrix effect on coordinates"
   ]
  },
  {
   "cell_type": "code",
   "execution_count": 14,
   "metadata": {},
   "outputs": [
    {
     "data": {
      "text/plain": [
       "PeriodicSite: Co (9.0437, 3.9516, 7.0598) [0.2916, 0.1280, 0.3740]"
      ]
     },
     "execution_count": 14,
     "metadata": {},
     "output_type": "execute_result"
    }
   ],
   "source": [
    "sp_cry.sites[1]"
   ]
  },
  {
   "cell_type": "code",
   "execution_count": 15,
   "metadata": {},
   "outputs": [
    {
     "data": {
      "text/plain": [
       "PeriodicSite: Co (5.9907, 3.9516, 9.7847) [0.2916, 0.1280, 0.3740]"
      ]
     },
     "execution_count": 15,
     "metadata": {},
     "output_type": "execute_result"
    }
   ],
   "source": [
    "final_cry.sites[1]"
   ]
  },
  {
   "cell_type": "markdown",
   "metadata": {},
   "source": [
    "# Gas molecule positions"
   ]
  },
  {
   "cell_type": "code",
   "execution_count": 16,
   "metadata": {},
   "outputs": [],
   "source": [
    "with open(\"nvt_results/%s/Movies/System_0/Movie_%s_%d.%d.%d_298.000000_0.000000_allcomponents.pdb\" %(structure, structure, sc[0], sc[1], sc[2])) as file:\n",
    "    data = file.readlines()\n",
    "    atom_pos = np.array([np.array([float(i) for i in line.split()[4:7]]) for line in data if \"ATOM\" in line])"
   ]
  },
  {
   "cell_type": "code",
   "execution_count": 17,
   "metadata": {},
   "outputs": [
    {
     "data": {
      "text/plain": [
       "array([18.475, 14.052,  3.122])"
      ]
     },
     "execution_count": 17,
     "metadata": {},
     "output_type": "execute_result"
    }
   ],
   "source": [
    "# This is Cartesian coordinates\n",
    "atom_pos[0]"
   ]
  },
  {
   "cell_type": "markdown",
   "metadata": {},
   "source": [
    "# Atoms in sphere step by step"
   ]
  },
  {
   "cell_type": "markdown",
   "metadata": {},
   "source": [
    "## cif lattice"
   ]
  },
  {
   "cell_type": "code",
   "execution_count": 18,
   "metadata": {},
   "outputs": [
    {
     "data": {
      "text/plain": [
       "[PeriodicSite: O (22.6933, 25.7629, 3.1170) [1.7542, 2.5032, 0.8319],\n",
       " PeriodicSite: C (21.6487, 26.0748, 3.7309) [1.6318, 2.5335, 0.8478],\n",
       " PeriodicSite: Co (23.4874, 24.5356, 1.6463) [1.8749, 2.3840, 0.7479]]"
      ]
     },
     "execution_count": 18,
     "metadata": {},
     "output_type": "execute_result"
    }
   ],
   "source": [
    "cry_cif.get_sites_in_sphere(pt=atom_pos[5], r=2)"
   ]
  },
  {
   "cell_type": "markdown",
   "metadata": {},
   "source": [
    "# vasp lattice"
   ]
  },
  {
   "cell_type": "code",
   "execution_count": 23,
   "metadata": {},
   "outputs": [
    {
     "data": {
      "text/plain": [
       "[PeriodicSite: H (22.5765, 26.8817, 5.4319) [0.5872, 0.8706, 0.2076]]"
      ]
     },
     "execution_count": 23,
     "metadata": {},
     "output_type": "execute_result"
    }
   ],
   "source": [
    "final_cry.get_sites_in_sphere(pt=atom_pos[5], r=3.5)"
   ]
  },
  {
   "cell_type": "code",
   "execution_count": 24,
   "metadata": {},
   "outputs": [
    {
     "data": {
      "text/plain": [
       "[PeriodicSite: H (22.5765, 26.8817, 5.4319) [0.5872, 0.8706, 0.2076],\n",
       " PeriodicSite: H (25.8880, 25.5519, 4.8458) [0.7046, 0.8276, 0.1852]]"
      ]
     },
     "execution_count": 24,
     "metadata": {},
     "output_type": "execute_result"
    }
   ],
   "source": [
    "final_cry.get_sites_in_sphere(pt=atom_pos[5], r=3.7)"
   ]
  },
  {
   "cell_type": "code",
   "execution_count": 25,
   "metadata": {},
   "outputs": [
    {
     "data": {
      "text/plain": [
       "[PeriodicSite: C (22.2040, 21.7696, 0.7549) [0.5624, 0.7051, 0.0289],\n",
       " PeriodicSite: C (22.1464, 28.0004, 0.7899) [0.5031, 0.9069, 0.0302],\n",
       " PeriodicSite: O (21.2751, 28.2968, 3.7398) [0.5083, 0.9165, 0.1429],\n",
       " PeriodicSite: C (21.8496, 26.6974, 6.0143) [0.5716, 0.8647, 0.2299],\n",
       " PeriodicSite: H (22.5765, 26.8817, 5.4319) [0.5872, 0.8706, 0.2076],\n",
       " PeriodicSite: N (23.1715, 28.4543, 1.5317) [0.5431, 0.9216, 0.0585],\n",
       " PeriodicSite: H (25.8880, 25.5519, 4.8458) [0.7046, 0.8276, 0.1852]]"
      ]
     },
     "execution_count": 25,
     "metadata": {},
     "output_type": "execute_result"
    }
   ],
   "source": [
    "final_cry.get_sites_in_sphere(pt=atom_pos[5], r=3.9)"
   ]
  },
  {
   "cell_type": "code",
   "execution_count": null,
   "metadata": {},
   "outputs": [],
   "source": []
  }
 ],
 "metadata": {
  "kernelspec": {
   "display_name": "Python 3.9.7 ('base')",
   "language": "python",
   "name": "python3"
  },
  "language_info": {
   "codemirror_mode": {
    "name": "ipython",
    "version": 3
   },
   "file_extension": ".py",
   "mimetype": "text/x-python",
   "name": "python",
   "nbconvert_exporter": "python",
   "pygments_lexer": "ipython3",
   "version": "3.9.7"
  },
  "orig_nbformat": 4,
  "vscode": {
   "interpreter": {
    "hash": "dd46cdf66bb2ac137bf4deb3eb6dcaa066bdb49654ba05aad5c914c136d48449"
   }
  }
 },
 "nbformat": 4,
 "nbformat_minor": 2
}
